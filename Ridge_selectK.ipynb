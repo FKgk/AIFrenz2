{
 "cells": [
  {
   "cell_type": "code",
   "execution_count": 11,
   "metadata": {},
   "outputs": [],
   "source": [
    "import os\n",
    "import numpy as np\n",
    "import matplotlib.pyplot as plt\n",
    "\n",
    "from sklearn.metrics import mean_squared_error, mean_absolute_error, f1_score, make_scorer\n",
    "from sklearn.linear_model import Ridge\n",
    "from sklearn.model_selection import train_test_split, KFold\n",
    "from sklearn.preprocessing import StandardScaler, RobustScaler\n",
    "from sklearn.decomposition import PCA\n",
    "from sklearn.ensemble import RandomForestRegressor\n",
    "\n",
    "# from sklearn.feature_selection import SelectKBest, f_regression"
   ]
  },
  {
   "cell_type": "code",
   "execution_count": 3,
   "metadata": {},
   "outputs": [],
   "source": [
    "np.random.seed(7)"
   ]
  },
  {
   "cell_type": "markdown",
   "metadata": {},
   "source": [
    "# metrics"
   ]
  },
  {
   "cell_type": "code",
   "execution_count": 4,
   "metadata": {},
   "outputs": [],
   "source": [
    "def mae(y_true, y_pred) :\n",
    "    y_true, y_pred = np.array(y_true), np.array(y_pred)\n",
    "    \n",
    "    y_true = y_true.reshape(1, -1)[0]\n",
    "    y_pred = y_pred.reshape(1, -1)[0]\n",
    "    over_threshold = y_true >= 0.1\n",
    "    \n",
    "    return np.mean(np.abs(y_true[over_threshold] - y_pred[over_threshold]))\n",
    "\n",
    "def fscore(y_true, y_pred):\n",
    "    y_true, y_pred = np.array(y_true), np.array(y_pred)\n",
    "    \n",
    "    y_true = y_true.reshape(1, -1)[0]\n",
    "    y_pred = y_pred.reshape(1, -1)[0]\n",
    "    remove_NAs = y_true >= 0\n",
    "    \n",
    "    y_true = np.where(y_true[remove_NAs] >= 0.1, 1, 0)\n",
    "    y_pred = np.where(y_pred[remove_NAs] >= 0.1, 1, 0)\n",
    "    \n",
    "    return (f1_score(y_true, y_pred))\n",
    "\n",
    "def maeOverFscore(y_true, y_pred):\n",
    "    return mae(y_true, y_pred) / (fscore(y_true, y_pred) + 1e-07)\n",
    "\n",
    "def score(y_val, pred):\n",
    "    f_value = fscore(y_val, pred)\n",
    "    mae_value = maeOverFscore(y_val, pred)\n",
    "    \n",
    "    print(f\"fscore : {f_value} \\t maeOverFscore : {mae_value}\")\n",
    "    \n",
    "    return f_value, mae_value\n",
    "\n",
    "# fscore_sklearn = make_scorer(fscore)\n",
    "# maeOverFscore_sklearn = make_scorer(maeOverFscore)"
   ]
  },
  {
   "cell_type": "markdown",
   "metadata": {},
   "source": [
    "# data load"
   ]
  },
  {
   "cell_type": "code",
   "execution_count": 5,
   "metadata": {},
   "outputs": [],
   "source": [
    "base = os.getcwd()\n",
    "data_path = os.path.join(base, 'data')\n",
    "submit_path = os.path.join(base, 'submit')\n",
    "\n",
    "def load_data(name):\n",
    "    return np.load(os.path.join(data_path, f\"{name}.npy\"))\n",
    "\n",
    "def load(name):\n",
    "    if name == \"test\" :\n",
    "        return load_data('x', 'test')\n",
    "    return (load_data(f'x_{name}'), load_data(f'y_{name}'))\n",
    "\n",
    "def reshape(data):\n",
    "    return data.reshape(data.shape[0] * 40 * 40, data.shape[-1])"
   ]
  },
  {
   "cell_type": "code",
   "execution_count": 6,
   "metadata": {},
   "outputs": [],
   "source": [
    "data = load_data('EDA')"
   ]
  },
  {
   "cell_type": "markdown",
   "metadata": {},
   "source": [
    "# Feature Selection"
   ]
  },
  {
   "cell_type": "markdown",
   "metadata": {},
   "source": [
    "## select K\n",
    "![img](feacture_selection.PNG)"
   ]
  },
  {
   "cell_type": "markdown",
   "metadata": {},
   "source": [
    "## selectK 7\n",
    "- [False, False,  True,  True,  True,  True,  True,  True, False, False, False, False, False, True]\n",
    "\n",
    "## selectK 8\n",
    "- [False, False,  True,  True,  True,  True,  True,  True, False, False, False, True, False, True]"
   ]
  },
  {
   "cell_type": "code",
   "execution_count": 7,
   "metadata": {},
   "outputs": [],
   "source": [
    "selectK_7 = [2, 3, 4, 5, 6, 7, 13]\n",
    "selectK_8 = [2, 3, 4, 5, 6, 7, 11, 13]"
   ]
  },
  {
   "cell_type": "markdown",
   "metadata": {},
   "source": [
    "# Seperate Data"
   ]
  },
  {
   "cell_type": "code",
   "execution_count": 8,
   "metadata": {},
   "outputs": [
    {
     "name": "stdout",
     "output_type": "stream",
     "text": [
      "(121608234, 8) (121608234,)\n"
     ]
    }
   ],
   "source": [
    "X = data[:, selectK_8]\n",
    "Y = data[:,  -1]\n",
    "\n",
    "del data\n",
    "print(X.shape, Y.shape)"
   ]
  },
  {
   "cell_type": "markdown",
   "metadata": {},
   "source": [
    "# Ridge + KFold"
   ]
  },
  {
   "cell_type": "code",
   "execution_count": 12,
   "metadata": {},
   "outputs": [],
   "source": [
    "def train(kfold, clf, scaler=None):\n",
    "    for (train_idx, val_idx) in kfold.split(Y):\n",
    "        x = X[train_idx, :]\n",
    "        \n",
    "        if scaler is not None:\n",
    "            x = scaler.fit_transform(x)\n",
    "\n",
    "        ridge = clf.fit(x, Y[train_idx])\n",
    "\n",
    "        del x\n",
    "        x = X[val_idx, :]\n",
    "\n",
    "        if scaler is not None:\n",
    "            x = scaler.transform(x)\n",
    "        \n",
    "        pred = clf.predict(x)\n",
    "        score(Y[val_idx], pred)\n",
    "\n",
    "        del x"
   ]
  },
  {
   "cell_type": "code",
   "execution_count": null,
   "metadata": {},
   "outputs": [],
   "source": [
    "kfold = KFold(n_splits=4, random_state=7, shuffle=True)\n",
    "clf = RandomForestRegressor(n_estimators=100, random_state=7)\n",
    "# clf = Ridge(alpha=10.0)\n",
    "# sclaer= PCA(n_components=2, random_state=7)\n",
    "\n",
    "train(kfold, clf)"
   ]
  },
  {
   "cell_type": "markdown",
   "metadata": {},
   "source": [
    "# Ridge alpha 12.5 SelectK 8\n",
    "- fscore : 0.25464065823329085 \t maeOverFscore : 6.752701127612951\n",
    "- fscore : 0.25458534451407944 \t maeOverFscore : 6.7528914220204515\n",
    "- fscore : 0.2545837754161434 \t maeOverFscore : 6.702930965930638\n",
    "- fscore : 0.25427823328070515 \t maeOverFscore : 6.747219104960767\n",
    "\n",
    "# Ridge alpha 10.0 SelectK 8\n",
    "- fscore : 0.25464065823329085 \t maeOverFscore : 6.752701129278926\n",
    "- fscore : 0.25458534451407944 \t maeOverFscore : 6.75289142477857\n",
    "- fscore : 0.2545837754161434 \t maeOverFscore : 6.70293096792134\n",
    "- fscore : 0.25427826739578746 \t maeOverFscore : 6.747218201741558\n",
    "\n",
    "# Ridge alpha 10.0 SelectK 8 StandardScaler\n",
    "- fscore : 0.2546402018844707 \t maeOverFscore : 6.752709268799811\n",
    "- fscore : 0.2545845515075978 \t maeOverFscore : 6.752907726649149\n",
    "- fscore : 0.2545843704403055 \t maeOverFscore : 6.702911044140701\n",
    "- fscore : 0.25427924623684933 \t maeOverFscore : 6.7471879931893675\n",
    "\n",
    "# Ridge alpha 10.0 SelectK 8 RobustScaler\n",
    "\n",
    "\n",
    "# Ridge alpha 10.0 SelectK 8 PCA\n",
    "- fscore : 0.24107474262012732 \t maeOverFscore : 8.224389019645066\n",
    "- fscore : 0.2410970325797045 \t maeOverFscore : 8.222939301354975\n",
    "- fscore : 0.24133791359125045 \t maeOverFscore : 8.159670908854318\n",
    "- fscore : 0.2408981513939592 \t maeOverFscore : 8.21528441818803\n",
    "\n",
    "# RandomForestRegressor SelectK\n",
    "\n"
   ]
  },
  {
   "cell_type": "markdown",
   "metadata": {},
   "source": [
    "# Submit"
   ]
  },
  {
   "cell_type": "code",
   "execution_count": 11,
   "metadata": {},
   "outputs": [],
   "source": [
    "def submit(clf, name, preprocess=None):\n",
    "    x_test = load('test')\n",
    "    x_test = reshape(x_test)\n",
    "    \n",
    "    if preprocess is not None:\n",
    "        x_test = preprocess.transform(x_test)\n",
    "        print(\"transform\")\n",
    "    \n",
    "    pred = clf.predict(x_test)\n",
    "\n",
    "    submission = pd.read_csv(os.path.join(data_path, 'sample_submission.csv'))\n",
    "    submission.iloc[:, 1:] = pred.reshape(-1, 1600)\n",
    "\n",
    "    submission.to_csv(os.path.join(submit_path, f'{name}.csv'), index = False)"
   ]
  },
  {
   "cell_type": "code",
   "execution_count": 20,
   "metadata": {},
   "outputs": [
    {
     "name": "stdout",
     "output_type": "stream",
     "text": [
      "transform\n"
     ]
    }
   ],
   "source": [
    "submit(ridge, 'new_Ridge_SelectK', selectK)"
   ]
  },
  {
   "cell_type": "markdown",
   "metadata": {},
   "source": [
    "- https://dacon.io/competitions/official/235591/mysubmission/\n",
    "- D:\\인공지능_공모전\\github\\submit"
   ]
  }
 ],
 "metadata": {
  "kernelspec": {
   "display_name": "Python 3",
   "language": "python",
   "name": "python3"
  },
  "language_info": {
   "codemirror_mode": {
    "name": "ipython",
    "version": 3
   },
   "file_extension": ".py",
   "mimetype": "text/x-python",
   "name": "python",
   "nbconvert_exporter": "python",
   "pygments_lexer": "ipython3",
   "version": "3.7.4"
  }
 },
 "nbformat": 4,
 "nbformat_minor": 2
}
