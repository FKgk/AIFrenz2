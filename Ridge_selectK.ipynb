{
 "cells": [
  {
   "cell_type": "code",
   "execution_count": 1,
   "metadata": {},
   "outputs": [],
   "source": [
    "import os\n",
    "import numpy as np\n",
    "import pandas as pd\n",
    "import matplotlib.pyplot as plt\n",
    "\n",
    "from sklearn.metrics import mean_squared_error, mean_absolute_error, f1_score, make_scorer\n",
    "from sklearn.linear_model import Ridge\n",
    "from sklearn.model_selection import KFold\n",
    "from sklearn.preprocessing import StandardScaler, RobustScaler\n",
    "from sklearn.decomposition import PCA\n",
    "\n",
    "# from sklearn.feature_selection import SelectKBest, f_regression"
   ]
  },
  {
   "cell_type": "code",
   "execution_count": 2,
   "metadata": {},
   "outputs": [],
   "source": [
    "np.random.seed(7)"
   ]
  },
  {
   "cell_type": "markdown",
   "metadata": {},
   "source": [
    "# metrics"
   ]
  },
  {
   "cell_type": "code",
   "execution_count": 3,
   "metadata": {},
   "outputs": [],
   "source": [
    "def mae(y_true, y_pred) :\n",
    "    y_true, y_pred = np.array(y_true), np.array(y_pred)\n",
    "    \n",
    "    y_true = y_true.reshape(1, -1)[0]\n",
    "    y_pred = y_pred.reshape(1, -1)[0]\n",
    "    over_threshold = y_true >= 0.1\n",
    "    \n",
    "    return np.mean(np.abs(y_true[over_threshold] - y_pred[over_threshold]))\n",
    "\n",
    "def fscore(y_true, y_pred):\n",
    "    y_true, y_pred = np.array(y_true), np.array(y_pred)\n",
    "    \n",
    "    y_true = y_true.reshape(1, -1)[0]\n",
    "    y_pred = y_pred.reshape(1, -1)[0]\n",
    "    remove_NAs = y_true >= 0\n",
    "    \n",
    "    y_true = np.where(y_true[remove_NAs] >= 0.1, 1, 0)\n",
    "    y_pred = np.where(y_pred[remove_NAs] >= 0.1, 1, 0)\n",
    "    \n",
    "    return (f1_score(y_true, y_pred))\n",
    "\n",
    "def maeOverFscore(y_true, y_pred):\n",
    "    return mae(y_true, y_pred) / (fscore(y_true, y_pred) + 1e-07)\n",
    "\n",
    "def score(y_val, pred):\n",
    "    f_value = fscore(y_val, pred)\n",
    "    mae_value = maeOverFscore(y_val, pred)\n",
    "    \n",
    "    print(f\"fscore : {f_value} \\t maeOverFscore : {mae_value}\")\n",
    "    \n",
    "    return (f_value, mae_value)\n",
    "\n",
    "# fscore_sklearn = make_scorer(fscore)\n",
    "# maeOverFscore_sklearn = make_scorer(maeOverFscore)"
   ]
  },
  {
   "cell_type": "markdown",
   "metadata": {},
   "source": [
    "# data load"
   ]
  },
  {
   "cell_type": "code",
   "execution_count": 4,
   "metadata": {},
   "outputs": [],
   "source": [
    "base = os.getcwd()\n",
    "data_path = os.path.join(base, 'data')\n",
    "submit_path = os.path.join(base, 'submit')\n",
    "\n",
    "def load(name):\n",
    "    return np.load(os.path.join(data_path, f\"{name}.npy\"))\n",
    "\n",
    "def reshape(data):\n",
    "    return data.reshape(data.shape[0] * 40 * 40, data.shape[-1])"
   ]
  },
  {
   "cell_type": "code",
   "execution_count": 11,
   "metadata": {},
   "outputs": [
    {
     "name": "stdout",
     "output_type": "stream",
     "text": [
      "(121608234, 15)\n"
     ]
    }
   ],
   "source": [
    "data = load('EDA')\n",
    "print(data.shape)"
   ]
  },
  {
   "cell_type": "code",
   "execution_count": 12,
   "metadata": {},
   "outputs": [],
   "source": [
    "del data"
   ]
  },
  {
   "cell_type": "code",
   "execution_count": 13,
   "metadata": {},
   "outputs": [
    {
     "name": "stdout",
     "output_type": "stream",
     "text": [
      "(121608234, 15)\n"
     ]
    }
   ],
   "source": [
    "data = load('train')\n",
    "print(data.shape)"
   ]
  },
  {
   "cell_type": "markdown",
   "metadata": {},
   "source": [
    "# Feature Selection"
   ]
  },
  {
   "cell_type": "markdown",
   "metadata": {},
   "source": [
    "## select K\n",
    "![img](feacture_selection.PNG)"
   ]
  },
  {
   "cell_type": "markdown",
   "metadata": {},
   "source": [
    "## selectK 7\n",
    "- [False, False,  True,  True,  True,  True,  True,  True, False, False, False, False, False, True]\n",
    "\n",
    "## selectK 8\n",
    "- [False, False,  True,  True,  True,  True,  True,  True, False, False, False, True, False, True]"
   ]
  },
  {
   "cell_type": "code",
   "execution_count": 17,
   "metadata": {},
   "outputs": [],
   "source": [
    "selectK_7 = [2, 3, 4, 5, 6, 7, 13]\n",
    "selectK_8 = [2, 3, 4, 5, 6, 7, 11, 13]"
   ]
  },
  {
   "cell_type": "markdown",
   "metadata": {},
   "source": [
    "# Seperate Data"
   ]
  },
  {
   "cell_type": "code",
   "execution_count": null,
   "metadata": {},
   "outputs": [],
   "source": [
    "X = data[:, selectK_8]\n",
    "Y = data[:,  -1]\n",
    "\n",
    "del data\n",
    "print(X.shape, Y.shape)"
   ]
  },
  {
   "cell_type": "code",
   "execution_count": null,
   "metadata": {},
   "outputs": [],
   "source": [
    "clf = Ridge(alpha=10.0).fit(X, Y)"
   ]
  },
  {
   "cell_type": "code",
   "execution_count": null,
   "metadata": {},
   "outputs": [],
   "source": [
    "pred = clf.predict(X)\n",
    "del X"
   ]
  },
  {
   "cell_type": "code",
   "execution_count": null,
   "metadata": {},
   "outputs": [],
   "source": [
    "score(Y, pred)\n",
    "del Y, pred"
   ]
  },
  {
   "cell_type": "markdown",
   "metadata": {},
   "source": [
    "# Ridge + KFold"
   ]
  },
  {
   "cell_type": "code",
   "execution_count": 14,
   "metadata": {},
   "outputs": [
    {
     "name": "stdout",
     "output_type": "stream",
     "text": [
      "scaler fit\n",
      "clf fit\n",
      "scaler transform\n",
      "clf predict\n",
      "fscore : 0.2749365314732829 \t maeOverFscore : 6.261598197378067\n",
      "scaler fit\n",
      "clf fit\n",
      "scaler transform\n",
      "clf predict\n",
      "fscore : 0.2752106860272466 \t maeOverFscore : 6.2545566924636615\n",
      "scaler fit\n",
      "clf fit\n"
     ]
    },
    {
     "name": "stderr",
     "output_type": "stream",
     "text": [
      "C:\\Users\\user\\Anaconda3\\lib\\site-packages\\sklearn\\linear_model\\ridge.py:147: LinAlgWarning: Ill-conditioned matrix (rcond=3.03378e-08): result may not be accurate.\n",
      "  overwrite_a=True).T\n"
     ]
    },
    {
     "name": "stdout",
     "output_type": "stream",
     "text": [
      "scaler transform\n",
      "clf predict\n",
      "fscore : 0.27483218889350364 \t maeOverFscore : 6.215133163802377\n",
      "scaler fit\n",
      "clf fit\n",
      "scaler transform\n",
      "clf predict\n",
      "fscore : 0.2744506712189898 \t maeOverFscore : 6.258121761417609\n"
     ]
    }
   ],
   "source": [
    "kfold = KFold(n_splits=4, random_state=7, shuffle=True)\n",
    "scores = list()\n",
    "\n",
    "for (train_idx, val_idx) in kfold.split(Y):\n",
    "    \n",
    "    clf = Ridge(alpha=10.0)\n",
    "    scaler= RobustScaler()\n",
    "    \n",
    "    print(\"scaler fit\")\n",
    "    x = scaler.fit_transform(X[train_idx, :])\n",
    "\n",
    "    print(\"clf fit\")\n",
    "    ridge = clf.fit(x, Y[train_idx])\n",
    "\n",
    "    del x\n",
    "    print(\"scaler transform\")\n",
    "    x = scaler.transform(X[val_idx, :])\n",
    "\n",
    "    print(\"clf predict\")\n",
    "    pred = clf.predict(x)\n",
    "    scores.append(score(Y[val_idx], pred))\n",
    "\n",
    "    del x"
   ]
  },
  {
   "cell_type": "code",
   "execution_count": 15,
   "metadata": {},
   "outputs": [
    {
     "name": "stdout",
     "output_type": "stream",
     "text": [
      "fscore : 0.2749365314732829 \t maeOverFscore : 6.261598197378067\n",
      "fscore : 0.2752106860272466 \t maeOverFscore : 6.2545566924636615\n",
      "fscore : 0.27483218889350364 \t maeOverFscore : 6.215133163802377\n",
      "fscore : 0.2744506712189898 \t maeOverFscore : 6.258121761417609\n"
     ]
    }
   ],
   "source": [
    "for f_value, mae_value in scores:\n",
    "    print(f\"fscore : {f_value} \\t maeOverFscore : {mae_value}\")"
   ]
  },
  {
   "cell_type": "markdown",
   "metadata": {},
   "source": [
    "# Ridge alpha 12.5 SelectK 8\n",
    "- fscore : 0.25464065823329085 \t maeOverFscore : 6.752701127612951\n",
    "- fscore : 0.25458534451407944 \t maeOverFscore : 6.7528914220204515\n",
    "- fscore : 0.2545837754161434 \t maeOverFscore : 6.702930965930638\n",
    "- fscore : 0.25427823328070515 \t maeOverFscore : 6.747219104960767\n",
    "\n",
    "# Ridge alpha 10.0 SelectK 8\n",
    "- fscore : 0.25464065823329085 \t maeOverFscore : 6.752701129278926\n",
    "- fscore : 0.25458534451407944 \t maeOverFscore : 6.75289142477857\n",
    "- fscore : 0.2545837754161434 \t maeOverFscore : 6.70293096792134\n",
    "- fscore : 0.25427826739578746 \t maeOverFscore : 6.747218201741558\n",
    "\n",
    "# Ridge alpha 10.0 SelectK 8 StandardScaler\n",
    "- fscore : 0.2546402018844707 \t maeOverFscore : 6.752709268799811\n",
    "- fscore : 0.2545845515075978 \t maeOverFscore : 6.752907726649149\n",
    "- fscore : 0.2545843704403055 \t maeOverFscore : 6.702911044140701\n",
    "- fscore : 0.25427924623684933 \t maeOverFscore : 6.7471879931893675\n",
    "\n",
    "# Ridge alpha 10.0 SelectK 8 RobustScaler\n",
    "- fscore : 0.2749365314732829 \t maeOverFscore : 6.261598197378067\n",
    "- fscore : 0.2752106860272466 \t maeOverFscore : 6.2545566924636615\n",
    "- fscore : 0.27483218889350364 \t maeOverFscore : 6.215133163802377\n",
    "- fscore : 0.2744506712189898 \t maeOverFscore : 6.258121761417609\n",
    "\n",
    "# Ridge alpha 10.0 SelectK 8 PCA 2 dim\n",
    "- fscore : 0.24107474262012732 \t maeOverFscore : 8.224389019645066\n",
    "- fscore : 0.2410970325797045 \t maeOverFscore : 8.222939301354975\n",
    "- fscore : 0.24133791359125045 \t maeOverFscore : 8.159670908854318\n",
    "- fscore : 0.2408981513939592 \t maeOverFscore : 8.21528441818803\n",
    "\n",
    "# Ridge alpha 10.0 SelectK 8 PCA 1 dim\n",
    "- 0.16343634206703112 12.186417405981281\n",
    "- 0.16353559251460106 12.177879886692459\n",
    "- 0.16345101377437446 12.102961373810988\n",
    "- 0.16322487488861562 12.179870422653915"
   ]
  },
  {
   "cell_type": "markdown",
   "metadata": {},
   "source": [
    "# Train"
   ]
  },
  {
   "cell_type": "code",
   "execution_count": 16,
   "metadata": {},
   "outputs": [
    {
     "data": {
      "text/plain": [
       "Ridge(alpha=10.0, copy_X=True, fit_intercept=True, max_iter=None,\n",
       "      normalize=False, random_state=None, solver='auto', tol=0.001)"
      ]
     },
     "execution_count": 16,
     "metadata": {},
     "output_type": "execute_result"
    }
   ],
   "source": [
    "clf = Ridge(alpha=10.0)\n",
    "scaler= RobustScaler()\n",
    "\n",
    "x = scaler.fit_transform(X)\n",
    "clf.fit(x, Y)"
   ]
  },
  {
   "cell_type": "markdown",
   "metadata": {},
   "source": [
    "# Submit"
   ]
  },
  {
   "cell_type": "code",
   "execution_count": 10,
   "metadata": {},
   "outputs": [],
   "source": [
    "def submit(clf, name, features=None, scaler=None):\n",
    "    x_test = load('test')\n",
    "    x_test = reshape(x_test)\n",
    "    \n",
    "    if features is not None:\n",
    "        x_test = x_test[:, features]\n",
    "    \n",
    "    if scaler is not None:\n",
    "        x_test = scaler.transform(x_test)\n",
    "        print(\"transform\")\n",
    "    \n",
    "    pred = clf.predict(x_test)\n",
    "\n",
    "    submission = pd.read_csv(os.path.join(data_path, 'sample_submission.csv'))\n",
    "    submission.iloc[:, 1:] = pred.reshape(-1, 1600)\n",
    "\n",
    "    submission.to_csv(os.path.join(submit_path, f'{name}.csv'), index = False)"
   ]
  },
  {
   "cell_type": "code",
   "execution_count": 27,
   "metadata": {},
   "outputs": [
    {
     "name": "stdout",
     "output_type": "stream",
     "text": [
      "transform\n"
     ]
    }
   ],
   "source": [
    "submit(clf, 'Ridge_10_SelectK_8_Robust', selectK_8, scaler)"
   ]
  },
  {
   "cell_type": "markdown",
   "metadata": {},
   "source": [
    "- https://dacon.io/competitions/official/235591/mysubmission/\n",
    "- D:\\인공지능_공모전\\github\\submit"
   ]
  }
 ],
 "metadata": {
  "kernelspec": {
   "display_name": "Python 3",
   "language": "python",
   "name": "python3"
  },
  "language_info": {
   "codemirror_mode": {
    "name": "ipython",
    "version": 3
   },
   "file_extension": ".py",
   "mimetype": "text/x-python",
   "name": "python",
   "nbconvert_exporter": "python",
   "pygments_lexer": "ipython3",
   "version": "3.7.7"
  }
 },
 "nbformat": 4,
 "nbformat_minor": 2
}
