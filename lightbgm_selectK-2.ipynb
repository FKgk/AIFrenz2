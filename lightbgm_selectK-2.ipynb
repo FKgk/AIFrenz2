{
 "cells": [
  {
   "cell_type": "code",
   "execution_count": 1,
   "metadata": {},
   "outputs": [],
   "source": [
    "import os\n",
    "import numpy as np\n",
    "import pandas as pd\n",
    "import matplotlib.pyplot as plt\n",
    "\n",
    "import lightgbm as lgb\n",
    "\n",
    "from sklearn.metrics import mean_squared_error, mean_absolute_error, f1_score, make_scorer\n",
    "from sklearn.linear_model import Ridge\n",
    "from sklearn.model_selection import KFold\n",
    "\n",
    "# from sklearn.feature_selection import SelectKBest, f_regression"
   ]
  },
  {
   "cell_type": "code",
   "execution_count": 2,
   "metadata": {},
   "outputs": [],
   "source": [
    "np.random.seed(7)"
   ]
  },
  {
   "cell_type": "markdown",
   "metadata": {},
   "source": [
    "# metrics"
   ]
  },
  {
   "cell_type": "code",
   "execution_count": 3,
   "metadata": {},
   "outputs": [],
   "source": [
    "def mae(y_true, y_pred) :\n",
    "    y_true, y_pred = np.array(y_true), np.array(y_pred)\n",
    "    \n",
    "    y_true = y_true.reshape(1, -1)[0]\n",
    "    y_pred = y_pred.reshape(1, -1)[0]\n",
    "    over_threshold = y_true >= 0.1\n",
    "    \n",
    "    return np.mean(np.abs(y_true[over_threshold] - y_pred[over_threshold]))\n",
    "\n",
    "def fscore(y_true, y_pred):\n",
    "    y_true, y_pred = np.array(y_true), np.array(y_pred)\n",
    "    \n",
    "    y_true = y_true.reshape(1, -1)[0]\n",
    "    y_pred = y_pred.reshape(1, -1)[0]\n",
    "    remove_NAs = y_true >= 0\n",
    "    \n",
    "    y_true = np.where(y_true[remove_NAs] >= 0.1, 1, 0)\n",
    "    y_pred = np.where(y_pred[remove_NAs] >= 0.1, 1, 0)\n",
    "    \n",
    "    return (f1_score(y_true, y_pred))\n",
    "\n",
    "def maeOverFscore(y_true, y_pred):\n",
    "    return mae(y_true, y_pred) / (fscore(y_true, y_pred) + 1e-07)\n",
    "\n",
    "def score(y_val, pred):\n",
    "    f_value =  fscore(y_val, pred)\n",
    "    mae_value = maeOverFscore(y_val, pred)\n",
    "    print(f\"fscore        : {f_value}\")\n",
    "    print(f\"maeOverFscore : {mae_value}\")\n",
    "    \n",
    "    return (f_value, mae_value)\n",
    "\n",
    "fscore_sklearn = make_scorer(fscore)\n",
    "maeOverFscore_sklearn = make_scorer(maeOverFscore)"
   ]
  },
  {
   "cell_type": "markdown",
   "metadata": {},
   "source": [
    "# data load"
   ]
  },
  {
   "cell_type": "code",
   "execution_count": 4,
   "metadata": {},
   "outputs": [],
   "source": [
    "base = os.getcwd()\n",
    "data_path = os.path.join(base, 'data')\n",
    "submit_path = os.path.join(base, 'submit')\n",
    "model_path = os.path.join(base, 'model')\n",
    "\n",
    "def load_data(name):\n",
    "    return np.load(os.path.join(data_path, f\"{name}.npy\"))\n",
    "\n",
    "def reshape(data):\n",
    "    return data.reshape(data.shape[0] * 40 * 40, data.shape[-1])"
   ]
  },
  {
   "cell_type": "code",
   "execution_count": 5,
   "metadata": {},
   "outputs": [],
   "source": [
    "data = reshape(load_data('dl_train'))"
   ]
  },
  {
   "cell_type": "markdown",
   "metadata": {},
   "source": [
    "# Feature Selection"
   ]
  },
  {
   "cell_type": "markdown",
   "metadata": {},
   "source": [
    "## select K\n",
    "![img](feacture_selection.PNG)\n",
    "\n",
    "### selectK 7\n",
    "- [False, False,  True,  True,  True,  True,  True,  True, False, False, False, False, False, True]\n",
    "\n",
    "### selectK 8\n",
    "- [False, False,  True,  True,  True,  True,  True,  True, False, False, False, True, False, True]"
   ]
  },
  {
   "cell_type": "code",
   "execution_count": 6,
   "metadata": {},
   "outputs": [],
   "source": [
    "selectK_7 = [2, 3, 4, 5, 6, 7, 13]\n",
    "selectK_8 = [2, 3, 4, 5, 6, 7, 11, 13]"
   ]
  },
  {
   "cell_type": "markdown",
   "metadata": {},
   "source": [
    "# seperate dataset"
   ]
  },
  {
   "cell_type": "code",
   "execution_count": 7,
   "metadata": {},
   "outputs": [
    {
     "name": "stdout",
     "output_type": "stream",
     "text": [
      "(121561600, 14) (121561600, 1)\n"
     ]
    }
   ],
   "source": [
    "X = data[:, :-1]\n",
    "Y = data[:,  -1].reshape(data.shape[0], 1)\n",
    "data = range(data.shape[0])\n",
    "print(X.shape, Y.shape)"
   ]
  },
  {
   "cell_type": "markdown",
   "metadata": {},
   "source": [
    "# Kfold"
   ]
  },
  {
   "cell_type": "code",
   "execution_count": null,
   "metadata": {
    "scrolled": false
   },
   "outputs": [
    {
     "name": "stderr",
     "output_type": "stream",
     "text": [
      "/home/ubuntu/anaconda3/lib/python3.7/site-packages/sklearn/model_selection/_split.py:296: FutureWarning: Setting a random_state has no effect since shuffle is False. This will raise an error in 0.24. You should leave random_state to its default (None), or set shuffle=True.\n",
      "  FutureWarning\n"
     ]
    },
    {
     "name": "stdout",
     "output_type": "stream",
     "text": [
      "[1]\tvalid_0's l2: 3.62028\n"
     ]
    },
    {
     "name": "stderr",
     "output_type": "stream",
     "text": [
      "/home/ubuntu/anaconda3/lib/python3.7/site-packages/lightgbm/callback.py:188: UserWarning: Early stopping is not available in dart mode\n",
      "  warnings.warn('Early stopping is not available in dart mode')\n"
     ]
    },
    {
     "name": "stdout",
     "output_type": "stream",
     "text": [
      "[2]\tvalid_0's l2: 3.60018\n",
      "[3]\tvalid_0's l2: 3.58033\n",
      "[4]\tvalid_0's l2: 3.56099\n",
      "[5]\tvalid_0's l2: 3.542\n",
      "[6]\tvalid_0's l2: 3.5233\n",
      "[7]\tvalid_0's l2: 3.5051\n",
      "[8]\tvalid_0's l2: 3.51145\n",
      "[9]\tvalid_0's l2: 3.49342\n",
      "[10]\tvalid_0's l2: 3.47565\n",
      "[11]\tvalid_0's l2: 3.45836\n",
      "[12]\tvalid_0's l2: 3.46432\n",
      "[13]\tvalid_0's l2: 3.44712\n",
      "[14]\tvalid_0's l2: 3.43039\n",
      "[15]\tvalid_0's l2: 3.41386\n",
      "[16]\tvalid_0's l2: 3.39766\n",
      "[17]\tvalid_0's l2: 3.38188\n",
      "[18]\tvalid_0's l2: 3.36634\n",
      "[19]\tvalid_0's l2: 3.35106\n",
      "[20]\tvalid_0's l2: 3.33615\n",
      "[21]\tvalid_0's l2: 3.33983\n",
      "[22]\tvalid_0's l2: 3.32513\n",
      "[23]\tvalid_0's l2: 3.3108\n",
      "[24]\tvalid_0's l2: 3.29663\n",
      "[25]\tvalid_0's l2: 3.28272\n",
      "[26]\tvalid_0's l2: 3.26916\n",
      "[27]\tvalid_0's l2: 3.25587\n",
      "[28]\tvalid_0's l2: 3.26078\n",
      "[29]\tvalid_0's l2: 3.24759\n",
      "[30]\tvalid_0's l2: 3.23471\n",
      "[31]\tvalid_0's l2: 3.23547\n",
      "[32]\tvalid_0's l2: 3.22281\n",
      "[33]\tvalid_0's l2: 3.21035\n",
      "[34]\tvalid_0's l2: 3.19814\n",
      "[35]\tvalid_0's l2: 3.20429\n",
      "[36]\tvalid_0's l2: 3.21321\n",
      "[37]\tvalid_0's l2: 3.20099\n",
      "[38]\tvalid_0's l2: 3.18897\n",
      "[39]\tvalid_0's l2: 3.17719\n",
      "[40]\tvalid_0's l2: 3.17383\n",
      "[41]\tvalid_0's l2: 3.18051\n",
      "[42]\tvalid_0's l2: 3.16892\n",
      "[43]\tvalid_0's l2: 3.17523\n",
      "[44]\tvalid_0's l2: 3.16371\n",
      "[45]\tvalid_0's l2: 3.15242\n",
      "[46]\tvalid_0's l2: 3.16186\n",
      "[47]\tvalid_0's l2: 3.15057\n",
      "[48]\tvalid_0's l2: 3.14933\n",
      "[49]\tvalid_0's l2: 3.15644\n",
      "[50]\tvalid_0's l2: 3.16392\n",
      "[51]\tvalid_0's l2: 3.15262\n",
      "[52]\tvalid_0's l2: 3.14145\n",
      "[53]\tvalid_0's l2: 3.14672\n",
      "[54]\tvalid_0's l2: 3.13581\n",
      "[55]\tvalid_0's l2: 3.12497\n",
      "[56]\tvalid_0's l2: 3.13283\n",
      "[57]\tvalid_0's l2: 3.12212\n",
      "[58]\tvalid_0's l2: 3.1303\n",
      "[59]\tvalid_0's l2: 3.13738\n",
      "[60]\tvalid_0's l2: 3.12656\n",
      "[61]\tvalid_0's l2: 3.13312\n",
      "[62]\tvalid_0's l2: 3.12244\n",
      "[63]\tvalid_0's l2: 3.11193\n",
      "[64]\tvalid_0's l2: 3.11763\n",
      "[65]\tvalid_0's l2: 3.12363\n",
      "[66]\tvalid_0's l2: 3.1131\n",
      "[67]\tvalid_0's l2: 3.10272\n",
      "[68]\tvalid_0's l2: 3.09265\n",
      "[69]\tvalid_0's l2: 3.09883\n",
      "[70]\tvalid_0's l2: 3.10224\n",
      "[71]\tvalid_0's l2: 3.10637\n",
      "[72]\tvalid_0's l2: 3.09613\n",
      "[73]\tvalid_0's l2: 3.08607\n",
      "[74]\tvalid_0's l2: 3.09099\n",
      "[75]\tvalid_0's l2: 3.08115\n",
      "[76]\tvalid_0's l2: 3.08196\n",
      "[77]\tvalid_0's l2: 3.08619\n",
      "[78]\tvalid_0's l2: 3.09038\n",
      "[79]\tvalid_0's l2: 3.08049\n",
      "[80]\tvalid_0's l2: 3.07073\n",
      "[81]\tvalid_0's l2: 3.07551\n",
      "[82]\tvalid_0's l2: 3.0659\n",
      "[83]\tvalid_0's l2: 3.07146\n",
      "[84]\tvalid_0's l2: 3.07721\n",
      "[85]\tvalid_0's l2: 3.08258\n",
      "[86]\tvalid_0's l2: 3.07278\n",
      "[87]\tvalid_0's l2: 3.06331\n",
      "[88]\tvalid_0's l2: 3.06974\n",
      "[89]\tvalid_0's l2: 3.07363\n",
      "[90]\tvalid_0's l2: 3.07918\n",
      "[91]\tvalid_0's l2: 3.08536\n",
      "[92]\tvalid_0's l2: 3.07557\n",
      "[93]\tvalid_0's l2: 3.06597\n",
      "[94]\tvalid_0's l2: 3.07132\n",
      "[95]\tvalid_0's l2: 3.07546\n",
      "[96]\tvalid_0's l2: 3.07978\n",
      "[97]\tvalid_0's l2: 3.07012\n",
      "[98]\tvalid_0's l2: 3.07458\n",
      "[99]\tvalid_0's l2: 3.06498\n",
      "[100]\tvalid_0's l2: 3.05552\n",
      "[101]\tvalid_0's l2: 3.06198\n",
      "[102]\tvalid_0's l2: 3.0667\n",
      "[103]\tvalid_0's l2: 3.07168\n",
      "[104]\tvalid_0's l2: 3.06215\n",
      "[105]\tvalid_0's l2: 3.06803\n",
      "[106]\tvalid_0's l2: 3.07317\n",
      "[107]\tvalid_0's l2: 3.07818\n",
      "[108]\tvalid_0's l2: 3.06854\n",
      "[109]\tvalid_0's l2: 3.07267\n",
      "[110]\tvalid_0's l2: 3.07747\n",
      "[111]\tvalid_0's l2: 3.06779\n",
      "[112]\tvalid_0's l2: 3.05832\n",
      "[113]\tvalid_0's l2: 3.04911\n",
      "[114]\tvalid_0's l2: 3.03996\n",
      "[115]\tvalid_0's l2: 3.03106\n",
      "[116]\tvalid_0's l2: 3.02224\n",
      "[117]\tvalid_0's l2: 3.02592\n",
      "[118]\tvalid_0's l2: 3.01724\n",
      "[119]\tvalid_0's l2: 3.02128\n",
      "[120]\tvalid_0's l2: 3.02606\n",
      "[121]\tvalid_0's l2: 3.03085\n",
      "[122]\tvalid_0's l2: 3.03568\n",
      "[123]\tvalid_0's l2: 3.02686\n",
      "[124]\tvalid_0's l2: 3.01819\n",
      "[125]\tvalid_0's l2: 3.02209\n",
      "[126]\tvalid_0's l2: 3.02665\n",
      "[127]\tvalid_0's l2: 3.01788\n",
      "[128]\tvalid_0's l2: 3.02185\n",
      "[129]\tvalid_0's l2: 3.01331\n",
      "[130]\tvalid_0's l2: 3.00481\n",
      "[131]\tvalid_0's l2: 3.00855\n",
      "[132]\tvalid_0's l2: 3.00014\n",
      "[133]\tvalid_0's l2: 2.99198\n",
      "[134]\tvalid_0's l2: 2.99702\n",
      "[135]\tvalid_0's l2: 2.98884\n",
      "[136]\tvalid_0's l2: 2.99469\n",
      "[137]\tvalid_0's l2: 2.99878\n",
      "[138]\tvalid_0's l2: 2.99067\n",
      "[139]\tvalid_0's l2: 2.98259\n",
      "[140]\tvalid_0's l2: 2.98757\n",
      "[141]\tvalid_0's l2: 2.99166\n",
      "[142]\tvalid_0's l2: 2.99586\n",
      "[143]\tvalid_0's l2: 2.98773\n",
      "[144]\tvalid_0's l2: 2.99147\n",
      "[145]\tvalid_0's l2: 2.98349\n",
      "[146]\tvalid_0's l2: 2.98842\n",
      "[147]\tvalid_0's l2: 2.99299\n",
      "[148]\tvalid_0's l2: 2.99741\n",
      "[149]\tvalid_0's l2: 2.98928\n",
      "[150]\tvalid_0's l2: 2.98135\n",
      "[151]\tvalid_0's l2: 2.98644\n",
      "[152]\tvalid_0's l2: 2.99119\n",
      "[153]\tvalid_0's l2: 2.98323\n",
      "[154]\tvalid_0's l2: 2.9868\n",
      "[155]\tvalid_0's l2: 2.97882\n",
      "[156]\tvalid_0's l2: 2.98347\n",
      "[157]\tvalid_0's l2: 2.98593\n",
      "[158]\tvalid_0's l2: 2.99053\n",
      "[159]\tvalid_0's l2: 2.99511\n",
      "[160]\tvalid_0's l2: 2.99968\n",
      "[161]\tvalid_0's l2: 2.99155\n",
      "[162]\tvalid_0's l2: 2.99468\n",
      "[163]\tvalid_0's l2: 2.9866\n",
      "[164]\tvalid_0's l2: 2.97874\n",
      "[165]\tvalid_0's l2: 2.97087\n",
      "[166]\tvalid_0's l2: 2.96329\n",
      "[167]\tvalid_0's l2: 2.95571\n",
      "[168]\tvalid_0's l2: 2.94839\n",
      "[169]\tvalid_0's l2: 2.94112\n",
      "[170]\tvalid_0's l2: 2.94557\n",
      "[171]\tvalid_0's l2: 2.93841\n",
      "[172]\tvalid_0's l2: 2.94268\n",
      "[173]\tvalid_0's l2: 2.93551\n",
      "[174]\tvalid_0's l2: 2.92856\n",
      "[175]\tvalid_0's l2: 2.92172\n",
      "[176]\tvalid_0's l2: 2.92502\n",
      "[177]\tvalid_0's l2: 2.92896\n",
      "[178]\tvalid_0's l2: 2.93268\n",
      "[179]\tvalid_0's l2: 2.92571\n",
      "[180]\tvalid_0's l2: 2.92936\n",
      "[181]\tvalid_0's l2: 2.92247\n",
      "[182]\tvalid_0's l2: 2.9157\n",
      "[183]\tvalid_0's l2: 2.90909\n",
      "[184]\tvalid_0's l2: 2.90266\n",
      "[185]\tvalid_0's l2: 2.90732\n",
      "[186]\tvalid_0's l2: 2.90078\n",
      "[187]\tvalid_0's l2: 2.89447\n",
      "[188]\tvalid_0's l2: 2.88825\n",
      "[189]\tvalid_0's l2: 2.89239\n"
     ]
    }
   ],
   "source": [
    "kfold = KFold(n_splits=4, random_state=7, shuffle=False)\n",
    "scores = list()\n",
    "\n",
    "for i, (train_idx, val_idx) in enumerate(kfold.split(data)):\n",
    "    clf = lgb.LGBMRegressor(boosting_type='dart', num_leaves=31, max_depth=- 1, learning_rate=0.01, \\\n",
    "                             n_estimators=600, subsample_for_bin=200000, objective=None, class_weight=None, \\\n",
    "                             min_split_gain=0.0, min_child_weight=0.001, min_child_samples=20, subsample=1.0, \\\n",
    "                             subsample_freq=0, colsample_bytree=1.0, reg_alpha=0.0, reg_lambda=0.0, random_state=None, \\\n",
    "                             n_jobs=- 1, silent=True, importance_type='split')\n",
    "    \n",
    "\n",
    "    clf.fit(X[train_idx, :], Y[train_idx, 0], eval_set=[(X[val_idx, :], Y[val_idx, 0])], \\\n",
    "            early_stopping_rounds=100, \\\n",
    "            verbose=True)\n",
    "    \n",
    "#     clf.save_model(os.path.join(model_path, f'lgb_dart_{i}.txt'), \\\n",
    "#                     num_iteration=clf.best_iteration)\n",
    "    \n",
    "    scores.append(score(clf.predict(X[val_idx, :]), Y[val_idx, :]))"
   ]
  },
  {
   "cell_type": "code",
   "execution_count": null,
   "metadata": {},
   "outputs": [],
   "source": [
    "for f_value, mae_value in scores:\n",
    "    print(f\"fscore : {f_value} \\t maeOverFscore : {mae_value}\")"
   ]
  },
  {
   "cell_type": "markdown",
   "metadata": {},
   "source": [
    "# 시각화"
   ]
  },
  {
   "cell_type": "code",
   "execution_count": null,
   "metadata": {},
   "outputs": [],
   "source": [
    "fig, ax = plt.subplots(figsize=(10,6))\n",
    "lgb.plot_importance(clf, ax)"
   ]
  },
  {
   "cell_type": "markdown",
   "metadata": {},
   "source": [
    "# 제출"
   ]
  },
  {
   "cell_type": "code",
   "execution_count": 17,
   "metadata": {},
   "outputs": [],
   "source": [
    "def submit(clf, name, preprocess=None):\n",
    "    x_test = reshape(load_data('test'))\n",
    "    \n",
    "    pred = clf.predict(x_test)\n",
    "\n",
    "    submission = pd.read_csv(os.path.join(data_path, 'sample_submission.csv'))\n",
    "    submission.iloc[:, 1:] = pred.reshape(-1, 1600)\n",
    "\n",
    "    submission.to_csv(os.path.join(submit_path, f'{name}.csv'), index=False)"
   ]
  },
  {
   "cell_type": "code",
   "execution_count": 18,
   "metadata": {},
   "outputs": [],
   "source": [
    "submit(clf, 'lightbgm_all_features_train_val')"
   ]
  },
  {
   "cell_type": "code",
   "execution_count": 23,
   "metadata": {},
   "outputs": [],
   "source": [
    "line = 112000000\n",
    "print(f\"train : {line} , val : {Y.shape[0] - line}\")\n",
    "\n",
    "x_train = X[:line, :]\n",
    "y_train = Y[:line, 0]\n",
    "\n",
    "x_val = X[line:, :]\n",
    "y_val = Y[line:, 0]"
   ]
  },
  {
   "cell_type": "code",
   "execution_count": 24,
   "metadata": {},
   "outputs": [
    {
     "data": {
      "text/plain": [
       "((9561600, 14), (9561600,))"
      ]
     },
     "execution_count": 24,
     "metadata": {},
     "output_type": "execute_result"
    }
   ],
   "source": [
    "x_val.shape, y_val.shape"
   ]
  },
  {
   "cell_type": "code",
   "execution_count": 32,
   "metadata": {
    "scrolled": false
   },
   "outputs": [
    {
     "name": "stderr",
     "output_type": "stream",
     "text": [
      "/home/ubuntu/anaconda3/lib/python3.7/site-packages/lightgbm/basic.py:253: UserWarning: Usage of np.ndarray subset (sliced data) is not recommended due to it will double the peak memory cost in LightGBM.\n",
      "  warnings.warn(\"Usage of np.ndarray subset (sliced data) is not recommended \"\n"
     ]
    },
    {
     "name": "stdout",
     "output_type": "stream",
     "text": [
      "[1]\tvalid_0's l2: 2.62434\n",
      "Training until validation scores don't improve for 100 rounds\n",
      "[2]\tvalid_0's l2: 2.60849\n",
      "[3]\tvalid_0's l2: 2.59315\n",
      "[4]\tvalid_0's l2: 2.57792\n",
      "[5]\tvalid_0's l2: 2.56319\n",
      "[6]\tvalid_0's l2: 2.54859\n",
      "[7]\tvalid_0's l2: 2.53441\n",
      "[8]\tvalid_0's l2: 2.52025\n",
      "[9]\tvalid_0's l2: 2.50663\n",
      "[10]\tvalid_0's l2: 2.49304\n",
      "[11]\tvalid_0's l2: 2.4799\n",
      "[12]\tvalid_0's l2: 2.46702\n",
      "[13]\tvalid_0's l2: 2.45418\n",
      "[14]\tvalid_0's l2: 2.44171\n",
      "[15]\tvalid_0's l2: 2.4295\n",
      "[16]\tvalid_0's l2: 2.41738\n",
      "[17]\tvalid_0's l2: 2.40559\n",
      "[18]\tvalid_0's l2: 2.39396\n",
      "[19]\tvalid_0's l2: 2.38272\n",
      "[20]\tvalid_0's l2: 2.37164\n",
      "[21]\tvalid_0's l2: 2.36083\n",
      "[22]\tvalid_0's l2: 2.34997\n",
      "[23]\tvalid_0's l2: 2.33943\n",
      "[24]\tvalid_0's l2: 2.32906\n",
      "[25]\tvalid_0's l2: 2.31878\n",
      "[26]\tvalid_0's l2: 2.30871\n",
      "[27]\tvalid_0's l2: 2.29897\n",
      "[28]\tvalid_0's l2: 2.28927\n",
      "[29]\tvalid_0's l2: 2.27988\n",
      "[30]\tvalid_0's l2: 2.27071\n",
      "[31]\tvalid_0's l2: 2.26151\n",
      "[32]\tvalid_0's l2: 2.25257\n",
      "[33]\tvalid_0's l2: 2.2438\n",
      "[34]\tvalid_0's l2: 2.23518\n",
      "[35]\tvalid_0's l2: 2.22678\n",
      "[36]\tvalid_0's l2: 2.2185\n",
      "[37]\tvalid_0's l2: 2.21058\n",
      "[38]\tvalid_0's l2: 2.20263\n",
      "[39]\tvalid_0's l2: 2.19486\n",
      "[40]\tvalid_0's l2: 2.1871\n",
      "[41]\tvalid_0's l2: 2.17979\n",
      "[42]\tvalid_0's l2: 2.17238\n",
      "[43]\tvalid_0's l2: 2.16515\n",
      "[44]\tvalid_0's l2: 2.15805\n",
      "[45]\tvalid_0's l2: 2.15125\n",
      "[46]\tvalid_0's l2: 2.14436\n",
      "[47]\tvalid_0's l2: 2.13758\n",
      "[48]\tvalid_0's l2: 2.13089\n",
      "[49]\tvalid_0's l2: 2.12433\n",
      "[50]\tvalid_0's l2: 2.11817\n",
      "[51]\tvalid_0's l2: 2.11193\n",
      "[52]\tvalid_0's l2: 2.10565\n",
      "[53]\tvalid_0's l2: 2.09964\n",
      "[54]\tvalid_0's l2: 2.09388\n",
      "[55]\tvalid_0's l2: 2.08799\n",
      "[56]\tvalid_0's l2: 2.0822\n",
      "[57]\tvalid_0's l2: 2.07664\n",
      "[58]\tvalid_0's l2: 2.07124\n",
      "[59]\tvalid_0's l2: 2.06578\n",
      "[60]\tvalid_0's l2: 2.06039\n",
      "[61]\tvalid_0's l2: 2.05518\n",
      "[62]\tvalid_0's l2: 2.05015\n",
      "[63]\tvalid_0's l2: 2.04502\n",
      "[64]\tvalid_0's l2: 2.04004\n",
      "[65]\tvalid_0's l2: 2.03513\n",
      "[66]\tvalid_0's l2: 2.03044\n",
      "[67]\tvalid_0's l2: 2.02567\n",
      "[68]\tvalid_0's l2: 2.0212\n",
      "[69]\tvalid_0's l2: 2.01665\n",
      "[70]\tvalid_0's l2: 2.01221\n",
      "[71]\tvalid_0's l2: 2.00789\n",
      "[72]\tvalid_0's l2: 2.00356\n",
      "[73]\tvalid_0's l2: 1.99946\n",
      "[74]\tvalid_0's l2: 1.99536\n",
      "[75]\tvalid_0's l2: 1.99122\n",
      "[76]\tvalid_0's l2: 1.98713\n",
      "[77]\tvalid_0's l2: 1.98317\n",
      "[78]\tvalid_0's l2: 1.97933\n",
      "[79]\tvalid_0's l2: 1.9755\n",
      "[80]\tvalid_0's l2: 1.97194\n",
      "[81]\tvalid_0's l2: 1.96834\n",
      "[82]\tvalid_0's l2: 1.96464\n",
      "[83]\tvalid_0's l2: 1.96112\n",
      "[84]\tvalid_0's l2: 1.95779\n",
      "[85]\tvalid_0's l2: 1.95434\n",
      "[86]\tvalid_0's l2: 1.95102\n",
      "[87]\tvalid_0's l2: 1.94765\n",
      "[88]\tvalid_0's l2: 1.94426\n",
      "[89]\tvalid_0's l2: 1.94123\n",
      "[90]\tvalid_0's l2: 1.93787\n",
      "[91]\tvalid_0's l2: 1.93494\n",
      "[92]\tvalid_0's l2: 1.93167\n",
      "[93]\tvalid_0's l2: 1.92889\n",
      "[94]\tvalid_0's l2: 1.92591\n",
      "[95]\tvalid_0's l2: 1.92285\n",
      "[96]\tvalid_0's l2: 1.92019\n",
      "[97]\tvalid_0's l2: 1.91716\n",
      "[98]\tvalid_0's l2: 1.9146\n",
      "[99]\tvalid_0's l2: 1.91174\n",
      "[100]\tvalid_0's l2: 1.90925\n",
      "[101]\tvalid_0's l2: 1.90646\n",
      "[102]\tvalid_0's l2: 1.9041\n",
      "[103]\tvalid_0's l2: 1.90143\n",
      "[104]\tvalid_0's l2: 1.89895\n",
      "[105]\tvalid_0's l2: 1.89675\n",
      "[106]\tvalid_0's l2: 1.89421\n",
      "[107]\tvalid_0's l2: 1.89175\n",
      "[108]\tvalid_0's l2: 1.88961\n",
      "[109]\tvalid_0's l2: 1.88749\n",
      "[110]\tvalid_0's l2: 1.88511\n",
      "[111]\tvalid_0's l2: 1.88311\n",
      "[112]\tvalid_0's l2: 1.88078\n",
      "[113]\tvalid_0's l2: 1.87848\n",
      "[114]\tvalid_0's l2: 1.87659\n",
      "[115]\tvalid_0's l2: 1.87437\n",
      "[116]\tvalid_0's l2: 1.87241\n",
      "[117]\tvalid_0's l2: 1.87023\n",
      "[118]\tvalid_0's l2: 1.8684\n",
      "[119]\tvalid_0's l2: 1.86632\n",
      "[120]\tvalid_0's l2: 1.86449\n",
      "[121]\tvalid_0's l2: 1.86276\n",
      "[122]\tvalid_0's l2: 1.8607\n",
      "[123]\tvalid_0's l2: 1.85875\n",
      "[124]\tvalid_0's l2: 1.85714\n",
      "[125]\tvalid_0's l2: 1.85522\n",
      "[126]\tvalid_0's l2: 1.85365\n",
      "[127]\tvalid_0's l2: 1.85172\n",
      "[128]\tvalid_0's l2: 1.85017\n",
      "[129]\tvalid_0's l2: 1.84834\n",
      "[130]\tvalid_0's l2: 1.84689\n",
      "[131]\tvalid_0's l2: 1.84517\n",
      "[132]\tvalid_0's l2: 1.84369\n",
      "[133]\tvalid_0's l2: 1.84195\n",
      "[134]\tvalid_0's l2: 1.84054\n",
      "[135]\tvalid_0's l2: 1.83905\n",
      "[136]\tvalid_0's l2: 1.83738\n",
      "[137]\tvalid_0's l2: 1.83604\n",
      "[138]\tvalid_0's l2: 1.83443\n",
      "[139]\tvalid_0's l2: 1.83311\n",
      "[140]\tvalid_0's l2: 1.83154\n",
      "[141]\tvalid_0's l2: 1.83013\n",
      "[142]\tvalid_0's l2: 1.82888\n",
      "[143]\tvalid_0's l2: 1.82733\n",
      "[144]\tvalid_0's l2: 1.82613\n",
      "[145]\tvalid_0's l2: 1.82466\n",
      "[146]\tvalid_0's l2: 1.82353\n",
      "[147]\tvalid_0's l2: 1.82205\n",
      "[148]\tvalid_0's l2: 1.82092\n",
      "[149]\tvalid_0's l2: 1.81948\n",
      "[150]\tvalid_0's l2: 1.81839\n",
      "[151]\tvalid_0's l2: 1.81699\n",
      "[152]\tvalid_0's l2: 1.81594\n",
      "[153]\tvalid_0's l2: 1.81462\n",
      "[154]\tvalid_0's l2: 1.81344\n",
      "[155]\tvalid_0's l2: 1.81243\n",
      "[156]\tvalid_0's l2: 1.8112\n",
      "[157]\tvalid_0's l2: 1.81016\n",
      "[158]\tvalid_0's l2: 1.80919\n",
      "[159]\tvalid_0's l2: 1.80789\n",
      "[160]\tvalid_0's l2: 1.80698\n",
      "[161]\tvalid_0's l2: 1.80581\n",
      "[162]\tvalid_0's l2: 1.80476\n",
      "[163]\tvalid_0's l2: 1.80386\n",
      "[164]\tvalid_0's l2: 1.80269\n",
      "[165]\tvalid_0's l2: 1.80179\n",
      "[166]\tvalid_0's l2: 1.80092\n",
      "[167]\tvalid_0's l2: 1.79975\n",
      "[168]\tvalid_0's l2: 1.79864\n",
      "[169]\tvalid_0's l2: 1.79779\n",
      "[170]\tvalid_0's l2: 1.79663\n",
      "[171]\tvalid_0's l2: 1.79579\n",
      "[172]\tvalid_0's l2: 1.79484\n",
      "[173]\tvalid_0's l2: 1.79384\n",
      "[174]\tvalid_0's l2: 1.79305\n",
      "[175]\tvalid_0's l2: 1.79198\n",
      "[176]\tvalid_0's l2: 1.79121\n",
      "[177]\tvalid_0's l2: 1.79021\n",
      "[178]\tvalid_0's l2: 1.78947\n",
      "[179]\tvalid_0's l2: 1.78874\n",
      "[180]\tvalid_0's l2: 1.78774\n",
      "[181]\tvalid_0's l2: 1.78674\n",
      "[182]\tvalid_0's l2: 1.78604\n",
      "[183]\tvalid_0's l2: 1.78514\n",
      "[184]\tvalid_0's l2: 1.78448\n",
      "[185]\tvalid_0's l2: 1.78357\n",
      "[186]\tvalid_0's l2: 1.78282\n",
      "[187]\tvalid_0's l2: 1.78218\n",
      "[188]\tvalid_0's l2: 1.78136\n",
      "[189]\tvalid_0's l2: 1.78074\n",
      "[190]\tvalid_0's l2: 1.77995\n",
      "[191]\tvalid_0's l2: 1.77936\n",
      "[192]\tvalid_0's l2: 1.77867\n",
      "[193]\tvalid_0's l2: 1.77807\n",
      "[194]\tvalid_0's l2: 1.77724\n",
      "[195]\tvalid_0's l2: 1.77654\n",
      "[196]\tvalid_0's l2: 1.77565\n",
      "[197]\tvalid_0's l2: 1.7751\n",
      "[198]\tvalid_0's l2: 1.77432\n",
      "[199]\tvalid_0's l2: 1.77379\n",
      "[200]\tvalid_0's l2: 1.77307\n",
      "[201]\tvalid_0's l2: 1.77256\n",
      "[202]\tvalid_0's l2: 1.77185\n",
      "[203]\tvalid_0's l2: 1.77133\n",
      "[204]\tvalid_0's l2: 1.77066\n",
      "[205]\tvalid_0's l2: 1.76991\n",
      "[206]\tvalid_0's l2: 1.76946\n",
      "[207]\tvalid_0's l2: 1.76871\n",
      "[208]\tvalid_0's l2: 1.76828\n",
      "[209]\tvalid_0's l2: 1.76767\n",
      "[210]\tvalid_0's l2: 1.76723\n",
      "[211]\tvalid_0's l2: 1.76659\n",
      "[212]\tvalid_0's l2: 1.76614\n",
      "[213]\tvalid_0's l2: 1.7655\n",
      "[214]\tvalid_0's l2: 1.76505\n",
      "[215]\tvalid_0's l2: 1.76443\n",
      "[216]\tvalid_0's l2: 1.76401\n",
      "[217]\tvalid_0's l2: 1.76346\n",
      "[218]\tvalid_0's l2: 1.76303\n",
      "[219]\tvalid_0's l2: 1.76251\n",
      "[220]\tvalid_0's l2: 1.7621\n",
      "[221]\tvalid_0's l2: 1.7616\n",
      "[222]\tvalid_0's l2: 1.76094\n",
      "[223]\tvalid_0's l2: 1.76057\n",
      "[224]\tvalid_0's l2: 1.76019\n",
      "[225]\tvalid_0's l2: 1.75965\n",
      "[226]\tvalid_0's l2: 1.75929\n",
      "[227]\tvalid_0's l2: 1.75874\n",
      "[228]\tvalid_0's l2: 1.75837\n",
      "[229]\tvalid_0's l2: 1.75779\n",
      "[230]\tvalid_0's l2: 1.75744\n",
      "[231]\tvalid_0's l2: 1.75688\n",
      "[232]\tvalid_0's l2: 1.75644\n",
      "[233]\tvalid_0's l2: 1.75602\n",
      "[234]\tvalid_0's l2: 1.75571\n",
      "[235]\tvalid_0's l2: 1.75529\n",
      "[236]\tvalid_0's l2: 1.75476\n",
      "[237]\tvalid_0's l2: 1.75438\n",
      "[238]\tvalid_0's l2: 1.75386\n",
      "[239]\tvalid_0's l2: 1.75347\n",
      "[240]\tvalid_0's l2: 1.75299\n",
      "[241]\tvalid_0's l2: 1.7525\n",
      "[242]\tvalid_0's l2: 1.75208\n",
      "[243]\tvalid_0's l2: 1.75175\n",
      "[244]\tvalid_0's l2: 1.75142\n",
      "[245]\tvalid_0's l2: 1.75107\n",
      "[246]\tvalid_0's l2: 1.75073\n",
      "[247]\tvalid_0's l2: 1.7504\n",
      "[248]\tvalid_0's l2: 1.75007\n",
      "[249]\tvalid_0's l2: 1.74973\n",
      "[250]\tvalid_0's l2: 1.74942\n",
      "[251]\tvalid_0's l2: 1.74912\n",
      "[252]\tvalid_0's l2: 1.74891\n",
      "[253]\tvalid_0's l2: 1.74858\n",
      "[254]\tvalid_0's l2: 1.74838\n",
      "[255]\tvalid_0's l2: 1.74809\n",
      "[256]\tvalid_0's l2: 1.7479\n",
      "[257]\tvalid_0's l2: 1.74758\n",
      "[258]\tvalid_0's l2: 1.74722\n",
      "[259]\tvalid_0's l2: 1.74701\n",
      "[260]\tvalid_0's l2: 1.7467\n",
      "[261]\tvalid_0's l2: 1.74651\n",
      "[262]\tvalid_0's l2: 1.74606\n",
      "[263]\tvalid_0's l2: 1.74577\n",
      "[264]\tvalid_0's l2: 1.7455\n",
      "[265]\tvalid_0's l2: 1.74531\n",
      "[266]\tvalid_0's l2: 1.74501\n",
      "[267]\tvalid_0's l2: 1.74485\n",
      "[268]\tvalid_0's l2: 1.74456\n",
      "[269]\tvalid_0's l2: 1.74436\n",
      "[270]\tvalid_0's l2: 1.74419\n",
      "[271]\tvalid_0's l2: 1.74395\n",
      "[272]\tvalid_0's l2: 1.74379\n",
      "[273]\tvalid_0's l2: 1.74352\n",
      "[274]\tvalid_0's l2: 1.74321\n",
      "[275]\tvalid_0's l2: 1.74295\n",
      "[276]\tvalid_0's l2: 1.74281\n",
      "[277]\tvalid_0's l2: 1.74265\n",
      "[278]\tvalid_0's l2: 1.7424\n",
      "[279]\tvalid_0's l2: 1.74226\n",
      "[280]\tvalid_0's l2: 1.74187\n",
      "[281]\tvalid_0's l2: 1.74171\n",
      "[282]\tvalid_0's l2: 1.74155\n",
      "[283]\tvalid_0's l2: 1.74132\n",
      "[284]\tvalid_0's l2: 1.74108\n",
      "[285]\tvalid_0's l2: 1.74093\n",
      "[286]\tvalid_0's l2: 1.74069\n",
      "[287]\tvalid_0's l2: 1.74045\n",
      "[288]\tvalid_0's l2: 1.74033\n",
      "[289]\tvalid_0's l2: 1.74016\n",
      "[290]\tvalid_0's l2: 1.73992\n",
      "[291]\tvalid_0's l2: 1.73968\n",
      "[292]\tvalid_0's l2: 1.73944\n",
      "[293]\tvalid_0's l2: 1.73932\n",
      "[294]\tvalid_0's l2: 1.73907\n",
      "[295]\tvalid_0's l2: 1.73892\n",
      "[296]\tvalid_0's l2: 1.73868\n"
     ]
    },
    {
     "name": "stdout",
     "output_type": "stream",
     "text": [
      "[297]\tvalid_0's l2: 1.73858\n",
      "[298]\tvalid_0's l2: 1.73845\n",
      "[299]\tvalid_0's l2: 1.73806\n",
      "[300]\tvalid_0's l2: 1.73795\n",
      "[301]\tvalid_0's l2: 1.73781\n",
      "[302]\tvalid_0's l2: 1.73758\n",
      "[303]\tvalid_0's l2: 1.73745\n",
      "[304]\tvalid_0's l2: 1.73721\n",
      "[305]\tvalid_0's l2: 1.73698\n",
      "[306]\tvalid_0's l2: 1.73688\n",
      "[307]\tvalid_0's l2: 1.73677\n",
      "[308]\tvalid_0's l2: 1.73668\n",
      "[309]\tvalid_0's l2: 1.73644\n",
      "[310]\tvalid_0's l2: 1.73633\n",
      "[311]\tvalid_0's l2: 1.73599\n",
      "[312]\tvalid_0's l2: 1.73588\n",
      "[313]\tvalid_0's l2: 1.73577\n",
      "[314]\tvalid_0's l2: 1.73555\n",
      "[315]\tvalid_0's l2: 1.73543\n",
      "[316]\tvalid_0's l2: 1.73518\n",
      "[317]\tvalid_0's l2: 1.73483\n",
      "[318]\tvalid_0's l2: 1.73474\n",
      "[319]\tvalid_0's l2: 1.73465\n",
      "[320]\tvalid_0's l2: 1.73444\n",
      "[321]\tvalid_0's l2: 1.73435\n",
      "[322]\tvalid_0's l2: 1.73424\n",
      "[323]\tvalid_0's l2: 1.73385\n",
      "[324]\tvalid_0's l2: 1.73357\n",
      "[325]\tvalid_0's l2: 1.73347\n",
      "[326]\tvalid_0's l2: 1.73308\n",
      "[327]\tvalid_0's l2: 1.73296\n",
      "[328]\tvalid_0's l2: 1.73275\n",
      "[329]\tvalid_0's l2: 1.73265\n",
      "[330]\tvalid_0's l2: 1.73255\n",
      "[331]\tvalid_0's l2: 1.73218\n",
      "[332]\tvalid_0's l2: 1.73211\n",
      "[333]\tvalid_0's l2: 1.73189\n",
      "[334]\tvalid_0's l2: 1.73179\n",
      "[335]\tvalid_0's l2: 1.7315\n",
      "[336]\tvalid_0's l2: 1.73138\n",
      "[337]\tvalid_0's l2: 1.7313\n",
      "[338]\tvalid_0's l2: 1.73107\n",
      "[339]\tvalid_0's l2: 1.73102\n",
      "[340]\tvalid_0's l2: 1.73082\n",
      "[341]\tvalid_0's l2: 1.73061\n",
      "[342]\tvalid_0's l2: 1.73053\n",
      "[343]\tvalid_0's l2: 1.73048\n",
      "[344]\tvalid_0's l2: 1.73019\n",
      "[345]\tvalid_0's l2: 1.7301\n",
      "[346]\tvalid_0's l2: 1.72974\n",
      "[347]\tvalid_0's l2: 1.72966\n",
      "[348]\tvalid_0's l2: 1.7295\n",
      "[349]\tvalid_0's l2: 1.72941\n",
      "[350]\tvalid_0's l2: 1.72933\n",
      "[351]\tvalid_0's l2: 1.72898\n",
      "[352]\tvalid_0's l2: 1.72888\n",
      "[353]\tvalid_0's l2: 1.72868\n",
      "[354]\tvalid_0's l2: 1.72834\n",
      "[355]\tvalid_0's l2: 1.72829\n",
      "[356]\tvalid_0's l2: 1.72811\n",
      "[357]\tvalid_0's l2: 1.72801\n",
      "[358]\tvalid_0's l2: 1.72789\n",
      "[359]\tvalid_0's l2: 1.72756\n",
      "[360]\tvalid_0's l2: 1.72746\n",
      "[361]\tvalid_0's l2: 1.72728\n",
      "[362]\tvalid_0's l2: 1.72721\n",
      "[363]\tvalid_0's l2: 1.72709\n",
      "[364]\tvalid_0's l2: 1.72694\n",
      "[365]\tvalid_0's l2: 1.72684\n",
      "[366]\tvalid_0's l2: 1.72679\n",
      "[367]\tvalid_0's l2: 1.72667\n",
      "[368]\tvalid_0's l2: 1.7263\n",
      "[369]\tvalid_0's l2: 1.7262\n",
      "[370]\tvalid_0's l2: 1.72613\n",
      "[371]\tvalid_0's l2: 1.72601\n",
      "[372]\tvalid_0's l2: 1.72593\n",
      "[373]\tvalid_0's l2: 1.72576\n",
      "[374]\tvalid_0's l2: 1.72567\n",
      "[375]\tvalid_0's l2: 1.7255\n",
      "[376]\tvalid_0's l2: 1.72538\n",
      "[377]\tvalid_0's l2: 1.72521\n",
      "[378]\tvalid_0's l2: 1.72509\n",
      "[379]\tvalid_0's l2: 1.7249\n",
      "[380]\tvalid_0's l2: 1.72481\n",
      "[381]\tvalid_0's l2: 1.72468\n",
      "[382]\tvalid_0's l2: 1.72457\n",
      "[383]\tvalid_0's l2: 1.72442\n",
      "[384]\tvalid_0's l2: 1.72439\n",
      "[385]\tvalid_0's l2: 1.72423\n",
      "[386]\tvalid_0's l2: 1.72421\n",
      "[387]\tvalid_0's l2: 1.72405\n",
      "[388]\tvalid_0's l2: 1.72402\n",
      "[389]\tvalid_0's l2: 1.72387\n",
      "[390]\tvalid_0's l2: 1.7238\n",
      "[391]\tvalid_0's l2: 1.72367\n",
      "[392]\tvalid_0's l2: 1.72353\n",
      "[393]\tvalid_0's l2: 1.72335\n",
      "[394]\tvalid_0's l2: 1.7233\n",
      "[395]\tvalid_0's l2: 1.72317\n",
      "[396]\tvalid_0's l2: 1.72315\n",
      "[397]\tvalid_0's l2: 1.72298\n",
      "[398]\tvalid_0's l2: 1.72284\n",
      "[399]\tvalid_0's l2: 1.72282\n",
      "[400]\tvalid_0's l2: 1.72269\n",
      "Did not meet early stopping. Best iteration is:\n",
      "[400]\tvalid_0's l2: 1.72269\n",
      "fscore        : 0.6392624073411757\n",
      "maeOverFscore : 1.7811428259684727\n"
     ]
    },
    {
     "data": {
      "text/plain": [
       "(0.6392624073411757, 1.7811428259684727)"
      ]
     },
     "execution_count": 32,
     "metadata": {},
     "output_type": "execute_result"
    }
   ],
   "source": [
    "clf = lgb.LGBMRegressor(boosting_type='gbdt', num_leaves=31, max_depth=- 1, learning_rate=0.01, \\\n",
    "                         n_estimators=400, subsample_for_bin=200000, objective=None, class_weight=None, \\\n",
    "                         min_split_gain=0.0, min_child_weight=0.001, min_child_samples=20, subsample=1.0, \\\n",
    "                         subsample_freq=0, colsample_bytree=1.0, reg_alpha=0.0, reg_lambda=0.0, random_state=None, \\\n",
    "                         n_jobs=- 1, silent=True, importance_type='split')\n",
    "\n",
    "clf.fit(x_train, y_train, eval_set=[(x_val, y_val)], \\\n",
    "        early_stopping_rounds=100, \\\n",
    "        verbose=True)\n",
    "\n",
    "score(clf.predict(X[val_idx, :]), Y[val_idx, :])"
   ]
  },
  {
   "cell_type": "code",
   "execution_count": 33,
   "metadata": {},
   "outputs": [
    {
     "data": {
      "text/plain": [
       "<matplotlib.axes._subplots.AxesSubplot at 0x7faf2114e390>"
      ]
     },
     "execution_count": 33,
     "metadata": {},
     "output_type": "execute_result"
    },
    {
     "data": {
      "image/png": "[encoded data removed]",
      "text/plain": [
       "<Figure size 720x432 with 1 Axes>"
      ]
     },
     "metadata": {
      "needs_background": "light"
     },
     "output_type": "display_data"
    }
   ],
   "source": [
    "fig, ax = plt.subplots(figsize=(10,6))\n",
    "lgb.plot_importance(clf, ax)"
   ]
  },
  {
   "cell_type": "code",
   "execution_count": 34,
   "metadata": {},
   "outputs": [],
   "source": [
    "submit(clf, 'lightbgm_all_features_all_data_2')"
   ]
  },
  {
   "cell_type": "markdown",
   "metadata": {},
   "source": [
    "# Lightbgm"
   ]
  },
  {
   "cell_type": "markdown",
   "metadata": {},
   "source": [
    "# Lightbgm train"
   ]
  },
  {
   "cell_type": "code",
   "execution_count": null,
   "metadata": {},
   "outputs": [],
   "source": [
    "params = {'learning_rate': 0.01, 'max_depth': -1, 'boosting': 'gbdt', \n",
    "          'objective': 'regression', 'metric': 'mae', 'is_training_metric': True, \n",
    "          'num_leaves': 1024, 'feature_fraction': 0.9, 'bagging_fraction': 0.7, \n",
    "          'bagging_freq': 5, 'seed':7}\n",
    "\n",
    "model = lgb.train(params, train, 1000, val, verbose_eval=10, \\\n",
    "                  early_stopping_rounds=100)"
   ]
  },
  {
   "cell_type": "code",
   "execution_count": null,
   "metadata": {},
   "outputs": [],
   "source": [
    "pred = model.predict(x_val)\n",
    "\n",
    "score(y_val, pred)"
   ]
  },
  {
   "cell_type": "markdown",
   "metadata": {},
   "source": [
    "# Lightbgm LGBMRegressor"
   ]
  },
  {
   "cell_type": "code",
   "execution_count": null,
   "metadata": {},
   "outputs": [],
   "source": [
    "# lightgbm.LGBMRegressor(boosting_type='gbdt', num_leaves=31, max_depth=- 1, learning_rate=0.1, \\\n",
    "#                              n_estimators=100, subsample_for_bin=200000, objective=None, class_weight=None, \\\n",
    "#                              min_split_gain=0.0, min_child_weight=0.001, min_child_samples=20, subsample=1.0, \\\n",
    "#                              subsample_freq=0, colsample_bytree=1.0, reg_alpha=0.0, reg_lambda=0.0, random_state=None, \\\n",
    "#                              n_jobs=- 1, silent=True, importance_type='split')"
   ]
  },
  {
   "cell_type": "code",
   "execution_count": null,
   "metadata": {},
   "outputs": [],
   "source": [
    "clf = lgb.LGBMRegressor(boosting_type='gbdt', num_leaves=31, max_depth=- 1, learning_rate=0.01, \\\n",
    "                             n_estimators=400, subsample_for_bin=200000, objective=None, class_weight=None, \\\n",
    "                             min_split_gain=0.0, min_child_weight=0.001, min_child_samples=20, subsample=1.0, \\\n",
    "                             subsample_freq=0, colsample_bytree=1.0, reg_alpha=0.0, reg_lambda=0.0, random_state=None, \\\n",
    "                             n_jobs=- 1, silent=True, importance_type='split')"
   ]
  },
  {
   "cell_type": "code",
   "execution_count": null,
   "metadata": {},
   "outputs": [],
   "source": [
    "# fit(X, y, sample_weight=None, init_score=None, eval_set=None, eval_names=None, \\\n",
    "#     eval_sample_weight=None, eval_init_score=None, eval_metric=None, \\\n",
    "#     early_stopping_rounds=None, verbose=True, feature_name='auto', \\\n",
    "#     categorical_feature='auto', callbacks=None, init_model=None)"
   ]
  },
  {
   "cell_type": "code",
   "execution_count": null,
   "metadata": {},
   "outputs": [],
   "source": [
    "clf.fit(x_train, y_train, eval_set=[(x_val, y_val)], \\\n",
    "        eval_metric=maeOverFscore_sklearn, early_stopping_rounds=100, \\\n",
    "        verbose=True, eval_names='maeOverFscore')"
   ]
  },
  {
   "cell_type": "markdown",
   "metadata": {},
   "source": [
    "# Feature Selection"
   ]
  },
  {
   "cell_type": "code",
   "execution_count": null,
   "metadata": {},
   "outputs": [],
   "source": []
  },
  {
   "cell_type": "code",
   "execution_count": null,
   "metadata": {},
   "outputs": [],
   "source": []
  },
  {
   "cell_type": "code",
   "execution_count": null,
   "metadata": {},
   "outputs": [],
   "source": []
  },
  {
   "cell_type": "code",
   "execution_count": null,
   "metadata": {},
   "outputs": [],
   "source": []
  },
  {
   "cell_type": "code",
   "execution_count": null,
   "metadata": {},
   "outputs": [],
   "source": []
  },
  {
   "cell_type": "markdown",
   "metadata": {},
   "source": [
    "# KFold"
   ]
  },
  {
   "cell_type": "code",
   "execution_count": null,
   "metadata": {},
   "outputs": [],
   "source": [
    "kfold = KFold(n_splits=4, random_state=7, shuffle=True)\n",
    "\n",
    "for (train_idx, val_idx) in kfold.split(Y):\n",
    "    ridge = Ridge(alpha=10.0).fit(X[train_idx, :], Y[train_idx])\n",
    "    \n",
    "    score(Y[val_idx], ridge.predict(X[val_idx, :]))"
   ]
  },
  {
   "cell_type": "markdown",
   "metadata": {},
   "source": [
    "# 시각화"
   ]
  },
  {
   "cell_type": "code",
   "execution_count": null,
   "metadata": {},
   "outputs": [],
   "source": [
    "fig, ax = plt.subplots(figsize=(10,6))\n",
    "lgb.plot_importance(model, ax)"
   ]
  },
  {
   "cell_type": "code",
   "execution_count": null,
   "metadata": {},
   "outputs": [],
   "source": [
    "# lgb_param = {\n",
    "#     'objective': 'regression',\n",
    "#     'metrics': maeOverFscore_sklearn,\n",
    "#     'learning_rate' : 0.01,\n",
    "#     'eval_metric': maeOverFscore_sklearn,\n",
    "#     'early_stopping_rounds' : 100,\n",
    "#     'eval_set': val_data,\n",
    "#     'verbose': True,\n",
    "#     'stratified':False,\n",
    "#     'verbose_eval': 10,\n",
    "#     'nfold': 5,\n",
    "#     'num_boost_round': 99999,\n",
    "# }\n",
    "\n",
    "# cv_result = lgb.cv(\n",
    "#     lgb_param,\n",
    "#     train_data\n",
    "# )\n",
    "\n",
    "# lgb_model = lgb.train(\n",
    "#   lgb_param,\n",
    "#   train_data,\n",
    "#   num_boost_round=len(cv_result['l1-mean'])\n",
    "# )"
   ]
  },
  {
   "cell_type": "markdown",
   "metadata": {},
   "source": [
    "# Submit"
   ]
  },
  {
   "cell_type": "code",
   "execution_count": null,
   "metadata": {},
   "outputs": [],
   "source": [
    "def submit(clf, name, preprocess=None):\n",
    "    x_test = reshape(load_data('test'))\n",
    "    \n",
    "    if preprocess is not None:\n",
    "        x_test = preprocess.transform(x_test)\n",
    "        print(\"transform\")\n",
    "    \n",
    "    pred = clf.predict(x_test)\n",
    "\n",
    "    submission = pd.read_csv(os.path.join(data_path, 'sample_submission.csv'))\n",
    "    submission.iloc[:, 1:] = pred.reshape(-1, 1600)\n",
    "\n",
    "    submission.to_csv(os.path.join(submit_path, f'{name}.csv'), index = False)"
   ]
  },
  {
   "cell_type": "code",
   "execution_count": null,
   "metadata": {},
   "outputs": [],
   "source": [
    "submit(lgb_model, 'lightbgm_selectK')"
   ]
  },
  {
   "cell_type": "markdown",
   "metadata": {},
   "source": [
    "- https://dacon.io/competitions/official/235591/mysubmission/\n",
    "- D:\\인공지능_공모전\\github\\submit"
   ]
  }
 ],
 "metadata": {
  "kernelspec": {
   "display_name": "Python 3",
   "language": "python",
   "name": "python3"
  },
  "language_info": {
   "codemirror_mode": {
    "name": "ipython",
    "version": 3
   },
   "file_extension": ".py",
   "mimetype": "text/x-python",
   "name": "python",
   "nbconvert_exporter": "python",
   "pygments_lexer": "ipython3",
   "version": "3.7.7"
  }
 },
 "nbformat": 4,
 "nbformat_minor": 2
}
