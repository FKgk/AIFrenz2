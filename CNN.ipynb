{
 "cells": [
  {
   "cell_type": "code",
   "execution_count": 1,
   "metadata": {
    "colab": {
     "base_uri": "https://localhost:8080/",
     "height": 108
    },
    "colab_type": "code",
    "executionInfo": {
     "elapsed": 6470,
     "status": "ok",
     "timestamp": 1587037689483,
     "user": {
      "displayName": "김광호",
      "photoUrl": "",
      "userId": "02810039257948901406"
     },
     "user_tz": -540
    },
    "id": "hUs6xtyznJvU",
    "outputId": "ca4aef78-a89c-4c9b-b16a-3eab0acbf2e4"
   },
   "outputs": [],
   "source": [
    "import os\n",
    "import numpy as np\n",
    "import pandas as pd\n",
    "\n",
    "from sklearn.model_selection import KFold\n",
    "from sklearn.metrics import mean_squared_error, mean_absolute_error, f1_score\n",
    "from testMail import Mail\n",
    "\n",
    "import tensorflow as tf\n",
    "from tensorflow.keras import Model\n",
    "from tensorflow.keras.layers import Dense, Conv2D, Dropout, Conv2DTranspose, MaxPooling2D, BatchNormalization, Activation, concatenate, Input, GlobalAveragePooling2D\n",
    "from tensorflow.keras.losses import mean_squared_error, mean_absolute_error\n",
    "from tensorflow.keras.optimizers import Adam"
   ]
  },
  {
   "cell_type": "code",
   "execution_count": 2,
   "metadata": {
    "colab": {
     "base_uri": "https://localhost:8080/",
     "height": 52
    },
    "colab_type": "code",
    "executionInfo": {
     "elapsed": 6457,
     "status": "ok",
     "timestamp": 1587037689484,
     "user": {
      "displayName": "김광호",
      "photoUrl": "",
      "userId": "02810039257948901406"
     },
     "user_tz": -540
    },
    "id": "X0WsMcAiqb1G",
    "outputId": "dbb3054c-a1f7-4cfb-86e6-c7b685fb43a4"
   },
   "outputs": [
    {
     "name": "stdout",
     "output_type": "stream",
     "text": [
      "1.15.0\n",
      "\n"
     ]
    }
   ],
   "source": [
    "print(tf.__version__)\n",
    "print(tf.test.gpu_device_name())\n",
    "# tf.debugging.set_log_device_placement(True)"
   ]
  },
  {
   "cell_type": "markdown",
   "metadata": {
    "colab_type": "text",
    "id": "feDC4GUTq06W"
   },
   "source": [
    "# 데이터 로드"
   ]
  },
  {
   "cell_type": "code",
   "execution_count": 4,
   "metadata": {
    "colab": {},
    "colab_type": "code",
    "id": "Il0rqEG7DGNT"
   },
   "outputs": [],
   "source": [
    "base = os.getcwd()\n",
    "data_path = os.path.join(base, 'data')\n",
    "submit_path = os.path.join(base, 'submit')\n",
    "\n",
    "def load(name):\n",
    "    return np.load(os.path.join(data_path, f\"{name}.npy\"))"
   ]
  },
  {
   "cell_type": "code",
   "execution_count": null,
   "metadata": {},
   "outputs": [],
   "source": [
    "with tf.device(tf.test.gpu_device_name()):\n",
    "    data = load('EDA')"
   ]
  },
  {
   "cell_type": "markdown",
   "metadata": {
    "colab_type": "text",
    "id": "mpENHCUesufO"
   },
   "source": [
    "# metrics 설정"
   ]
  },
  {
   "cell_type": "code",
   "execution_count": 3,
   "metadata": {
    "colab": {},
    "colab_type": "code",
    "id": "5Zwo_OfLqb4W"
   },
   "outputs": [],
   "source": [
    "np.random.seed(7)\n",
    "# tf.random.set_seed(7)\n",
    "tf.random.set_random_seed(7)"
   ]
  },
  {
   "cell_type": "code",
   "execution_count": 4,
   "metadata": {
    "colab": {},
    "colab_type": "code",
    "id": "w7DCNnEmqb9_"
   },
   "outputs": [],
   "source": [
    "def mae(y_true, y_pred) :\n",
    "    y_true, y_pred = np.array(y_true), np.array(y_pred)\n",
    "    \n",
    "    y_true = y_true.reshape(1, -1)[0]\n",
    "    y_pred = y_pred.reshape(1, -1)[0]\n",
    "    over_threshold = y_true >= 0.1\n",
    "    \n",
    "    return np.mean(np.abs(y_true[over_threshold] - y_pred[over_threshold]))\n",
    "\n",
    "def fscore(y_true, y_pred):\n",
    "    y_true, y_pred = np.array(y_true), np.array(y_pred)\n",
    "    \n",
    "    y_true = y_true.reshape(1, -1)[0]\n",
    "    y_pred = y_pred.reshape(1, -1)[0]\n",
    "    remove_NAs = y_true >= 0\n",
    "    \n",
    "    y_true = np.where(y_true[remove_NAs] >= 0.1, 1, 0)\n",
    "    y_pred = np.where(y_pred[remove_NAs] >= 0.1, 1, 0)\n",
    "    \n",
    "    return(f1_score(y_true, y_pred))\n",
    "\n",
    "def maeOverFscore(y_true, y_pred):\n",
    "    return mae(y_true, y_pred) / (fscore(y_true, y_pred) + 1e-07)\n",
    "\n",
    "def fscore_keras(y_true, y_pred):\n",
    "    score = tf.py_function(func=fscore, inp=[y_true, y_pred], Tout=tf.float32, name='fscore_keras')\n",
    "    return score\n",
    "\n",
    "def maeOverFscore_keras(y_true, y_pred):\n",
    "    score = tf.py_function(func=maeOverFscore, inp=[y_true, y_pred], Tout=tf.float32,  name='custom_mse') \n",
    "    return score\n",
    "\n",
    "def score(y_val, pred):\n",
    "    f_value = fscore(y_val, pred)\n",
    "    mae_value = maeOverFscore(y_val, pred)\n",
    "    \n",
    "    print(f\"fscore : {f_value} \\t maeOverFscore : {mae_value}\")\n",
    "    \n",
    "    return (f_value, mae_value)"
   ]
  },
  {
   "cell_type": "markdown",
   "metadata": {
    "colab_type": "text",
    "id": "cYFIWmrMqu4I"
   },
   "source": [
    "# 모델 설계"
   ]
  },
  {
   "cell_type": "code",
   "execution_count": 5,
   "metadata": {
    "colab": {},
    "colab_type": "code",
    "id": "M1TfYEgmqcGN"
   },
   "outputs": [],
   "source": [
    "def build_model(start_neurons):\n",
    "    input_layer = Input((40, 40, 14))\n",
    "\n",
    "    # 40 x 40 -> 20 x 20\n",
    "    conv1 = Conv2D(start_neurons * 1, (3, 3), activation=\"relu\", padding=\"same\")(input_layer)\n",
    "    conv1 = Conv2D(start_neurons * 1, (3, 3), activation=\"relu\", padding=\"same\")(conv1)\n",
    "    pool1 = BatchNormalization()(conv1)\n",
    "    pool1 = MaxPooling2D((2, 2))(pool1)\n",
    "    pool1 = Dropout(0.25)(pool1)\n",
    "\n",
    "    # 20 x 20 -> 10 x 10\n",
    "    conv2 = Conv2D(start_neurons * 2, (3, 3), activation=\"relu\", padding=\"same\")(pool1)\n",
    "    conv2 = BatchNormalization()(conv2)\n",
    "    conv2 = Conv2D(start_neurons * 2, (3, 3), activation=\"relu\", padding=\"same\")(conv2)\n",
    "    pool2 = BatchNormalization()(conv2)\n",
    "    pool2 = MaxPooling2D((2, 2))(pool2)\n",
    "    pool2 = Dropout(0.25)(pool2)\n",
    "\n",
    "    # 10 x 10 \n",
    "    convm = Conv2D(start_neurons * 4, (3, 3), activation=\"relu\", padding=\"same\")(pool2)\n",
    "    convm = BatchNormalization()(convm)\n",
    "    convm = Conv2D(start_neurons * 4, (2, 2), activation=\"relu\", padding=\"same\")(convm)\n",
    "    convm = BatchNormalization()(convm)\n",
    "\n",
    "    # 10 x 10 -> 20 x 20\n",
    "    deconv2 = Conv2DTranspose(start_neurons * 2, (3, 3), strides=(2, 2), padding=\"same\")(convm)\n",
    "    uconv2 = concatenate([deconv2, conv2])\n",
    "    uconv2 = Dropout(0.25)(uconv2)\n",
    "    uconv2 = Conv2D(start_neurons * 2, (3, 3), activation=\"relu\", padding=\"same\")(uconv2)\n",
    "    uconv2 = BatchNormalization()(uconv2)\n",
    "    uconv2 = Conv2D(start_neurons * 2, (3, 3), activation=\"relu\", padding=\"same\")(uconv2)\n",
    "    uconv2 = BatchNormalization()(uconv2)\n",
    "\n",
    "    # 20 x 20 -> 40 x 40\n",
    "    deconv1 = Conv2DTranspose(start_neurons * 1, (3, 3), strides=(2, 2), padding=\"same\")(uconv2)\n",
    "    uconv1 = concatenate([deconv1, conv1])\n",
    "    uconv1 = Dropout(0.25)(uconv1)\n",
    "    uconv1 = Conv2D(start_neurons * 1, (3, 3), activation=\"relu\", padding=\"same\")(uconv1)\n",
    "    uconv1 = BatchNormalization()(uconv1)\n",
    "    uconv1 = Conv2D(start_neurons * 1, (3, 3), activation=\"relu\", padding=\"same\")(uconv1)\n",
    "    uconv1 = BatchNormalization()(uconv1)\n",
    "    uconv1 = Dropout(0.25)(uconv1)\n",
    "    \n",
    "    output_layer = Conv2D(1, (1,1), padding=\"same\", activation='relu')(uconv1)\n",
    "    \n",
    "    return Model(input_layer, output_layer)"
   ]
  },
  {
   "cell_type": "markdown",
   "metadata": {},
   "source": [
    "# 하이퍼 파라미터"
   ]
  },
  {
   "cell_type": "code",
   "execution_count": null,
   "metadata": {},
   "outputs": [],
   "source": [
    "epochs=5\n",
    "batch_size=512\n",
    "shuffle=True\n",
    "learning_rate=1e-4\n",
    "start_neurons=32"
   ]
  },
  {
   "cell_type": "markdown",
   "metadata": {},
   "source": [
    "# 모델 생성 및 학습"
   ]
  },
  {
   "cell_type": "code",
   "execution_count": 6,
   "metadata": {
    "colab": {},
    "colab_type": "code",
    "id": "nXA3F4WgqcI3"
   },
   "outputs": [
    {
     "name": "stdout",
     "output_type": "stream",
     "text": [
      "WARNING:tensorflow:From C:\\Users\\user\\Anaconda3\\lib\\site-packages\\tensorflow_core\\python\\ops\\resource_variable_ops.py:1630: calling BaseResourceVariable.__init__ (from tensorflow.python.ops.resource_variable_ops) with constraint is deprecated and will be removed in a future version.\n",
      "Instructions for updating:\n",
      "If using Keras pass *_constraint arguments to layers.\n"
     ]
    }
   ],
   "source": [
    "with tf.device(tf.test.gpu_device_name()):\n",
    "    model = build_model(start_neurons)\n",
    "    model.compile(loss=mean_absolute_error, optimizer=Adam(learning_rate), metrics=[maeOverFscore_keras, fscore_keras])"
   ]
  },
  {
   "cell_type": "code",
   "execution_count": 0,
   "metadata": {
    "colab": {
     "base_uri": "https://localhost:8080/",
     "height": 124
    },
    "colab_type": "code",
    "executionInfo": {
     "elapsed": 260854,
     "status": "ok",
     "timestamp": 1587027784374,
     "user": {
      "displayName": "김광호",
      "photoUrl": "",
      "userId": "02810039257948901406"
     },
     "user_tz": -540
    },
    "id": "blVduBxpqcLg",
    "outputId": "1d10e75e-200f-4a39-b049-8bcf2d6ea91a"
   },
   "outputs": [
    {
     "name": "stdout",
     "output_type": "stream",
     "text": [
      "Epoch 1/3\n",
      "127/127 [==============================] - 2779s 22s/step - loss: 0.1906 - maeOverFscore_keras: 6.6253 - fscore_keras: 0.3654\n",
      "Epoch 2/3\n",
      "127/127 [==============================] - 2778s 22s/step - loss: 0.1236 - maeOverFscore_keras: 3.3188 - fscore_keras: 0.5267\n",
      "Epoch 3/3\n",
      " 89/127 [====================>.........] - ETA: 14:12 - loss: 0.1201 - maeOverFscore_keras: 3.3051 - fscore_keras: 0.5242"
     ]
    }
   ],
   "source": [
    "historys = list()\n",
    "\n",
    "with tf.device(tf.test.gpu_device_name()):\n",
    "    kfold = KFold(n_splits=4, random_state=7, shuffle=True)\n",
    "    \n",
    "    for i, (train_idx, val_idx) in enumerate(kfold.split(data)):\n",
    "        print(\"{} : train\".format(i))\n",
    "        x_train = data[train_idx, :, :, :-1]\n",
    "        y_train = data[train_idx, :, :,  -1].reshape(data.shape[0], 40, 40, 1)\n",
    "        \n",
    "        x_val = data[val_idx, :, :, :-1]\n",
    "        y_val = data[val_idx, :, :,  -1].reshape(data.shape[0], 40, 40, 1)\n",
    "        \n",
    "        \n",
    "        history = model.fit(x=x_train, y=y_train, validation_data=(x_val, y_val), \\\n",
    "                            epochs=epochs, batch_size=batch_size, shuffle=shuffle, \\\n",
    "                            verbose=1, use_multiprocessing=True)\n",
    "        \n",
    "        historys.append(history)"
   ]
  },
  {
   "cell_type": "markdown",
   "metadata": {
    "colab_type": "text",
    "id": "ClufuVCHHG14"
   },
   "source": [
    "### 학습 시간\n",
    "- 1 epochs : 2543s (42m)\n",
    "- 2 epochs : 2549s "
   ]
  },
  {
   "cell_type": "markdown",
   "metadata": {
    "colab_type": "text",
    "id": "HPcP_H_Jqx3e"
   },
   "source": [
    "## 학습 시각화"
   ]
  },
  {
   "cell_type": "code",
   "execution_count": 0,
   "metadata": {
    "colab": {},
    "colab_type": "code",
    "id": "a5iXmv2_qcOa"
   },
   "outputs": [],
   "source": [
    "def visual_train(history):\n",
    "    hist = history.history\n",
    "    fig, ax = plt.subplots(1,3, figsize=(24,8))\n",
    "\n",
    "    for i, key in enumerate(hist.keys()):\n",
    "        ax[i].set_title(key)\n",
    "        ax[i].plot(range(1, len(hist[key]) + 1), hist[key], 'b')\n",
    "        ax[i].set_xlabel('epoch')\n",
    "        ax[i].set_ylabel(key.split('_')[0])\n",
    "#         ax[i].legend(loc='upper left')"
   ]
  },
  {
   "cell_type": "code",
   "execution_count": 0,
   "metadata": {
    "colab": {},
    "colab_type": "code",
    "id": "vg_ZsC3rQhbD"
   },
   "outputs": [],
   "source": [
    "for history in historys:\n",
    "    visual_train(history)"
   ]
  },
  {
   "cell_type": "markdown",
   "metadata": {
    "colab_type": "text",
    "id": "pPdNxUpMRBdE"
   },
   "source": [
    "## 재 학습"
   ]
  },
  {
   "cell_type": "code",
   "execution_count": null,
   "metadata": {},
   "outputs": [],
   "source": [
    "with tf.device(tf.test.gpu_device_name()):\n",
    "    model = build_model(start_neurons)\n",
    "    model.compile(loss=mean_absolute_error, optimizer=Adam(learning_rate), metrics=[maeOverFscore_keras, fscore_keras])\n",
    "    \n",
    "    history = model.fit(x=data[:, :, :, :-1], y=data[:, :, :, -1].reshape(data.shape[0], 40, 40, 1), \\\n",
    "                        epochs=epochs, batch_size=batch_size, shuffle=shuffle, \\\n",
    "                        verbose=1, use_multiprocessing=True)"
   ]
  },
  {
   "cell_type": "markdown",
   "metadata": {},
   "source": [
    "# submit 생성"
   ]
  },
  {
   "cell_type": "code",
   "execution_count": 0,
   "metadata": {
    "colab": {},
    "colab_type": "code",
    "id": "TijPbzeoeCSj"
   },
   "outputs": [],
   "source": [
    "def submit(model, name):\n",
    "    test_data = load('test')\n",
    "    pred = model.predict(test_data)\n",
    "\n",
    "    submission = pd.read_csv(os.path.join(data_path, 'sample_submission.csv'))\n",
    "    submission.iloc[:, 1:] = pred.reshape(-1, 1600)\n",
    "\n",
    "    submission.to_csv(os.path.join(submit_path, f'{name}.csv'), index=False)"
   ]
  },
  {
   "cell_type": "code",
   "execution_count": 0,
   "metadata": {
    "colab": {},
    "colab_type": "code",
    "id": "kLeEa65VcfR8"
   },
   "outputs": [],
   "source": [
    "submit(model, 'CNN')"
   ]
  },
  {
   "cell_type": "markdown",
   "metadata": {
    "colab_type": "text",
    "id": "wx8J7H0TfjSo"
   },
   "source": [
    "# 메일 보내기"
   ]
  },
  {
   "cell_type": "code",
   "execution_count": 8,
   "metadata": {},
   "outputs": [],
   "source": [
    "mail = Mail(\"rhkd865@gmail.com\", \"\")\n",
    "\n",
    "mail.send(\"rhkd865@gmail.com\", \"AIFrenz2\", \"Finished DL\")\n",
    "mail.send(\"rhkd865@naver.com\", \"AIFrenz2\", \"Finished DL\")\n",
    "\n",
    "mail.close()"
   ]
  }
 ],
 "metadata": {
  "colab": {
   "authorship_tag": "ABX9TyNBXpJfRGaZ4iosJpe+2jae",
   "collapsed_sections": [],
   "mount_file_id": "1P4Mcer3_wS0VC3DqbVSaFmtGyyA8fRZV",
   "name": "DL_baseline",
   "provenance": []
  },
  "kernelspec": {
   "display_name": "Python 3",
   "language": "python",
   "name": "python3"
  },
  "language_info": {
   "codemirror_mode": {
    "name": "ipython",
    "version": 3
   },
   "file_extension": ".py",
   "mimetype": "text/x-python",
   "name": "python",
   "nbconvert_exporter": "python",
   "pygments_lexer": "ipython3",
   "version": "3.7.4"
  }
 },
 "nbformat": 4,
 "nbformat_minor": 1
}
