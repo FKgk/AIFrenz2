{
 "cells": [
  {
   "cell_type": "code",
   "execution_count": 1,
   "metadata": {
    "colab": {
     "base_uri": "https://localhost:8080/",
     "height": 108
    },
    "colab_type": "code",
    "executionInfo": {
     "elapsed": 6470,
     "status": "ok",
     "timestamp": 1587037689483,
     "user": {
      "displayName": "김광호",
      "photoUrl": "",
      "userId": "02810039257948901406"
     },
     "user_tz": -540
    },
    "id": "hUs6xtyznJvU",
    "outputId": "ca4aef78-a89c-4c9b-b16a-3eab0acbf2e4"
   },
   "outputs": [],
   "source": [
    "import os\n",
    "import numpy as np\n",
    "import pandas as pd\n",
    "\n",
    "from sklearn.model_selection import KFold\n",
    "from sklearn.metrics import mean_squared_error, mean_absolute_error, f1_score\n",
    "from testMail import Mail\n",
    "\n",
    "import tensorflow as tf\n",
    "from tensorflow.keras import Model\n",
    "from tensorflow.keras.layers import Dense, Conv2D, Dropout, Conv2DTranspose, MaxPooling2D, BatchNormalization, Activation, concatenate, Input, GlobalAveragePooling2D\n",
    "from tensorflow.keras.optimizers import Adam"
   ]
  },
  {
   "cell_type": "code",
   "execution_count": 2,
   "metadata": {
    "colab": {
     "base_uri": "https://localhost:8080/",
     "height": 52
    },
    "colab_type": "code",
    "executionInfo": {
     "elapsed": 6457,
     "status": "ok",
     "timestamp": 1587037689484,
     "user": {
      "displayName": "김광호",
      "photoUrl": "",
      "userId": "02810039257948901406"
     },
     "user_tz": -540
    },
    "id": "X0WsMcAiqb1G",
    "outputId": "dbb3054c-a1f7-4cfb-86e6-c7b685fb43a4"
   },
   "outputs": [
    {
     "name": "stdout",
     "output_type": "stream",
     "text": [
      "1.15.0\n",
      "\n"
     ]
    }
   ],
   "source": [
    "print(tf.__version__)\n",
    "print(tf.test.gpu_device_name())\n",
    "# tf.debugging.set_log_device_placement(True)"
   ]
  },
  {
   "cell_type": "markdown",
   "metadata": {},
   "source": [
    "# data load"
   ]
  },
  {
   "cell_type": "code",
   "execution_count": 4,
   "metadata": {
    "colab": {},
    "colab_type": "code",
    "id": "Il0rqEG7DGNT"
   },
   "outputs": [],
   "source": [
    "base = os.getcwd()\n",
    "data_path = os.path.join(base, 'data')\n",
    "submit_path = os.path.join(base, 'submit')\n",
    "\n",
    "def load(name):\n",
    "    return np.load(os.path.join(data_path, f\"{name}.npy\"))\n",
    "\n",
    "def reshape(data):\n",
    "    return data.reshape(data.shape[0] * 40 * 40, data.shape[-1])"
   ]
  },
  {
   "cell_type": "markdown",
   "metadata": {
    "colab_type": "text",
    "id": "mpENHCUesufO"
   },
   "source": [
    "## metrics 설정"
   ]
  },
  {
   "cell_type": "code",
   "execution_count": 7,
   "metadata": {
    "colab": {},
    "colab_type": "code",
    "id": "5Zwo_OfLqb4W"
   },
   "outputs": [],
   "source": [
    "np.random.seed(7)\n",
    "# tf.random.set_seed(7)\n",
    "tf.random.set_random_seed(7)"
   ]
  },
  {
   "cell_type": "code",
   "execution_count": 8,
   "metadata": {
    "colab": {},
    "colab_type": "code",
    "id": "w7DCNnEmqb9_"
   },
   "outputs": [],
   "source": [
    "def mae(y_true, y_pred) :\n",
    "    y_true, y_pred = np.array(y_true), np.array(y_pred)\n",
    "    \n",
    "    y_true = y_true.reshape(1, -1)[0]\n",
    "    y_pred = y_pred.reshape(1, -1)[0]\n",
    "    over_threshold = y_true >= 0.1\n",
    "    \n",
    "    return np.mean(np.abs(y_true[over_threshold] - y_pred[over_threshold]))\n",
    "\n",
    "def fscore(y_true, y_pred):\n",
    "    y_true, y_pred = np.array(y_true), np.array(y_pred)\n",
    "    \n",
    "    y_true = y_true.reshape(1, -1)[0]\n",
    "    y_pred = y_pred.reshape(1, -1)[0]\n",
    "    remove_NAs = y_true >= 0\n",
    "    \n",
    "    y_true = np.where(y_true[remove_NAs] >= 0.1, 1, 0)\n",
    "    y_pred = np.where(y_pred[remove_NAs] >= 0.1, 1, 0)\n",
    "    \n",
    "    return(f1_score(y_true, y_pred))\n",
    "\n",
    "def maeOverFscore(y_true, y_pred):\n",
    "    return mae(y_true, y_pred) / (fscore(y_true, y_pred) + 1e-07)\n",
    "\n",
    "def fscore_keras(y_true, y_pred):\n",
    "    score = tf.py_function(func=fscore, inp=[y_true, y_pred], Tout=tf.float32, name='fscore_keras')\n",
    "    return score\n",
    "\n",
    "def maeOverFscore_keras(y_true, y_pred):\n",
    "    score = tf.py_function(func=maeOverFscore, inp=[y_true, y_pred], Tout=tf.float32,  name='custom_mse') \n",
    "    return score\n",
    "\n",
    "def score(y_val, pred):\n",
    "    f_value = fscore(y_val, pred)\n",
    "    mae_value = maeOverFscore(y_val, pred)\n",
    "    \n",
    "    print(f\"fscore : {f_value} \\t maeOverFscore : {mae_value}\")\n",
    "    \n",
    "    return (f_value, mae_value)"
   ]
  },
  {
   "cell_type": "markdown",
   "metadata": {
    "colab_type": "text",
    "id": "feDC4GUTq06W"
   },
   "source": [
    "## Generator 생성"
   ]
  },
  {
   "cell_type": "code",
   "execution_count": 0,
   "metadata": {
    "colab": {},
    "colab_type": "code",
    "id": "2yeH3yuoqcAx"
   },
   "outputs": [],
   "source": [
    "def trainGenerator():\n",
    "    data = np.load(os.path.join(data_path, 'EDA.npy'))\n",
    "    \n",
    "    for file in files:\n",
    "        data = np.load(os.path.join(base, file))\n",
    "\n",
    "        x = data[:, :, :-1]\n",
    "        y = data[:, :,  -1].shape(40, 40, 1)\n",
    "\n",
    "        if check(y):\n",
    "            continue\n",
    "\n",
    "        yield (x, y)\n",
    "\n",
    "def valGenerator():\n",
    "    base = os.path.join(data_path, 'val')\n",
    "    files = os.listdir(base)\n",
    "    \n",
    "    for file in files:\n",
    "        data = np.load(os.path.join(base, file))\n",
    "\n",
    "        x = data[:, :, :-1]\n",
    "        y = data[:, :,  -1].shape(40, 40, 1)\n",
    "\n",
    "        yield (x, y)\n",
    "\n",
    "# def allGenerator():\n",
    "#     folders = ['train', 'val']\n",
    "\n",
    "#     for folder in folders:\n",
    "#         for file in os.listdir(os.path.join(data_path, folder)):\n",
    "#             data = np.load(os.path.join(data_path, folder, file))\n",
    "            \n",
    "#             x = data[:, :, :-1]\n",
    "#             y = data[:, :,  -1].shape(40, 40, 1)\n",
    "\n",
    "#             if check(y):\n",
    "#                 continue\n",
    "\n",
    "#             yield (x, y)\n",
    "\n",
    "def testGenerator():\n",
    "    base = os.path.join(data_path, 'test')\n",
    "    files = os.listdir(base)\n",
    "\n",
    "    for file in files:\n",
    "        yield np.load(os.path.join(base, file))"
   ]
  },
  {
   "cell_type": "code",
   "execution_count": 0,
   "metadata": {
    "colab": {},
    "colab_type": "code",
    "id": "vCIYhGJ2qcDf"
   },
   "outputs": [],
   "source": [
    "with tf.device(tf.test.gpu_device_name()):\n",
    "    train_dataset  = tf.data.Dataset.from_generator(\n",
    "      trainGenerator, \\\n",
    "      (tf.float32, tf.float32), \\\n",
    "      (tf.TensorShape([40,40,14]), tf.TensorShape([40,40,1])))\n",
    "\n",
    "    train_dataset = train_dataset.batch(512).prefetch(1)\n",
    "\n",
    "    val_dataset  = tf.data.Dataset.from_generator(\n",
    "      valGenerator, \\\n",
    "      (tf.float32, tf.float32), \\\n",
    "      (tf.TensorShape([40,40,14]), tf.TensorShape([40,40,1])))\n",
    "\n",
    "    val_dataset = val_dataset.batch(512).prefetch(1)\n",
    "\n",
    "#     all_dataset  = tf.data.Dataset.from_generator(\n",
    "#       allGenerator, \\\n",
    "#       (tf.float32, tf.float32), \\\n",
    "#       (tf.TensorShape([40,40,14]), tf.TensorShape([40,40,1])))\n",
    "\n",
    "#     all_dataset = all_dataset.batch(512).prefetch(1)\n",
    "\n",
    "    test_dataset  = tf.data.Dataset.from_generator(\n",
    "      testGenerator, \\\n",
    "      tf.float32, \\\n",
    "      tf.TensorShape([40,40,14]))\n",
    "\n",
    "    test_dataset = test_dataset.batch(512).prefetch(1)"
   ]
  },
  {
   "cell_type": "markdown",
   "metadata": {
    "colab_type": "text",
    "id": "cYFIWmrMqu4I"
   },
   "source": [
    "## 모델 설계 및 학습"
   ]
  },
  {
   "cell_type": "code",
   "execution_count": 4,
   "metadata": {
    "colab": {},
    "colab_type": "code",
    "id": "M1TfYEgmqcGN"
   },
   "outputs": [],
   "source": [
    "def build_model(input_layer, start_neurons):\n",
    "    \n",
    "    # 40 x 40 -> 20 x 20\n",
    "    conv1 = Conv2D(start_neurons * 1, (3, 3), activation=\"relu\", padding=\"same\")(input_layer)\n",
    "    conv1 = Conv2D(start_neurons * 1, (3, 3), activation=\"relu\", padding=\"same\")(conv1)\n",
    "    pool1 = BatchNormalization()(conv1)\n",
    "    pool1 = MaxPooling2D((2, 2))(pool1)\n",
    "    pool1 = Dropout(0.25)(pool1)\n",
    "\n",
    "    # 20 x 20 -> 10 x 10\n",
    "    conv2 = Conv2D(start_neurons * 2, (3, 3), activation=\"relu\", padding=\"same\")(pool1)\n",
    "    conv2 = BatchNormalization()(conv2)\n",
    "    conv2 = Conv2D(start_neurons * 2, (3, 3), activation=\"relu\", padding=\"same\")(conv2)\n",
    "    pool2 = BatchNormalization()(conv2)\n",
    "    pool2 = MaxPooling2D((2, 2))(pool2)\n",
    "    pool2 = Dropout(0.25)(pool2)\n",
    "\n",
    "    # 10 x 10 \n",
    "    convm = Conv2D(start_neurons * 4, (3, 3), activation=\"relu\", padding=\"same\")(pool2)\n",
    "    convm = BatchNormalization()(convm)\n",
    "    convm = Conv2D(start_neurons * 4, (2, 2), activation=\"relu\", padding=\"same\")(convm)\n",
    "    convm = BatchNormalization()(convm)\n",
    "\n",
    "    # 10 x 10 -> 20 x 20\n",
    "    deconv2 = Conv2DTranspose(start_neurons * 2, (3, 3), strides=(2, 2), padding=\"same\")(convm)\n",
    "    uconv2 = concatenate([deconv2, conv2])\n",
    "    uconv2 = Dropout(0.25)(uconv2)\n",
    "    uconv2 = Conv2D(start_neurons * 2, (3, 3), activation=\"relu\", padding=\"same\")(uconv2)\n",
    "    uconv2 = BatchNormalization()(uconv2)\n",
    "    uconv2 = Conv2D(start_neurons * 2, (3, 3), activation=\"relu\", padding=\"same\")(uconv2)\n",
    "    uconv2 = BatchNormalization()(uconv2)\n",
    "\n",
    "    # 20 x 20 -> 40 x 40\n",
    "    deconv1 = Conv2DTranspose(start_neurons * 1, (3, 3), strides=(2, 2), padding=\"same\")(uconv2)\n",
    "    uconv1 = concatenate([deconv1, conv1])\n",
    "    uconv1 = Dropout(0.25)(uconv1)\n",
    "    uconv1 = Conv2D(start_neurons * 1, (3, 3), activation=\"relu\", padding=\"same\")(uconv1)\n",
    "    uconv1 = BatchNormalization()(uconv1)\n",
    "    uconv1 = Conv2D(start_neurons * 1, (3, 3), activation=\"relu\", padding=\"same\")(uconv1)\n",
    "    uconv1 = BatchNormalization()(uconv1)\n",
    "    uconv1 = Dropout(0.25)(uconv1)\n",
    "    \n",
    "    output_layer = Conv2D(1, (1,1), padding=\"same\", activation='relu')(uconv1)\n",
    "    \n",
    "    return output_layer"
   ]
  },
  {
   "cell_type": "code",
   "execution_count": 5,
   "metadata": {
    "colab": {},
    "colab_type": "code",
    "id": "nXA3F4WgqcI3"
   },
   "outputs": [
    {
     "name": "stdout",
     "output_type": "stream",
     "text": [
      "WARNING:tensorflow:From C:\\Users\\user\\Anaconda3\\lib\\site-packages\\tensorflow_core\\python\\ops\\resource_variable_ops.py:1630: calling BaseResourceVariable.__init__ (from tensorflow.python.ops.resource_variable_ops) with constraint is deprecated and will be removed in a future version.\n",
      "Instructions for updating:\n",
      "If using Keras pass *_constraint arguments to layers.\n"
     ]
    },
    {
     "ename": "NameError",
     "evalue": "name 'maeOverFscore_keras' is not defined",
     "output_type": "error",
     "traceback": [
      "\u001b[1;31m---------------------------------------------------------------------------\u001b[0m",
      "\u001b[1;31mNameError\u001b[0m                                 Traceback (most recent call last)",
      "\u001b[1;32m<ipython-input-5-03b480ae2edd>\u001b[0m in \u001b[0;36m<module>\u001b[1;34m\u001b[0m\n\u001b[0;32m      3\u001b[0m     \u001b[0moutput_layer\u001b[0m \u001b[1;33m=\u001b[0m \u001b[0mbuild_model\u001b[0m\u001b[1;33m(\u001b[0m\u001b[0minput_layer\u001b[0m\u001b[1;33m,\u001b[0m \u001b[1;36m32\u001b[0m\u001b[1;33m)\u001b[0m\u001b[1;33m\u001b[0m\u001b[1;33m\u001b[0m\u001b[0m\n\u001b[0;32m      4\u001b[0m     \u001b[0mmodel\u001b[0m \u001b[1;33m=\u001b[0m \u001b[0mModel\u001b[0m\u001b[1;33m(\u001b[0m\u001b[0minput_layer\u001b[0m\u001b[1;33m,\u001b[0m \u001b[0moutput_layer\u001b[0m\u001b[1;33m)\u001b[0m\u001b[1;33m\u001b[0m\u001b[1;33m\u001b[0m\u001b[0m\n\u001b[1;32m----> 5\u001b[1;33m     \u001b[0mmodel\u001b[0m\u001b[1;33m.\u001b[0m\u001b[0mcompile\u001b[0m\u001b[1;33m(\u001b[0m\u001b[0mloss\u001b[0m\u001b[1;33m=\u001b[0m\u001b[1;34m\"mae\"\u001b[0m\u001b[1;33m,\u001b[0m \u001b[0moptimizer\u001b[0m\u001b[1;33m=\u001b[0m\u001b[0mAdam\u001b[0m\u001b[1;33m(\u001b[0m\u001b[1;36m1e-3\u001b[0m\u001b[1;33m)\u001b[0m\u001b[1;33m,\u001b[0m \u001b[0mmetrics\u001b[0m\u001b[1;33m=\u001b[0m\u001b[1;33m[\u001b[0m\u001b[0mmaeOverFscore_keras\u001b[0m\u001b[1;33m,\u001b[0m \u001b[0mfscore_keras\u001b[0m\u001b[1;33m]\u001b[0m\u001b[1;33m)\u001b[0m\u001b[1;33m\u001b[0m\u001b[1;33m\u001b[0m\u001b[0m\n\u001b[0m",
      "\u001b[1;31mNameError\u001b[0m: name 'maeOverFscore_keras' is not defined"
     ]
    }
   ],
   "source": [
    "with tf.device(tf.test.gpu_device_name()):\n",
    "    input_layer = Input((40, 40, 14))\n",
    "    output_layer = build_model(input_layer, 32)\n",
    "    model = Model(input_layer, output_layer)\n",
    "    model.compile(loss=\"mae\", optimizer=Adam(1e-3), metrics=[maeOverFscore_keras, fscore_keras])"
   ]
  },
  {
   "cell_type": "code",
   "execution_count": 0,
   "metadata": {
    "colab": {
     "base_uri": "https://localhost:8080/",
     "height": 124
    },
    "colab_type": "code",
    "executionInfo": {
     "elapsed": 260854,
     "status": "ok",
     "timestamp": 1587027784374,
     "user": {
      "displayName": "김광호",
      "photoUrl": "",
      "userId": "02810039257948901406"
     },
     "user_tz": -540
    },
    "id": "blVduBxpqcLg",
    "outputId": "1d10e75e-200f-4a39-b049-8bcf2d6ea91a"
   },
   "outputs": [
    {
     "name": "stdout",
     "output_type": "stream",
     "text": [
      "Epoch 1/3\n",
      "127/127 [==============================] - 2779s 22s/step - loss: 0.1906 - maeOverFscore_keras: 6.6253 - fscore_keras: 0.3654\n",
      "Epoch 2/3\n",
      "127/127 [==============================] - 2778s 22s/step - loss: 0.1236 - maeOverFscore_keras: 3.3188 - fscore_keras: 0.5267\n",
      "Epoch 3/3\n",
      " 89/127 [====================>.........] - ETA: 14:12 - loss: 0.1201 - maeOverFscore_keras: 3.3051 - fscore_keras: 0.5242"
     ]
    }
   ],
   "source": [
    "with tf.device(tf.test.gpu_device_name()):\n",
    "    history = model.fit(train_dataset, epochs=4, verbose=1)"
   ]
  },
  {
   "cell_type": "markdown",
   "metadata": {
    "colab_type": "text",
    "id": "ClufuVCHHG14"
   },
   "source": [
    "### 학습 시간\n",
    "- 1 epochs : 2543s (42m)\n",
    "- 2 epochs : 2549s "
   ]
  },
  {
   "cell_type": "markdown",
   "metadata": {
    "colab_type": "text",
    "id": "HPcP_H_Jqx3e"
   },
   "source": [
    "## 학습 시각화"
   ]
  },
  {
   "cell_type": "code",
   "execution_count": 0,
   "metadata": {
    "colab": {},
    "colab_type": "code",
    "id": "a5iXmv2_qcOa"
   },
   "outputs": [],
   "source": [
    "def visual_train(history):\n",
    "    hist = history.history\n",
    "    fig, ax = plt.subplots(1,3, figsize=(24,8))\n",
    "\n",
    "    for i, key in enumerate(hist.keys()):\n",
    "        ax[i].set_title(key)\n",
    "        ax[i].plot(range(1, len(hist[key]) + 1), hist[key], 'b')\n",
    "        ax[i].set_xlabel('epoch')\n",
    "        ax[i].set_ylabel(key.split('_')[0])\n",
    "    # ax[i].legend(loc='upper left')"
   ]
  },
  {
   "cell_type": "code",
   "execution_count": 0,
   "metadata": {
    "colab": {},
    "colab_type": "code",
    "id": "vg_ZsC3rQhbD"
   },
   "outputs": [],
   "source": [
    "visual_train(history)"
   ]
  },
  {
   "cell_type": "markdown",
   "metadata": {
    "colab_type": "text",
    "id": "pPdNxUpMRBdE"
   },
   "source": [
    "### val 평가"
   ]
  },
  {
   "cell_type": "code",
   "execution_count": 0,
   "metadata": {
    "colab": {},
    "colab_type": "code",
    "id": "wTOudcLGcL-m"
   },
   "outputs": [],
   "source": [
    "model.evaluate(val_dataset)"
   ]
  },
  {
   "cell_type": "markdown",
   "metadata": {
    "colab_type": "text",
    "id": "n_c7KBogqqD_"
   },
   "source": [
    "### test 예측 및 submit 생성"
   ]
  },
  {
   "cell_type": "code",
   "execution_count": 0,
   "metadata": {
    "colab": {},
    "colab_type": "code",
    "id": "TijPbzeoeCSj"
   },
   "outputs": [],
   "source": [
    "def submit(pred, name):\n",
    "    submission = pd.read_csv(os.path.join(data_path, 'sample_submission.csv'))\n",
    "    submission.iloc[:, 1:] = pred.reshape(-1, 1600)\n",
    "\n",
    "    submission.to_csv(os.path.join(submit_path, f'{name}.csv'), index = False)"
   ]
  },
  {
   "cell_type": "code",
   "execution_count": 0,
   "metadata": {
    "colab": {},
    "colab_type": "code",
    "id": "kLeEa65VcfR8"
   },
   "outputs": [],
   "source": [
    "pred = model.predict(test_dataset)\n",
    "submit(pred, 'train')"
   ]
  },
  {
   "cell_type": "markdown",
   "metadata": {
    "colab_type": "text",
    "id": "wx8J7H0TfjSo"
   },
   "source": [
    "### val 데이터 학습"
   ]
  },
  {
   "cell_type": "code",
   "execution_count": 0,
   "metadata": {
    "colab": {},
    "colab_type": "code",
    "id": "ZrTQkgscfgLM"
   },
   "outputs": [],
   "source": [
    "model.compile(loss=\"mae\", optimizer=Adam(1e-5), metrics=[maeOverFscore_keras, fscore_keras])\n",
    "\n",
    "with tf.device(tf.test.gpu_device_name()):\n",
    "    history = model.fit(val_dataset, epochs=3, verbose=1)"
   ]
  },
  {
   "cell_type": "code",
   "execution_count": null,
   "metadata": {},
   "outputs": [],
   "source": [
    "pred = model.predict(test_dataset)\n",
    "submit(pred, 'train+val')"
   ]
  },
  {
   "cell_type": "markdown",
   "metadata": {},
   "source": [
    "## 메일 보내기"
   ]
  },
  {
   "cell_type": "code",
   "execution_count": 8,
   "metadata": {},
   "outputs": [],
   "source": [
    "mail = Mail(\"rhkd865@gmail.com\", \"\")\n",
    "\n",
    "mail.send(\"rhkd865@gmail.com\", \"AIFrenz2\", \"Finished DL\")\n",
    "mail.send(\"rhkd865@naver.com\", \"AIFrenz2\", \"Finished DL\")\n",
    "\n",
    "mail.close()"
   ]
  }
 ],
 "metadata": {
  "colab": {
   "authorship_tag": "ABX9TyNBXpJfRGaZ4iosJpe+2jae",
   "collapsed_sections": [],
   "mount_file_id": "1P4Mcer3_wS0VC3DqbVSaFmtGyyA8fRZV",
   "name": "DL_baseline",
   "provenance": []
  },
  "kernelspec": {
   "display_name": "Python 3",
   "language": "python",
   "name": "python3"
  },
  "language_info": {
   "codemirror_mode": {
    "name": "ipython",
    "version": 3
   },
   "file_extension": ".py",
   "mimetype": "text/x-python",
   "name": "python",
   "nbconvert_exporter": "python",
   "pygments_lexer": "ipython3",
   "version": "3.7.4"
  }
 },
 "nbformat": 4,
 "nbformat_minor": 1
}
