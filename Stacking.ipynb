{
 "cells": [
  {
   "cell_type": "code",
   "execution_count": 4,
   "metadata": {},
   "outputs": [],
   "source": [
    "import os\n",
    "import numpy as np\n",
    "import pandas as pd\n",
    "\n",
    "import lightgbm as lgb\n",
    "from catboost import CatBoostRegressor\n",
    "import xgboost as xgb\n",
    "\n",
    "from sklearn.linear_model import Lasso"
   ]
  },
  {
   "cell_type": "markdown",
   "metadata": {},
   "source": [
    "# Data Load"
   ]
  },
  {
   "cell_type": "code",
   "execution_count": 3,
   "metadata": {},
   "outputs": [],
   "source": [
    "base = os.getcwd()\n",
    "data_path = os.path.join(base, 'data')\n",
    "submit_path = os.path.join(base, 'submit')\n",
    "model_path = os.path.join(base, 'model')\n",
    "\n",
    "def load_data(name):\n",
    "    return np.load(os.path.join(data_path, f\"{name}.npy\"))\n",
    "\n",
    "def save_data(data, name):\n",
    "    np.save(os.path.join(data_path, f\"{name}.npy\"), data)\n",
    "\n",
    "def reshape(data):\n",
    "    return data.reshape(data.shape[0] * 40 * 40, data.shape[-1])\n",
    "\n",
    "def get_test_data():\n",
    "    return reshape(load_data('test'))"
   ]
  },
  {
   "cell_type": "code",
   "execution_count": null,
   "metadata": {},
   "outputs": [],
   "source": [
    "data = reshape(load_data('dl_train'))\n",
    "print(\"data load\")"
   ]
  },
  {
   "cell_type": "code",
   "execution_count": null,
   "metadata": {},
   "outputs": [],
   "source": [
    "X = data[:, :-1]\n",
    "Y = data[:,  -1].reshape(data.shape[0], 1)\n",
    "data = range(data.shape[0])\n",
    "print(X.shape, Y.shape)"
   ]
  },
  {
   "cell_type": "markdown",
   "metadata": {},
   "source": [
    "# lightgbm"
   ]
  },
  {
   "cell_type": "code",
   "execution_count": null,
   "metadata": {},
   "outputs": [],
   "source": [
    "lgb_clf = lgb.LGBMRegressor(boosting_type='gbdt', num_leaves=31, max_depth=- 1, learning_rate=0.01, \\\n",
    "                        n_estimators=800, subsample_for_bin=200000, objective=None, class_weight=None, \\\n",
    "                        min_split_gain=0.0, min_child_weight=0.001, min_child_samples=20, subsample=1.0, \\\n",
    "                        subsample_freq=0, colsample_bytree=1.0, reg_alpha=0.0, reg_lambda=0.0, \\\n",
    "                        random_state=7, n_jobs=- 1, silent=True, importance_type='split')"
   ]
  },
  {
   "cell_type": "code",
   "execution_count": null,
   "metadata": {},
   "outputs": [],
   "source": [
    "clf.fit(X, Y, verbose=True)\n",
    "print(\"lightbgm fit\")"
   ]
  },
  {
   "cell_type": "code",
   "execution_count": null,
   "metadata": {},
   "outputs": [],
   "source": [
    "save_data(lgb_clf.predict(X), \"lgb_train\")\n",
    "save_data(lgb_clf.predict(get_test_data()), \"lgb_test\")\n",
    "print(\"lightbgm save data\")"
   ]
  },
  {
   "cell_type": "markdown",
   "metadata": {},
   "source": [
    "# catboost"
   ]
  },
  {
   "cell_type": "code",
   "execution_count": null,
   "metadata": {},
   "outputs": [],
   "source": [
    "cat_clf = CatBoostRegressor(iterations=200, learning_rate=0.1, \\\n",
    "                        depth=4, l2_leaf_reg=20, \\\n",
    "                        bootstrap_type='Bernoulli', subsample=0.6, \\\n",
    "                        eval_metric='RMSE', metric_period=10, \\\n",
    "                        od_type='Iter', od_wait=45, random_seed=17,\\\n",
    "                        allow_writing_files=False)"
   ]
  },
  {
   "cell_type": "code",
   "execution_count": null,
   "metadata": {},
   "outputs": [],
   "source": [
    "cat_clf.fit(X, Y, \\\n",
    "        cat_features=[], verbose=True)\n",
    "print(\"catboost fit\")"
   ]
  },
  {
   "cell_type": "code",
   "execution_count": null,
   "metadata": {},
   "outputs": [],
   "source": [
    "save_data(cat_clf.predict(X), \"cat_train\")\n",
    "save_data(cat_clf.predict(get_test_data()), \"cat_test\")\n",
    "print(\"catboost save\")"
   ]
  },
  {
   "cell_type": "markdown",
   "metadata": {},
   "source": [
    "# xgboost"
   ]
  },
  {
   "cell_type": "code",
   "execution_count": null,
   "metadata": {},
   "outputs": [],
   "source": [
    "xgb_clf = xgb.XGBRegressor(max_depth=24, learning_rate=0.1, n_estimators=400, verbosity=1, silent=None, \\\n",
    "                           objective='reg:linear', booster='gbtree', n_jobs=1, nthread=None, gamma=0, \\\n",
    "                           min_child_weight=1, max_delta_step=0, subsample=1, \\\n",
    "                           colsample_bytree=1, colsample_bylevel=1, colsample_bynode=1, reg_alpha=0, reg_lambda=1, \\\n",
    "                           scale_pos_weight=1, base_score=0.5, random_state=0, seed=7, missing=None, importance_type='gain')"
   ]
  },
  {
   "cell_type": "code",
   "execution_count": null,
   "metadata": {},
   "outputs": [],
   "source": [
    "xgb_clf.fit(X, Y, \\\n",
    "            sample_weight=None, xgb_model=None, \\\n",
    "            sample_weight_eval_set=None, \\\n",
    "            verbose=True, callbacks=None)\n",
    "print(\"xgboost fit\")"
   ]
  },
  {
   "cell_type": "code",
   "execution_count": null,
   "metadata": {},
   "outputs": [],
   "source": [
    "save_data(xgb_clf.predict(X), \"xgb_train\")\n",
    "save_data(xgb_clf.predict(get_test_data()), \"xgb_test\")\n",
    "print(\"xgboost save\")"
   ]
  },
  {
   "cell_type": "markdown",
   "metadata": {},
   "source": [
    "# Stack"
   ]
  },
  {
   "cell_type": "code",
   "execution_count": null,
   "metadata": {},
   "outputs": [],
   "source": [
    "del X"
   ]
  },
  {
   "cell_type": "code",
   "execution_count": null,
   "metadata": {},
   "outputs": [],
   "source": [
    "names = [\"lgb\", \"cat\", \"xgb\"]\n",
    "types = [\"_train\", \"_test\"]\n",
    "\n",
    "def data_join(i):\n",
    "    return np.hstack((load_data(names[0] + types[i]), \\\n",
    "                      load_data(names[1] + types[i]), \\\n",
    "                      load_data(names[2] + types[i])))"
   ]
  },
  {
   "cell_type": "code",
   "execution_count": null,
   "metadata": {},
   "outputs": [],
   "source": [
    "X = data_join(0)\n",
    "stack_clf = Lasso()\n",
    "print(\"stack load \", X.shape)"
   ]
  },
  {
   "cell_type": "code",
   "execution_count": null,
   "metadata": {},
   "outputs": [],
   "source": [
    "stack_clf.fit(X, Y)\n",
    "print(\"stack fit\")"
   ]
  },
  {
   "cell_type": "code",
   "execution_count": null,
   "metadata": {},
   "outputs": [],
   "source": [
    "del X"
   ]
  },
  {
   "cell_type": "markdown",
   "metadata": {},
   "source": [
    "# Submit"
   ]
  },
  {
   "cell_type": "code",
   "execution_count": null,
   "metadata": {},
   "outputs": [],
   "source": [
    "def submit(clf, name):\n",
    "    pred = clf.predict(data_join(1))\n",
    "\n",
    "    submission = pd.read_csv(os.path.join(data_path, 'sample_submission.csv'))\n",
    "    submission.iloc[:, 1:] = pred.reshape(-1, 1600)\n",
    "\n",
    "    submission.to_csv(os.path.join(submit_path, f'{name}.csv'), index=False)"
   ]
  },
  {
   "cell_type": "code",
   "execution_count": null,
   "metadata": {},
   "outputs": [],
   "source": [
    "print(\"Submit\")\n",
    "submit(stack_clf, \"stack_lgb_cat_xgb\")"
   ]
  }
 ],
 "metadata": {
  "kernelspec": {
   "display_name": "Python 3",
   "language": "python",
   "name": "python3"
  },
  "language_info": {
   "codemirror_mode": {
    "name": "ipython",
    "version": 3
   },
   "file_extension": ".py",
   "mimetype": "text/x-python",
   "name": "python",
   "nbconvert_exporter": "python",
   "pygments_lexer": "ipython3",
   "version": "3.7.4"
  }
 },
 "nbformat": 4,
 "nbformat_minor": 2
}
