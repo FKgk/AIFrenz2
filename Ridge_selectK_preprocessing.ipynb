{
 "cells": [
  {
   "cell_type": "code",
   "execution_count": 1,
   "metadata": {},
   "outputs": [],
   "source": [
    "import os\n",
    "import numpy as np\n",
    "import matplotlib.pyplot as plt\n",
    "\n",
    "from sklearn.metrics import mean_squared_error, mean_absolute_error, f1_score, make_scorer\n",
    "from sklearn.linear_model import Ridge\n",
    "from sklearn.model_selection import train_test_split\n",
    "from sklearn.preprocessing import StandardScaler, RobustScaler\n",
    "from sklearn.decomposition import PCA\n",
    "\n",
    "from sklearn.feature_selection import SelectKBest, f_regression"
   ]
  },
  {
   "cell_type": "code",
   "execution_count": 2,
   "metadata": {},
   "outputs": [],
   "source": [
    "np.random.seed(7)"
   ]
  },
  {
   "cell_type": "markdown",
   "metadata": {},
   "source": [
    "# metrics"
   ]
  },
  {
   "cell_type": "code",
   "execution_count": 3,
   "metadata": {},
   "outputs": [],
   "source": [
    "def mae(y_true, y_pred) :\n",
    "    y_true, y_pred = np.array(y_true), np.array(y_pred)\n",
    "    \n",
    "    y_true = y_true.reshape(1, -1)[0]\n",
    "    y_pred = y_pred.reshape(1, -1)[0]\n",
    "    over_threshold = y_true >= 0.1\n",
    "    \n",
    "    return np.mean(np.abs(y_true[over_threshold] - y_pred[over_threshold]))\n",
    "\n",
    "def fscore(y_true, y_pred):\n",
    "    y_true, y_pred = np.array(y_true), np.array(y_pred)\n",
    "    \n",
    "    y_true = y_true.reshape(1, -1)[0]\n",
    "    y_pred = y_pred.reshape(1, -1)[0]\n",
    "    remove_NAs = y_true >= 0\n",
    "    \n",
    "    y_true = np.where(y_true[remove_NAs] >= 0.1, 1, 0)\n",
    "    y_pred = np.where(y_pred[remove_NAs] >= 0.1, 1, 0)\n",
    "    \n",
    "    return (f1_score(y_true, y_pred))\n",
    "\n",
    "def maeOverFscore(y_true, y_pred):\n",
    "    return mae(y_true, y_pred) / (fscore(y_true, y_pred) + 1e-07)\n",
    "\n",
    "def score(y_val, pred):\n",
    "    f_value = fscore(y_val, pred)\n",
    "    mae_value = maeOverFscore(y_val, pred)\n",
    "    \n",
    "    print(f\"fscore : {f_value} \\t maeOverFscore : {mae_value}\")\n",
    "    \n",
    "    return (f_value, mae_value)\n",
    "\n",
    "# fscore_sklearn = make_scorer(fscore)\n",
    "# maeOverFscore_sklearn = make_scorer(maeOverFscore)"
   ]
  },
  {
   "cell_type": "markdown",
   "metadata": {},
   "source": [
    "# data load"
   ]
  },
  {
   "cell_type": "code",
   "execution_count": 4,
   "metadata": {},
   "outputs": [],
   "source": [
    "base = os.getcwd()\n",
    "data_path = os.path.join(base, 'data')\n",
    "submit_path = os.path.join(base, 'submit')\n",
    "\n",
    "def load(name):\n",
    "    return np.load(os.path.join(data_path, f\"{name}.npy\"))\n",
    "\n",
    "def reshape(data):\n",
    "    return data.reshape(data.shape[0] * 40 * 40, data.shape[-1])"
   ]
  },
  {
   "cell_type": "code",
   "execution_count": 5,
   "metadata": {},
   "outputs": [],
   "source": [
    "data = load('train')"
   ]
  },
  {
   "cell_type": "markdown",
   "metadata": {},
   "source": [
    "# data seperate"
   ]
  },
  {
   "cell_type": "code",
   "execution_count": 6,
   "metadata": {},
   "outputs": [
    {
     "name": "stdout",
     "output_type": "stream",
     "text": [
      "(97286587, 14) (24321647, 14)\n"
     ]
    }
   ],
   "source": [
    "x_train, x_val, y_train, y_val = train_test_split(data[:, :-1], data[:, -1], \\\n",
    "                                                  test_size=0.2, random_state=7)\n",
    "\n",
    "del data\n",
    "print(x_train.shape, x_val.shape)"
   ]
  },
  {
   "cell_type": "markdown",
   "metadata": {},
   "source": [
    "## Select K"
   ]
  },
  {
   "cell_type": "code",
   "execution_count": 7,
   "metadata": {},
   "outputs": [],
   "source": [
    "scalers = [StandardScaler, RobustScaler, PCA]\n",
    "names = ['Standard', 'Robust', 'PCA']\n",
    "scores = dict()\n",
    "features = dict()"
   ]
  },
  {
   "cell_type": "code",
   "execution_count": 10,
   "metadata": {},
   "outputs": [
    {
     "name": "stdout",
     "output_type": "stream",
     "text": [
      "fscore : 0.26333129273321404 \t maeOverFscore : 6.577648879807171\n",
      "fscore : 0.2546803169128348 \t maeOverFscore : 6.7721025804650985\n"
     ]
    },
    {
     "name": "stderr",
     "output_type": "stream",
     "text": [
      "C:\\Users\\user\\Anaconda3\\lib\\site-packages\\sklearn\\linear_model\\ridge.py:147: LinAlgWarning: Ill-conditioned matrix (rcond=4.47911e-08): result may not be accurate.\n",
      "  overwrite_a=True).T\n"
     ]
    },
    {
     "name": "stdout",
     "output_type": "stream",
     "text": [
      "fscore : 0.25463029222094796 \t maeOverFscore : 6.773522447575874\n"
     ]
    },
    {
     "name": "stderr",
     "output_type": "stream",
     "text": [
      "C:\\Users\\user\\Anaconda3\\lib\\site-packages\\sklearn\\linear_model\\ridge.py:147: LinAlgWarning: Ill-conditioned matrix (rcond=3.89889e-08): result may not be accurate.\n",
      "  overwrite_a=True).T\n"
     ]
    },
    {
     "name": "stdout",
     "output_type": "stream",
     "text": [
      "fscore : 0.23854296442028572 \t maeOverFscore : 6.802608658905047\n",
      "fscore : 0.2622524261765739 \t maeOverFscore : 6.604275575289949\n",
      "fscore : 0.25430110974343756 \t maeOverFscore : 6.78213954975852\n",
      "fscore : 0.25454167568999303 \t maeOverFscore : 6.775671716461214\n",
      "fscore : 0.23851793072508642 \t maeOverFscore : 6.804616587953087\n",
      "fscore : 0.23565206326288407 \t maeOverFscore : 7.068881568989658\n",
      "fscore : 0.24100081408631271 \t maeOverFscore : 6.742727854122177\n",
      "fscore : 0.2267925071124892 \t maeOverFscore : 7.164313418058886\n",
      "fscore : 0.2274215024996598 \t maeOverFscore : 7.201747160420222\n"
     ]
    }
   ],
   "source": [
    "for name, f_scaler in zip(names, scalers):\n",
    "    scores[name] = dict()\n",
    "    features[name] = dict()\n",
    "\n",
    "    for i in [6, 7, 8, 9]:\n",
    "        clf = Ridge(alpha=10.0)\n",
    "        \n",
    "        scaler = f_scaler()\n",
    "        transformed_x = scaler.fit_transform(x_train)\n",
    "        \n",
    "        selectK = SelectKBest(score_func=f_regression, k=i)\n",
    "        transformed_x = selectK.fit_transform(transformed_x, y_train)\n",
    "        \n",
    "        clf.fit(transformed_x, y_train)\n",
    "        del transformed_x\n",
    "        \n",
    "        transformed_x = scaler.transform(x_val)\n",
    "        transformed_x = selectK.transform(transformed_x)\n",
    "        \n",
    "        pred = clf.predict(transformed_x)\n",
    "        \n",
    "        f_value, mae_value = score(y_val, pred)\n",
    "        \n",
    "        scores[name][i] = [f_value, mae_value]\n",
    "        features[name][i] = selectK.get_support()"
   ]
  },
  {
   "cell_type": "code",
   "execution_count": 11,
   "metadata": {},
   "outputs": [
    {
     "name": "stdout",
     "output_type": "stream",
     "text": [
      "Standard\n",
      "fscore : 0.26333129273321404 \t maeOverFscore : 6.577648879807171\n",
      "[False False  True  True  True  True  True  True False False False False\n",
      " False False]\n",
      "fscore : 0.2546803169128348 \t maeOverFscore : 6.7721025804650985\n",
      "[False False  True  True  True  True  True  True False False False False\n",
      " False  True]\n",
      "fscore : 0.25463029222094796 \t maeOverFscore : 6.773522447575874\n",
      "[False False  True  True  True  True  True  True False False False  True\n",
      " False  True]\n",
      "fscore : 0.23854296442028572 \t maeOverFscore : 6.802608658905047\n",
      "[False  True  True  True  True  True  True  True False False False  True\n",
      " False  True]\n",
      "Robust\n",
      "fscore : 0.2622524261765739 \t maeOverFscore : 6.604275575289949\n",
      "[False False  True  True  True  True  True  True False False False False\n",
      " False False]\n",
      "fscore : 0.25430110974343756 \t maeOverFscore : 6.78213954975852\n",
      "[False False  True  True  True  True  True  True False False False False\n",
      " False  True]\n",
      "fscore : 0.25454167568999303 \t maeOverFscore : 6.775671716461214\n",
      "[False False  True  True  True  True  True  True False False False  True\n",
      " False  True]\n",
      "fscore : 0.23851793072508642 \t maeOverFscore : 6.804616587953087\n",
      "[False  True  True  True  True  True  True  True False False False  True\n",
      " False  True]\n",
      "PCA\n",
      "fscore : 0.23565206326288407 \t maeOverFscore : 7.068881568989658\n",
      "[False False False  True  True  True  True  True  True False False False\n",
      " False False]\n",
      "fscore : 0.24100081408631271 \t maeOverFscore : 6.742727854122177\n",
      "[False False False  True  True  True  True  True  True False  True False\n",
      " False False]\n",
      "fscore : 0.2267925071124892 \t maeOverFscore : 7.164313418058886\n",
      "[ True False False  True  True  True  True  True  True False  True False\n",
      " False False]\n",
      "fscore : 0.2274215024996598 \t maeOverFscore : 7.201747160420222\n",
      "[ True False  True  True  True  True  True  True  True False  True False\n",
      " False False]\n"
     ]
    }
   ],
   "source": [
    "for name in names:\n",
    "    print(name)\n",
    "    for i in [6, 7, 8, 9]:\n",
    "        print(f\"fscore : {scores[name][i][0]} \\t maeOverFscore : {scores[name][i][1]}\")\n",
    "        print(features[name][i])"
   ]
  },
  {
   "cell_type": "code",
   "execution_count": null,
   "metadata": {},
   "outputs": [],
   "source": []
  },
  {
   "cell_type": "markdown",
   "metadata": {},
   "source": [
    "# Ridge alpha 12.5 SelectK 8\n",
    "- fscore : 0.25464065823329085 \t maeOverFscore : 6.752701127612951\n",
    "- fscore : 0.25458534451407944 \t maeOverFscore : 6.7528914220204515\n",
    "- fscore : 0.2545837754161434 \t maeOverFscore : 6.702930965930638\n",
    "- fscore : 0.25427823328070515 \t maeOverFscore : 6.747219104960767\n",
    "\n",
    "# Ridge alpha 10.0 SelectK 8\n",
    "- fscore : 0.25464065823329085 \t maeOverFscore : 6.752701129278926\n",
    "- fscore : 0.25458534451407944 \t maeOverFscore : 6.75289142477857\n",
    "- fscore : 0.2545837754161434 \t maeOverFscore : 6.70293096792134\n",
    "- fscore : 0.25427826739578746 \t maeOverFscore : 6.747218201741558\n",
    "\n",
    "# Ridge alpha 10.0 SelectK 8 StandardScaler\n",
    "- fscore : 0.2546402018844707 \t maeOverFscore : 6.752709268799811\n",
    "- fscore : 0.2545845515075978 \t maeOverFscore : 6.752907726649149\n",
    "- fscore : 0.2545843704403055 \t maeOverFscore : 6.702911044140701\n",
    "- fscore : 0.25427924623684933 \t maeOverFscore : 6.7471879931893675\n",
    "\n",
    "# Ridge alpha 10.0 SelectK 8 RobustScaler\n",
    "- fscore : 0.2749365314732829 \t maeOverFscore : 6.261598197378067\n",
    "- fscore : 0.2752106860272466 \t maeOverFscore : 6.2545566924636615\n",
    "- fscore : 0.27483218889350364 \t maeOverFscore : 6.215133163802377\n",
    "- fscore : 0.2744506712189898 \t maeOverFscore : 6.258121761417609\n",
    "\n",
    "# Ridge alpha 10.0 SelectK 8 PCA 2 dim\n",
    "- fscore : 0.24107474262012732 \t maeOverFscore : 8.224389019645066\n",
    "- fscore : 0.2410970325797045 \t maeOverFscore : 8.222939301354975\n",
    "- fscore : 0.24133791359125045 \t maeOverFscore : 8.159670908854318\n",
    "- fscore : 0.2408981513939592 \t maeOverFscore : 8.21528441818803\n",
    "\n",
    "# Ridge alpha 10.0 SelectK 8 PCA 1 dim\n",
    "- 0.16343634206703112 12.186417405981281\n",
    "- 0.16353559251460106 12.177879886692459\n",
    "- 0.16345101377437446 12.102961373810988\n",
    "- 0.16322487488861562 12.179870422653915"
   ]
  },
  {
   "cell_type": "markdown",
   "metadata": {},
   "source": [
    "# Train"
   ]
  },
  {
   "cell_type": "code",
   "execution_count": 16,
   "metadata": {},
   "outputs": [
    {
     "data": {
      "text/plain": [
       "Ridge(alpha=10.0, copy_X=True, fit_intercept=True, max_iter=None,\n",
       "      normalize=False, random_state=None, solver='auto', tol=0.001)"
      ]
     },
     "execution_count": 16,
     "metadata": {},
     "output_type": "execute_result"
    }
   ],
   "source": [
    "clf = Ridge(alpha=10.0)\n",
    "scaler= RobustScaler()\n",
    "\n",
    "x = scaler.fit_transform(X)\n",
    "clf.fit(x, Y)"
   ]
  },
  {
   "cell_type": "markdown",
   "metadata": {},
   "source": [
    "# Submit"
   ]
  },
  {
   "cell_type": "code",
   "execution_count": 24,
   "metadata": {},
   "outputs": [],
   "source": [
    "def submit(clf, name, features=None, scaler=None):\n",
    "    x_test = load('test')\n",
    "    x_test = reshape(x_test)\n",
    "    \n",
    "    if features is not None:\n",
    "        x_test = x_test[:, features]\n",
    "    \n",
    "    if scaler is not None:\n",
    "        x_test = scaler.transform(x_test)\n",
    "        print(\"transform\")\n",
    "    \n",
    "    pred = clf.predict(x_test)\n",
    "\n",
    "    submission = pd.read_csv(os.path.join(data_path, 'sample_submission.csv'))\n",
    "    submission.iloc[:, 1:] = pred.reshape(-1, 1600)\n",
    "\n",
    "    submission.to_csv(os.path.join(submit_path, f'{name}.csv'), index = False)"
   ]
  },
  {
   "cell_type": "code",
   "execution_count": 27,
   "metadata": {},
   "outputs": [
    {
     "name": "stdout",
     "output_type": "stream",
     "text": [
      "transform\n"
     ]
    }
   ],
   "source": [
    "submit(clf, 'Ridge_10_SelectK_8_Robust', selectK_8, scaler)"
   ]
  },
  {
   "cell_type": "markdown",
   "metadata": {},
   "source": [
    "- https://dacon.io/competitions/official/235591/mysubmission/\n",
    "- D:\\인공지능_공모전\\github\\submit"
   ]
  }
 ],
 "metadata": {
  "kernelspec": {
   "display_name": "Python 3",
   "language": "python",
   "name": "python3"
  },
  "language_info": {
   "codemirror_mode": {
    "name": "ipython",
    "version": 3
   },
   "file_extension": ".py",
   "mimetype": "text/x-python",
   "name": "python",
   "nbconvert_exporter": "python",
   "pygments_lexer": "ipython3",
   "version": "3.7.7"
  }
 },
 "nbformat": 4,
 "nbformat_minor": 2
}
