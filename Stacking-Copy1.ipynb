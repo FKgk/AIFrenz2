{
 "cells": [
  {
   "cell_type": "code",
   "execution_count": 1,
   "metadata": {},
   "outputs": [],
   "source": [
    "import os\n",
    "import numpy as np\n",
    "import pandas as pd\n",
    "from testMail import Mail\n",
    "\n",
    "import lightgbm as lgb\n",
    "from catboost import CatBoostRegressor\n",
    "import xgboost as xgb\n",
    "\n",
    "from sklearn.linear_model import Lasso"
   ]
  },
  {
   "cell_type": "code",
   "execution_count": 2,
   "metadata": {},
   "outputs": [],
   "source": [
    "mail = Mail(\"rhkd865@gmail.com\", \"drbhcuuccubulmkd\")"
   ]
  },
  {
   "cell_type": "markdown",
   "metadata": {},
   "source": [
    "# Data Load"
   ]
  },
  {
   "cell_type": "code",
   "execution_count": 5,
   "metadata": {},
   "outputs": [],
   "source": [
    "base = os.getcwd()\n",
    "data_path = os.path.join(base, 'data')\n",
    "save_data_path = os.path.join(data_path, 'sub')\n",
    "submit_path = os.path.join(base, 'submit')\n",
    "model_path = os.path.join(base, 'model')\n",
    "\n",
    "if not os.path.isdir(save_data_path):\n",
    "    os.mkdir(save_data_path)\n",
    "\n",
    "def load_data(name):\n",
    "    return np.load(os.path.join(data_path, f\"{name}.npy\"))\n",
    "\n",
    "def load_y_data(name):\n",
    "    return np.load(os.path.join(save_data_path, f\"{name}.npy\"))\n",
    "\n",
    "def save_data(data, name):\n",
    "    np.save(os.path.join(save_data_path, f\"{name}.npy\"), data)\n",
    "\n",
    "def reshape(data):\n",
    "    return data.reshape(data.shape[0] * 40 * 40, data.shape[-1])\n",
    "\n",
    "def get_test_data():\n",
    "    return reshape(load_data('test'))"
   ]
  },
  {
   "cell_type": "code",
   "execution_count": 13,
   "metadata": {},
   "outputs": [
    {
     "name": "stdout",
     "output_type": "stream",
     "text": [
      "data load\n"
     ]
    }
   ],
   "source": [
    "data = reshape(load_data('dl_train'))\n",
    "print(\"data load\")"
   ]
  },
  {
   "cell_type": "code",
   "execution_count": 14,
   "metadata": {},
   "outputs": [
    {
     "name": "stdout",
     "output_type": "stream",
     "text": [
      "(121561600, 14) (121561600, 1)\n"
     ]
    }
   ],
   "source": [
    "X = data[:, :-1]\n",
    "Y = data[:,  -1].reshape(X.shape[0], 1)\n",
    "data = range(X.shape[0])\n",
    "print(X.shape, Y.shape)"
   ]
  },
  {
   "cell_type": "markdown",
   "metadata": {},
   "source": [
    "# lightgbm"
   ]
  },
  {
   "cell_type": "code",
   "execution_count": 6,
   "metadata": {},
   "outputs": [],
   "source": [
    "lgb_clf = lgb.LGBMRegressor(boosting_type='gbdt', num_leaves=31, max_depth=- 1, learning_rate=0.01, \\\n",
    "                        n_estimators=800, subsample_for_bin=200000, objective=None, class_weight=None, \\\n",
    "                        min_split_gain=0.0, min_child_weight=0.001, min_child_samples=20, subsample=1.0, \\\n",
    "                        subsample_freq=0, colsample_bytree=1.0, reg_alpha=0.0, reg_lambda=0.0, \\\n",
    "                        random_state=7, n_jobs=- 1, silent=True, importance_type='split')"
   ]
  },
  {
   "cell_type": "code",
   "execution_count": 7,
   "metadata": {},
   "outputs": [
    {
     "name": "stderr",
     "output_type": "stream",
     "text": [
      "/home/ubuntu/anaconda3/lib/python3.7/site-packages/sklearn/utils/validation.py:760: DataConversionWarning: A column-vector y was passed when a 1d array was expected. Please change the shape of y to (n_samples, ), for example using ravel().\n",
      "  y = column_or_1d(y, warn=True)\n"
     ]
    },
    {
     "name": "stdout",
     "output_type": "stream",
     "text": [
      "lightbgm fit\n"
     ]
    }
   ],
   "source": [
    "lgb_clf.fit(X, Y, verbose=True)\n",
    "print(\"lightbgm fit\")"
   ]
  },
  {
   "cell_type": "code",
   "execution_count": 8,
   "metadata": {},
   "outputs": [
    {
     "name": "stdout",
     "output_type": "stream",
     "text": [
      "lightbgm save data\n"
     ]
    }
   ],
   "source": [
    "save_data(lgb_clf.predict(X), \"lgb_train\")\n",
    "save_data(lgb_clf.predict(get_test_data()), \"lgb_test\")\n",
    "print(\"lightbgm save data\")"
   ]
  },
  {
   "cell_type": "code",
   "execution_count": 9,
   "metadata": {},
   "outputs": [
    {
     "ename": "SMTPSenderRefused",
     "evalue": "(451, b'4.4.2 Timeout - closing connection. m25sm2313168qkg.83 - gsmtp', 'rhkd865@gmail.com')",
     "output_type": "error",
     "traceback": [
      "\u001b[0;31m---------------------------------------------------------------------------\u001b[0m",
      "\u001b[0;31mSMTPSenderRefused\u001b[0m                         Traceback (most recent call last)",
      "\u001b[0;32m<ipython-input-9-d04a4ac05c5e>\u001b[0m in \u001b[0;36m<module>\u001b[0;34m\u001b[0m\n\u001b[0;32m----> 1\u001b[0;31m \u001b[0mmail\u001b[0m\u001b[0;34m.\u001b[0m\u001b[0msend\u001b[0m\u001b[0;34m(\u001b[0m\u001b[0;34m\"rhkd865@gmail.com\"\u001b[0m\u001b[0;34m,\u001b[0m \u001b[0;34m\"AIFrenz2 LightGBM\"\u001b[0m\u001b[0;34m,\u001b[0m \u001b[0;34m\"Finished LightGBM\"\u001b[0m\u001b[0;34m)\u001b[0m\u001b[0;34m\u001b[0m\u001b[0;34m\u001b[0m\u001b[0m\n\u001b[0m\u001b[1;32m      2\u001b[0m \u001b[0mmail\u001b[0m\u001b[0;34m.\u001b[0m\u001b[0msend\u001b[0m\u001b[0;34m(\u001b[0m\u001b[0;34m\"rhkd865@naver.com\"\u001b[0m\u001b[0;34m,\u001b[0m \u001b[0;34m\"AIFrenz2 LightGBM\"\u001b[0m\u001b[0;34m,\u001b[0m \u001b[0;34m\"Finished LightGBM\"\u001b[0m\u001b[0;34m)\u001b[0m\u001b[0;34m\u001b[0m\u001b[0;34m\u001b[0m\u001b[0m\n",
      "\u001b[0;32m~/anaconda3/lib/python3.7/site-packages/testMail/__init__.py\u001b[0m in \u001b[0;36msend\u001b[0;34m(self, addrs, title, content)\u001b[0m\n\u001b[1;32m     53\u001b[0m         \u001b[0mmsg\u001b[0m\u001b[0;34m[\u001b[0m\u001b[0;34m'Subject'\u001b[0m\u001b[0;34m]\u001b[0m \u001b[0;34m=\u001b[0m \u001b[0mtitle\u001b[0m\u001b[0;34m\u001b[0m\u001b[0;34m\u001b[0m\u001b[0m\n\u001b[1;32m     54\u001b[0m \u001b[0;34m\u001b[0m\u001b[0m\n\u001b[0;32m---> 55\u001b[0;31m         \u001b[0mself\u001b[0m\u001b[0;34m.\u001b[0m\u001b[0msmtp\u001b[0m\u001b[0;34m.\u001b[0m\u001b[0msendmail\u001b[0m\u001b[0;34m(\u001b[0m\u001b[0mself\u001b[0m\u001b[0;34m.\u001b[0m\u001b[0mUSER\u001b[0m\u001b[0;34m,\u001b[0m \u001b[0maddrs\u001b[0m\u001b[0;34m,\u001b[0m \u001b[0mmsg\u001b[0m\u001b[0;34m.\u001b[0m\u001b[0mas_string\u001b[0m\u001b[0;34m(\u001b[0m\u001b[0;34m)\u001b[0m\u001b[0;34m)\u001b[0m\u001b[0;34m\u001b[0m\u001b[0;34m\u001b[0m\u001b[0m\n\u001b[0m\u001b[1;32m     56\u001b[0m \u001b[0;34m\u001b[0m\u001b[0m\n\u001b[1;32m     57\u001b[0m     \u001b[0;32mdef\u001b[0m \u001b[0mclose\u001b[0m\u001b[0;34m(\u001b[0m\u001b[0mself\u001b[0m\u001b[0;34m)\u001b[0m\u001b[0;34m:\u001b[0m\u001b[0;34m\u001b[0m\u001b[0;34m\u001b[0m\u001b[0m\n",
      "\u001b[0;32m~/anaconda3/lib/python3.7/smtplib.py\u001b[0m in \u001b[0;36msendmail\u001b[0;34m(self, from_addr, to_addrs, msg, mail_options, rcpt_options)\u001b[0m\n\u001b[1;32m    865\u001b[0m             \u001b[0;32melse\u001b[0m\u001b[0;34m:\u001b[0m\u001b[0;34m\u001b[0m\u001b[0;34m\u001b[0m\u001b[0m\n\u001b[1;32m    866\u001b[0m                 \u001b[0mself\u001b[0m\u001b[0;34m.\u001b[0m\u001b[0m_rset\u001b[0m\u001b[0;34m(\u001b[0m\u001b[0;34m)\u001b[0m\u001b[0;34m\u001b[0m\u001b[0;34m\u001b[0m\u001b[0m\n\u001b[0;32m--> 867\u001b[0;31m             \u001b[0;32mraise\u001b[0m \u001b[0mSMTPSenderRefused\u001b[0m\u001b[0;34m(\u001b[0m\u001b[0mcode\u001b[0m\u001b[0;34m,\u001b[0m \u001b[0mresp\u001b[0m\u001b[0;34m,\u001b[0m \u001b[0mfrom_addr\u001b[0m\u001b[0;34m)\u001b[0m\u001b[0;34m\u001b[0m\u001b[0;34m\u001b[0m\u001b[0m\n\u001b[0m\u001b[1;32m    868\u001b[0m         \u001b[0msenderrs\u001b[0m \u001b[0;34m=\u001b[0m \u001b[0;34m{\u001b[0m\u001b[0;34m}\u001b[0m\u001b[0;34m\u001b[0m\u001b[0;34m\u001b[0m\u001b[0m\n\u001b[1;32m    869\u001b[0m         \u001b[0;32mif\u001b[0m \u001b[0misinstance\u001b[0m\u001b[0;34m(\u001b[0m\u001b[0mto_addrs\u001b[0m\u001b[0;34m,\u001b[0m \u001b[0mstr\u001b[0m\u001b[0;34m)\u001b[0m\u001b[0;34m:\u001b[0m\u001b[0;34m\u001b[0m\u001b[0;34m\u001b[0m\u001b[0m\n",
      "\u001b[0;31mSMTPSenderRefused\u001b[0m: (451, b'4.4.2 Timeout - closing connection. m25sm2313168qkg.83 - gsmtp', 'rhkd865@gmail.com')"
     ]
    }
   ],
   "source": [
    "mail.send(\"rhkd865@gmail.com\", \"AIFrenz2 LightGBM\", \"Finished LightGBM\")\n",
    "mail.send(\"rhkd865@naver.com\", \"AIFrenz2 LightGBM\", \"Finished LightGBM\")"
   ]
  },
  {
   "cell_type": "markdown",
   "metadata": {},
   "source": [
    "# catboost"
   ]
  },
  {
   "cell_type": "code",
   "execution_count": 10,
   "metadata": {},
   "outputs": [],
   "source": [
    "cat_clf = CatBoostRegressor(iterations=500, learning_rate=0.01, \\\n",
    "                        depth=4, l2_leaf_reg=20, \\\n",
    "                        bootstrap_type='Bernoulli', subsample=0.6, \\\n",
    "                        eval_metric='MAE', metric_period=10, \\\n",
    "                        od_type='Iter', od_wait=45, random_seed=17,\\\n",
    "                        allow_writing_files=False)"
   ]
  },
  {
   "cell_type": "code",
   "execution_count": 11,
   "metadata": {},
   "outputs": [
    {
     "name": "stdout",
     "output_type": "stream",
     "text": [
      "0:\tlearn: 0.2714483\ttotal: 2.52s\tremaining: 20m 55s\n",
      "10:\tlearn: 0.2567811\ttotal: 23.6s\tremaining: 17m 30s\n",
      "20:\tlearn: 0.2443271\ttotal: 44.4s\tremaining: 16m 51s\n",
      "30:\tlearn: 0.2342386\ttotal: 1m 5s\tremaining: 16m 28s\n",
      "40:\tlearn: 0.2254261\ttotal: 1m 26s\tremaining: 16m 4s\n",
      "50:\tlearn: 0.2178833\ttotal: 1m 46s\tremaining: 15m 40s\n",
      "60:\tlearn: 0.2111871\ttotal: 2m 7s\tremaining: 15m 15s\n",
      "70:\tlearn: 0.2053922\ttotal: 2m 27s\tremaining: 14m 53s\n",
      "80:\tlearn: 0.2001924\ttotal: 2m 48s\tremaining: 14m 31s\n",
      "90:\tlearn: 0.1957180\ttotal: 3m 8s\tremaining: 14m 9s\n",
      "100:\tlearn: 0.1916865\ttotal: 3m 29s\tremaining: 13m 48s\n",
      "110:\tlearn: 0.1881214\ttotal: 3m 50s\tremaining: 13m 26s\n",
      "120:\tlearn: 0.1847778\ttotal: 4m 10s\tremaining: 13m 5s\n",
      "130:\tlearn: 0.1820089\ttotal: 4m 31s\tremaining: 12m 43s\n",
      "140:\tlearn: 0.1794553\ttotal: 4m 51s\tremaining: 12m 21s\n",
      "150:\tlearn: 0.1768213\ttotal: 5m 11s\tremaining: 12m\n",
      "160:\tlearn: 0.1743954\ttotal: 5m 32s\tremaining: 11m 39s\n",
      "170:\tlearn: 0.1721363\ttotal: 5m 51s\tremaining: 11m 17s\n",
      "180:\tlearn: 0.1696614\ttotal: 6m 12s\tremaining: 10m 56s\n",
      "190:\tlearn: 0.1678045\ttotal: 6m 32s\tremaining: 10m 35s\n",
      "200:\tlearn: 0.1658685\ttotal: 6m 53s\tremaining: 10m 15s\n",
      "210:\tlearn: 0.1642692\ttotal: 7m 13s\tremaining: 9m 54s\n",
      "220:\tlearn: 0.1627112\ttotal: 7m 33s\tremaining: 9m 33s\n",
      "230:\tlearn: 0.1614015\ttotal: 7m 53s\tremaining: 9m 11s\n",
      "240:\tlearn: 0.1601441\ttotal: 8m 14s\tremaining: 8m 51s\n",
      "250:\tlearn: 0.1589101\ttotal: 8m 35s\tremaining: 8m 31s\n",
      "260:\tlearn: 0.1577908\ttotal: 8m 56s\tremaining: 8m 11s\n",
      "270:\tlearn: 0.1568045\ttotal: 9m 17s\tremaining: 7m 50s\n",
      "280:\tlearn: 0.1557866\ttotal: 9m 37s\tremaining: 7m 30s\n",
      "290:\tlearn: 0.1549551\ttotal: 9m 57s\tremaining: 7m 9s\n",
      "300:\tlearn: 0.1540154\ttotal: 10m 18s\tremaining: 6m 48s\n",
      "310:\tlearn: 0.1532838\ttotal: 10m 38s\tremaining: 6m 28s\n",
      "320:\tlearn: 0.1525368\ttotal: 10m 59s\tremaining: 6m 7s\n",
      "330:\tlearn: 0.1517928\ttotal: 11m 19s\tremaining: 5m 46s\n",
      "340:\tlearn: 0.1512081\ttotal: 11m 39s\tremaining: 5m 26s\n",
      "350:\tlearn: 0.1505659\ttotal: 12m\tremaining: 5m 5s\n",
      "360:\tlearn: 0.1500470\ttotal: 12m 21s\tremaining: 4m 45s\n",
      "370:\tlearn: 0.1494691\ttotal: 12m 42s\tremaining: 4m 25s\n",
      "380:\tlearn: 0.1490922\ttotal: 13m 2s\tremaining: 4m 4s\n",
      "390:\tlearn: 0.1487550\ttotal: 13m 22s\tremaining: 3m 43s\n",
      "400:\tlearn: 0.1483856\ttotal: 13m 42s\tremaining: 3m 23s\n",
      "410:\tlearn: 0.1480772\ttotal: 14m 2s\tremaining: 3m 2s\n",
      "420:\tlearn: 0.1476539\ttotal: 14m 23s\tremaining: 2m 42s\n",
      "430:\tlearn: 0.1473958\ttotal: 14m 43s\tremaining: 2m 21s\n",
      "440:\tlearn: 0.1471066\ttotal: 15m 3s\tremaining: 2m\n",
      "450:\tlearn: 0.1468667\ttotal: 15m 23s\tremaining: 1m 40s\n",
      "460:\tlearn: 0.1465503\ttotal: 15m 43s\tremaining: 1m 19s\n",
      "470:\tlearn: 0.1462805\ttotal: 16m 4s\tremaining: 59.4s\n",
      "480:\tlearn: 0.1460348\ttotal: 16m 23s\tremaining: 38.9s\n",
      "490:\tlearn: 0.1458068\ttotal: 16m 44s\tremaining: 18.4s\n",
      "499:\tlearn: 0.1455698\ttotal: 17m 2s\tremaining: 0us\n",
      "catboost fit\n"
     ]
    }
   ],
   "source": [
    "cat_clf.fit(X, Y, \\\n",
    "        cat_features=[], verbose=True)\n",
    "print(\"catboost fit\")"
   ]
  },
  {
   "cell_type": "code",
   "execution_count": 12,
   "metadata": {},
   "outputs": [
    {
     "name": "stdout",
     "output_type": "stream",
     "text": [
      "catboost save\n"
     ]
    }
   ],
   "source": [
    "save_data(cat_clf.predict(X), \"cat_train\")\n",
    "save_data(cat_clf.predict(get_test_data()), \"cat_test\")\n",
    "print(\"catboost save\")"
   ]
  },
  {
   "cell_type": "code",
   "execution_count": null,
   "metadata": {},
   "outputs": [],
   "source": [
    "mail.send(\"rhkd865@gmail.com\", \"AIFrenz2 Catboost\", \"Finished Catboost\")\n",
    "mail.send(\"rhkd865@naver.com\", \"AIFrenz2 Catboost\", \"Finished Catboost\")"
   ]
  },
  {
   "cell_type": "markdown",
   "metadata": {},
   "source": [
    "# xgboost"
   ]
  },
  {
   "cell_type": "code",
   "execution_count": 13,
   "metadata": {},
   "outputs": [],
   "source": [
    "xgb_clf = xgb.XGBRegressor(max_depth=8, n_estimators=500, learning_rate=0.01,verbosity=1, silent=None, \\\n",
    "                           objective='reg:linear', booster='gbtree', n_jobs=1, nthread=None, gamma=0, \\\n",
    "                           min_child_weight=1, max_delta_step=0, subsample=1, \\\n",
    "                           colsample_bytree=1, colsample_bylevel=1, colsample_bynode=1, reg_alpha=0, reg_lambda=1, \\\n",
    "                           scale_pos_weight=1, base_score=0.5, random_state=0, seed=7, missing=None, importance_type='gain')"
   ]
  },
  {
   "cell_type": "code",
   "execution_count": null,
   "metadata": {},
   "outputs": [
    {
     "name": "stderr",
     "output_type": "stream",
     "text": [
      "/home/ubuntu/anaconda3/lib/python3.7/site-packages/xgboost/core.py:383: UserWarning: Use subset (sliced data) of np.ndarray is not recommended because it will generate extra copies and increase memory consumption\n",
      "  \"because it will generate extra copies and increase \" +\n"
     ]
    },
    {
     "name": "stdout",
     "output_type": "stream",
     "text": [
      "[12:30:31] WARNING: /workspace/src/objective/regression_obj.cu:167: reg:linear is now deprecated in favor of reg:squarederror.\n",
      "[12:30:51] WARNING: /workspace/src/gbm/gbtree.cc:138: Tree method is automatically selected to be 'approx' for faster speed. To use old behavior (exact greedy algorithm on single machine), set tree_method to 'exact'.\n"
     ]
    }
   ],
   "source": [
    "xgb_clf.fit(X, Y, \\\n",
    "            sample_weight=None, xgb_model=None, \\\n",
    "            sample_weight_eval_set=None, \\\n",
    "            verbose=True, callbacks=None)\n",
    "print(\"xgboost fit\")"
   ]
  },
  {
   "cell_type": "code",
   "execution_count": null,
   "metadata": {},
   "outputs": [],
   "source": [
    "save_data(xgb_clf.predict(X), \"xgb_train\")\n",
    "save_data(xgb_clf.predict(get_test_data()), \"xgb_test\")\n",
    "print(\"xgboost save\")"
   ]
  },
  {
   "cell_type": "code",
   "execution_count": null,
   "metadata": {},
   "outputs": [],
   "source": [
    "mail.send(\"rhkd865@gmail.com\", \"AIFrenz2 XGBoost\", \"Finished XGBoost\")\n",
    "mail.send(\"rhkd865@naver.com\", \"AIFrenz2 XGBoost\", \"Finished XGBoost\")"
   ]
  },
  {
   "cell_type": "markdown",
   "metadata": {},
   "source": [
    "# Stack"
   ]
  },
  {
   "cell_type": "code",
   "execution_count": 10,
   "metadata": {},
   "outputs": [],
   "source": [
    "names = [\"lgb\", \"cat\"]\n",
    "types = [\"_train\", \"_test\"]\n",
    "\n",
    "def data_join(i):\n",
    "    return np.hstack((load_y_data(names[0] + types[i]), \\\n",
    "                      load_y_data(names[1] + types[i]))).reshape(-1, len(names))"
   ]
  },
  {
   "cell_type": "code",
   "execution_count": 15,
   "metadata": {},
   "outputs": [
    {
     "name": "stdout",
     "output_type": "stream",
     "text": [
      "stack load \n"
     ]
    }
   ],
   "source": [
    "stack_clf = Lasso()\n",
    "print(\"stack load \")"
   ]
  },
  {
   "cell_type": "code",
   "execution_count": 16,
   "metadata": {},
   "outputs": [
    {
     "name": "stdout",
     "output_type": "stream",
     "text": [
      "stack fit\n"
     ]
    }
   ],
   "source": [
    "stack_clf.fit(data_join(0), Y)\n",
    "print(\"stack fit\")"
   ]
  },
  {
   "cell_type": "code",
   "execution_count": null,
   "metadata": {},
   "outputs": [],
   "source": [
    "mail.send(\"rhkd865@gmail.com\", \"AIFrenz2 Stacking\", \"Finished Stacking\")\n",
    "mail.send(\"rhkd865@naver.com\", \"AIFrenz2 Stacking\", \"Finished Stacking\")"
   ]
  },
  {
   "cell_type": "markdown",
   "metadata": {},
   "source": [
    "# Submit"
   ]
  },
  {
   "cell_type": "code",
   "execution_count": 17,
   "metadata": {},
   "outputs": [],
   "source": [
    "def submit(clf, name):\n",
    "    pred = clf.predict(data_join(1))\n",
    "\n",
    "    submission = pd.read_csv(os.path.join(data_path, 'sample_submission.csv'))\n",
    "    submission.iloc[:, 1:] = pred.reshape(-1, 1600)\n",
    "\n",
    "    submission.to_csv(os.path.join(submit_path, f'{name}.csv'), index=False)"
   ]
  },
  {
   "cell_type": "code",
   "execution_count": 18,
   "metadata": {},
   "outputs": [
    {
     "name": "stdout",
     "output_type": "stream",
     "text": [
      "Submit\n"
     ]
    }
   ],
   "source": [
    "print(\"Submit\")\n",
    "submit(stack_clf, \"stack_lgb_cat\")"
   ]
  },
  {
   "cell_type": "code",
   "execution_count": null,
   "metadata": {},
   "outputs": [],
   "source": [
    "mail = Mail(\"rhkd865@gmail.com\", \"drbhcuuccubulmkd\")\n",
    "mail.send(\"rhkd865@gmail.com\", \"AIFrenz2\", \"Finished Submit\")\n",
    "mail.send(\"rhkd865@naver.com\", \"AIFrenz2\", \"Finished Submit\")\n",
    "mail.close()"
   ]
  },
  {
   "cell_type": "markdown",
   "metadata": {},
   "source": [
    "# X Stack"
   ]
  },
  {
   "cell_type": "code",
   "execution_count": null,
   "metadata": {},
   "outputs": [],
   "source": [
    "data = reshape(load_data('dl_train'))\n",
    "X = data[:, :-1]\n",
    "Y = data[:,  -1].reshape(X.shape[0], 1)\n",
    "data = range(X.shape[0])\n",
    "print(X.shape, Y.shape)"
   ]
  },
  {
   "cell_type": "code",
   "execution_count": 19,
   "metadata": {},
   "outputs": [],
   "source": [
    "def data_join(i):\n",
    "    return np.hstack((X, \\\n",
    "                      load_y_data(names[0] + types[i]), \\\n",
    "                      load_y_data(names[1] + types[i]))).reshape(-1, len(names) + X.shape[-1])\n",
    "\n",
    "def submit(clf, name):\n",
    "    pred = clf.predict(data_join(1))\n",
    "\n",
    "    submission = pd.read_csv(os.path.join(data_path, 'sample_submission.csv'))\n",
    "    submission.iloc[:, 1:] = pred.reshape(-1, 1600)\n",
    "\n",
    "    submission.to_csv(os.path.join(submit_path, f'{name}.csv'), index=False)"
   ]
  },
  {
   "cell_type": "code",
   "execution_count": 22,
   "metadata": {},
   "outputs": [
    {
     "data": {
      "text/plain": [
       "(121561600, 14)"
      ]
     },
     "execution_count": 22,
     "metadata": {},
     "output_type": "execute_result"
    }
   ],
   "source": [
    "X.shape"
   ]
  },
  {
   "cell_type": "code",
   "execution_count": 21,
   "metadata": {},
   "outputs": [
    {
     "ename": "ValueError",
     "evalue": "all the input arrays must have same number of dimensions, but the array at index 0 has 2 dimension(s) and the array at index 1 has 1 dimension(s)",
     "output_type": "error",
     "traceback": [
      "\u001b[0;31m---------------------------------------------------------------------------\u001b[0m",
      "\u001b[0;31mValueError\u001b[0m                                Traceback (most recent call last)",
      "\u001b[0;32m<ipython-input-21-c6163e9ef4a1>\u001b[0m in \u001b[0;36m<module>\u001b[0;34m\u001b[0m\n\u001b[1;32m      1\u001b[0m np.hstack((X, \\\n\u001b[0;32m----> 2\u001b[0;31m            load_y_data(names[0] + types[0]))).shape\n\u001b[0m",
      "\u001b[0;32m<__array_function__ internals>\u001b[0m in \u001b[0;36mhstack\u001b[0;34m(*args, **kwargs)\u001b[0m\n",
      "\u001b[0;32m~/anaconda3/lib/python3.7/site-packages/numpy/core/shape_base.py\u001b[0m in \u001b[0;36mhstack\u001b[0;34m(tup)\u001b[0m\n\u001b[1;32m    343\u001b[0m         \u001b[0;32mreturn\u001b[0m \u001b[0m_nx\u001b[0m\u001b[0;34m.\u001b[0m\u001b[0mconcatenate\u001b[0m\u001b[0;34m(\u001b[0m\u001b[0marrs\u001b[0m\u001b[0;34m,\u001b[0m \u001b[0;36m0\u001b[0m\u001b[0;34m)\u001b[0m\u001b[0;34m\u001b[0m\u001b[0;34m\u001b[0m\u001b[0m\n\u001b[1;32m    344\u001b[0m     \u001b[0;32melse\u001b[0m\u001b[0;34m:\u001b[0m\u001b[0;34m\u001b[0m\u001b[0;34m\u001b[0m\u001b[0m\n\u001b[0;32m--> 345\u001b[0;31m         \u001b[0;32mreturn\u001b[0m \u001b[0m_nx\u001b[0m\u001b[0;34m.\u001b[0m\u001b[0mconcatenate\u001b[0m\u001b[0;34m(\u001b[0m\u001b[0marrs\u001b[0m\u001b[0;34m,\u001b[0m \u001b[0;36m1\u001b[0m\u001b[0;34m)\u001b[0m\u001b[0;34m\u001b[0m\u001b[0;34m\u001b[0m\u001b[0m\n\u001b[0m\u001b[1;32m    346\u001b[0m \u001b[0;34m\u001b[0m\u001b[0m\n\u001b[1;32m    347\u001b[0m \u001b[0;34m\u001b[0m\u001b[0m\n",
      "\u001b[0;32m<__array_function__ internals>\u001b[0m in \u001b[0;36mconcatenate\u001b[0;34m(*args, **kwargs)\u001b[0m\n",
      "\u001b[0;31mValueError\u001b[0m: all the input arrays must have same number of dimensions, but the array at index 0 has 2 dimension(s) and the array at index 1 has 1 dimension(s)"
     ]
    }
   ],
   "source": [
    "np.hstack((X, \\\n",
    "           load_y_data(names[0] + types[0]))).shape"
   ]
  },
  {
   "cell_type": "code",
   "execution_count": 20,
   "metadata": {},
   "outputs": [
    {
     "ename": "ValueError",
     "evalue": "all the input arrays must have same number of dimensions, but the array at index 0 has 2 dimension(s) and the array at index 1 has 1 dimension(s)",
     "output_type": "error",
     "traceback": [
      "\u001b[0;31m---------------------------------------------------------------------------\u001b[0m",
      "\u001b[0;31mValueError\u001b[0m                                Traceback (most recent call last)",
      "\u001b[0;32m<ipython-input-20-74cae66e8add>\u001b[0m in \u001b[0;36m<module>\u001b[0;34m\u001b[0m\n\u001b[1;32m      1\u001b[0m \u001b[0mstack_clf\u001b[0m \u001b[0;34m=\u001b[0m \u001b[0mLasso\u001b[0m\u001b[0;34m(\u001b[0m\u001b[0;34m)\u001b[0m\u001b[0;34m\u001b[0m\u001b[0;34m\u001b[0m\u001b[0m\n\u001b[0;32m----> 2\u001b[0;31m \u001b[0mstack_clf\u001b[0m\u001b[0;34m.\u001b[0m\u001b[0mfit\u001b[0m\u001b[0;34m(\u001b[0m\u001b[0mdata_join\u001b[0m\u001b[0;34m(\u001b[0m\u001b[0;36m0\u001b[0m\u001b[0;34m)\u001b[0m\u001b[0;34m,\u001b[0m \u001b[0mY\u001b[0m\u001b[0;34m)\u001b[0m\u001b[0;34m\u001b[0m\u001b[0;34m\u001b[0m\u001b[0m\n\u001b[0m",
      "\u001b[0;32m<ipython-input-19-9a2f7310c198>\u001b[0m in \u001b[0;36mdata_join\u001b[0;34m(i)\u001b[0m\n\u001b[1;32m      2\u001b[0m     return np.hstack((X, \\\n\u001b[1;32m      3\u001b[0m                       \u001b[0mload_y_data\u001b[0m\u001b[0;34m(\u001b[0m\u001b[0mnames\u001b[0m\u001b[0;34m[\u001b[0m\u001b[0;36m0\u001b[0m\u001b[0;34m]\u001b[0m \u001b[0;34m+\u001b[0m \u001b[0mtypes\u001b[0m\u001b[0;34m[\u001b[0m\u001b[0mi\u001b[0m\u001b[0;34m]\u001b[0m\u001b[0;34m)\u001b[0m\u001b[0;34m,\u001b[0m\u001b[0;31m \u001b[0m\u001b[0;31m\\\u001b[0m\u001b[0;34m\u001b[0m\u001b[0;34m\u001b[0m\u001b[0m\n\u001b[0;32m----> 4\u001b[0;31m                       load_y_data(names[1] + types[i]))).reshape(-1, len(names) + X.shape[-1])\n\u001b[0m\u001b[1;32m      5\u001b[0m \u001b[0;34m\u001b[0m\u001b[0m\n\u001b[1;32m      6\u001b[0m \u001b[0;32mdef\u001b[0m \u001b[0msubmit\u001b[0m\u001b[0;34m(\u001b[0m\u001b[0mclf\u001b[0m\u001b[0;34m,\u001b[0m \u001b[0mname\u001b[0m\u001b[0;34m)\u001b[0m\u001b[0;34m:\u001b[0m\u001b[0;34m\u001b[0m\u001b[0;34m\u001b[0m\u001b[0m\n",
      "\u001b[0;32m<__array_function__ internals>\u001b[0m in \u001b[0;36mhstack\u001b[0;34m(*args, **kwargs)\u001b[0m\n",
      "\u001b[0;32m~/anaconda3/lib/python3.7/site-packages/numpy/core/shape_base.py\u001b[0m in \u001b[0;36mhstack\u001b[0;34m(tup)\u001b[0m\n\u001b[1;32m    343\u001b[0m         \u001b[0;32mreturn\u001b[0m \u001b[0m_nx\u001b[0m\u001b[0;34m.\u001b[0m\u001b[0mconcatenate\u001b[0m\u001b[0;34m(\u001b[0m\u001b[0marrs\u001b[0m\u001b[0;34m,\u001b[0m \u001b[0;36m0\u001b[0m\u001b[0;34m)\u001b[0m\u001b[0;34m\u001b[0m\u001b[0;34m\u001b[0m\u001b[0m\n\u001b[1;32m    344\u001b[0m     \u001b[0;32melse\u001b[0m\u001b[0;34m:\u001b[0m\u001b[0;34m\u001b[0m\u001b[0;34m\u001b[0m\u001b[0m\n\u001b[0;32m--> 345\u001b[0;31m         \u001b[0;32mreturn\u001b[0m \u001b[0m_nx\u001b[0m\u001b[0;34m.\u001b[0m\u001b[0mconcatenate\u001b[0m\u001b[0;34m(\u001b[0m\u001b[0marrs\u001b[0m\u001b[0;34m,\u001b[0m \u001b[0;36m1\u001b[0m\u001b[0;34m)\u001b[0m\u001b[0;34m\u001b[0m\u001b[0;34m\u001b[0m\u001b[0m\n\u001b[0m\u001b[1;32m    346\u001b[0m \u001b[0;34m\u001b[0m\u001b[0m\n\u001b[1;32m    347\u001b[0m \u001b[0;34m\u001b[0m\u001b[0m\n",
      "\u001b[0;32m<__array_function__ internals>\u001b[0m in \u001b[0;36mconcatenate\u001b[0;34m(*args, **kwargs)\u001b[0m\n",
      "\u001b[0;31mValueError\u001b[0m: all the input arrays must have same number of dimensions, but the array at index 0 has 2 dimension(s) and the array at index 1 has 1 dimension(s)"
     ]
    }
   ],
   "source": [
    "stack_clf = Lasso()\n",
    "stack_clf.fit(data_join(0), Y)"
   ]
  },
  {
   "cell_type": "code",
   "execution_count": null,
   "metadata": {},
   "outputs": [],
   "source": [
    "submit(stack_clf, \"stack_x_lgb_cat\")"
   ]
  },
  {
   "cell_type": "code",
   "execution_count": null,
   "metadata": {},
   "outputs": [],
   "source": [
    "mail = Mail(\"rhkd865@gmail.com\", \"drbhcuuccubulmkd\")\n",
    "mail.send(\"rhkd865@gmail.com\", \"AIFrenz2\", \"Finished X_Stack Submit\")\n",
    "mail.send(\"rhkd865@naver.com\", \"AIFrenz2\", \"Finished X_Stack Submit\")\n",
    "mail.close()"
   ]
  }
 ],
 "metadata": {
  "kernelspec": {
   "display_name": "Python 3",
   "language": "python",
   "name": "python3"
  },
  "language_info": {
   "codemirror_mode": {
    "name": "ipython",
    "version": 3
   },
   "file_extension": ".py",
   "mimetype": "text/x-python",
   "name": "python",
   "nbconvert_exporter": "python",
   "pygments_lexer": "ipython3",
   "version": "3.7.7"
  }
 },
 "nbformat": 4,
 "nbformat_minor": 2
}
