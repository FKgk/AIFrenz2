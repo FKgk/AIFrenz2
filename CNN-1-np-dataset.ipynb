{
 "cells": [
  {
   "cell_type": "code",
   "execution_count": 1,
   "metadata": {
    "colab": {
     "base_uri": "https://localhost:8080/",
     "height": 108
    },
    "colab_type": "code",
    "executionInfo": {
     "elapsed": 6470,
     "status": "ok",
     "timestamp": 1587037689483,
     "user": {
      "displayName": "김광호",
      "photoUrl": "",
      "userId": "02810039257948901406"
     },
     "user_tz": -540
    },
    "id": "hUs6xtyznJvU",
    "outputId": "ca4aef78-a89c-4c9b-b16a-3eab0acbf2e4"
   },
   "outputs": [],
   "source": [
    "import os\n",
    "import numpy as np\n",
    "import pandas as pd\n",
    "\n",
    "from sklearn.model_selection import KFold\n",
    "from sklearn.metrics import mean_squared_error, mean_absolute_error, f1_score\n",
    "from testMail import Mail\n",
    "\n",
    "import tensorflow as tf\n",
    "from tensorflow.keras.layers import Dense, Conv2D, Dropout, Conv2DTranspose, MaxPooling2D, BatchNormalization, Activation, concatenate, Input, GlobalAveragePooling2D\n",
    "from tensorflow.keras.losses import mean_squared_error, mean_absolute_error\n",
    "from tensorflow.keras.callbacks import ModelCheckpoint\n",
    "from tensorflow.keras.optimizers import Adam\n",
    "from tensorflow.keras.regularizers import l1\n",
    "from tensorflow.keras import Model"
   ]
  },
  {
   "cell_type": "code",
   "execution_count": 2,
   "metadata": {
    "colab": {
     "base_uri": "https://localhost:8080/",
     "height": 52
    },
    "colab_type": "code",
    "executionInfo": {
     "elapsed": 6457,
     "status": "ok",
     "timestamp": 1587037689484,
     "user": {
      "displayName": "김광호",
      "photoUrl": "",
      "userId": "02810039257948901406"
     },
     "user_tz": -540
    },
    "id": "X0WsMcAiqb1G",
    "outputId": "dbb3054c-a1f7-4cfb-86e6-c7b685fb43a4"
   },
   "outputs": [
    {
     "name": "stdout",
     "output_type": "stream",
     "text": [
      "2.2.0-rc3\n",
      "/device:GPU:0\n"
     ]
    }
   ],
   "source": [
    "print(tf.__version__)\n",
    "print(tf.test.gpu_device_name())\n",
    "# tf.debugging.set_log_device_placement(True)"
   ]
  },
  {
   "cell_type": "markdown",
   "metadata": {},
   "source": [
    "# 경로 설정"
   ]
  },
  {
   "cell_type": "code",
   "execution_count": 3,
   "metadata": {},
   "outputs": [],
   "source": [
    "filename = 'CNN_1'\n",
    "\n",
    "base = os.getcwd()\n",
    "data_path = os.path.join(base, 'data')\n",
    "train_path = os.path.join(data_path, 'train')\n",
    "test_path = os.path.join(data_path, 'test')\n",
    "submit_path = os.path.join(base, 'submit')\n",
    "model_path = os.path.join(base, 'model', filename)\n",
    "callback_path = os.path.join(base, 'callback', filename)\n",
    "\n",
    "if not os.path.isdir(model_path):\n",
    "    os.mkdir(model_path)\n",
    "\n",
    "if not os.path.isdir(callback_path):\n",
    "    os.mkdir(callback_path)\n",
    "\n",
    "def load(name):\n",
    "    return np.load(os.path.join(data_path, \"{}.npy\".format(name)))"
   ]
  },
  {
   "cell_type": "markdown",
   "metadata": {
    "colab_type": "text",
    "id": "feDC4GUTq06W"
   },
   "source": [
    "# 데이터 로드"
   ]
  },
  {
   "cell_type": "code",
   "execution_count": 5,
   "metadata": {},
   "outputs": [],
   "source": [
    "data = load('dl_train')"
   ]
  },
  {
   "cell_type": "markdown",
   "metadata": {
    "colab_type": "text",
    "id": "mpENHCUesufO"
   },
   "source": [
    "# metrics 설정"
   ]
  },
  {
   "cell_type": "code",
   "execution_count": 6,
   "metadata": {
    "colab": {},
    "colab_type": "code",
    "id": "5Zwo_OfLqb4W"
   },
   "outputs": [],
   "source": [
    "np.random.seed(7)\n",
    "tf.random.set_seed(7)\n",
    "# tf.random.set_random_seed(7)"
   ]
  },
  {
   "cell_type": "code",
   "execution_count": 7,
   "metadata": {
    "colab": {},
    "colab_type": "code",
    "id": "w7DCNnEmqb9_"
   },
   "outputs": [],
   "source": [
    "def mae(y_true, y_pred) :\n",
    "    y_true, y_pred = np.array(y_true), np.array(y_pred)\n",
    "    \n",
    "    y_true = y_true.reshape(1, -1)[0]\n",
    "    y_pred = y_pred.reshape(1, -1)[0]\n",
    "    over_threshold = y_true >= 0.1\n",
    "    \n",
    "    return np.mean(np.abs(y_true[over_threshold] - y_pred[over_threshold]))\n",
    "\n",
    "def fscore(y_true, y_pred):\n",
    "    y_true, y_pred = np.array(y_true), np.array(y_pred)\n",
    "    \n",
    "    y_true = y_true.reshape(1, -1)[0]\n",
    "    y_pred = y_pred.reshape(1, -1)[0]\n",
    "    remove_NAs = y_true >= 0\n",
    "    \n",
    "    y_true = np.where(y_true[remove_NAs] >= 0.1, 1, 0)\n",
    "    y_pred = np.where(y_pred[remove_NAs] >= 0.1, 1, 0)\n",
    "    \n",
    "    return(f1_score(y_true, y_pred))\n",
    "\n",
    "def maeOverFscore(y_true, y_pred):\n",
    "    return mae(y_true, y_pred) / (fscore(y_true, y_pred) + 1e-07)\n",
    "\n",
    "def fscore_keras(y_true, y_pred):\n",
    "    score = tf.py_function(func=fscore, inp=[y_true, y_pred], Tout=tf.float32, name='fscore_keras')\n",
    "    return score\n",
    "\n",
    "def maeOverFscore_keras(y_true, y_pred):\n",
    "    score = tf.py_function(func=maeOverFscore, inp=[y_true, y_pred], Tout=tf.float32,  name='custom_mse') \n",
    "    return score\n",
    "\n",
    "def score(y_val, pred):\n",
    "    f_value = fscore(y_val, pred)\n",
    "    mae_value = maeOverFscore(y_val, pred)\n",
    "    \n",
    "    print(\"fscore : {} \\t maeOverFscore : {}\".format(f_value, mae_value))\n",
    "    \n",
    "    return (f_value, mae_value)"
   ]
  },
  {
   "cell_type": "markdown",
   "metadata": {
    "colab_type": "text",
    "id": "HPcP_H_Jqx3e"
   },
   "source": [
    "## 학습 시각화"
   ]
  },
  {
   "cell_type": "code",
   "execution_count": 8,
   "metadata": {
    "colab": {},
    "colab_type": "code",
    "id": "a5iXmv2_qcOa"
   },
   "outputs": [],
   "source": [
    "def visual_train(history):\n",
    "    hist = history.history\n",
    "    fig, ax = plt.subplots(1,3, figsize=(24,8))\n",
    "\n",
    "    for i, key in enumerate(hist.keys()):\n",
    "        ax[i].set_title(key)\n",
    "        ax[i].plot(range(1, len(hist[key]) + 1), hist[key], 'b')\n",
    "        ax[i].set_xlabel('epoch')\n",
    "        ax[i].set_ylabel(key.split('_')[0])\n",
    "#         ax[i].legend(loc='upper left')"
   ]
  },
  {
   "cell_type": "markdown",
   "metadata": {},
   "source": [
    "# 콜백 설정"
   ]
  },
  {
   "cell_type": "code",
   "execution_count": 9,
   "metadata": {},
   "outputs": [],
   "source": [
    "def create_checkpoint_weights(name):\n",
    "    checkpoint_path = os.path.join(callback_path, \"{}.ckpt\".format(name))\n",
    "    \n",
    "    return ModelCheckpoint(checkpoint_path,\n",
    "                           save_weights_only=True,\n",
    "                           verbose=1)"
   ]
  },
  {
   "cell_type": "markdown",
   "metadata": {
    "colab_type": "text",
    "id": "cYFIWmrMqu4I"
   },
   "source": [
    "# 모델 설계"
   ]
  },
  {
   "cell_type": "code",
   "execution_count": 10,
   "metadata": {
    "colab": {},
    "colab_type": "code",
    "id": "M1TfYEgmqcGN",
    "scrolled": false
   },
   "outputs": [],
   "source": [
    "def build_model(dropout=0.25, l1_value=0.01):\n",
    "    input_layer = Input((40, 40, 14))\n",
    "\n",
    "    # 40 x 40 -> 20 x 20\n",
    "    out1_1 = Conv2D(32, (1, 1), activation=\"relu\", padding=\"same\")(input_layer)\n",
    "    out1_2 = Conv2D(32, (2, 2), activation=\"relu\", padding=\"same\")(input_layer)\n",
    "    out1_3 = Conv2D(32, (3, 3), activation=\"relu\", padding=\"same\")(input_layer)\n",
    "\n",
    "    out1 = concatenate([out1_1, out1_2, out1_3])\n",
    "    out1 = BatchNormalization()(out1)\n",
    "    out1 = MaxPooling2D(2, 2)(out1)\n",
    "    out1 = Dropout(dropout)(out1)\n",
    "#     print(\"out1 :\", out1.shape)\n",
    "\n",
    "\n",
    "    # 20 * 20 -> 10 * 10\n",
    "    out2_1 = Conv2D(32, (1, 1), activation=\"relu\", padding=\"same\")(out1)\n",
    "    out2_2 = Conv2D(64, (2, 2), activation=\"relu\", padding=\"same\")(out1)\n",
    "    out2_3 = Conv2D(64, (3, 3), activation=\"relu\", padding=\"same\")(out1)\n",
    "    \n",
    "    out2 = concatenate([out2_1, out2_2, out2_3])\n",
    "    out2 = BatchNormalization()(out2)\n",
    "    out2 = Dropout(dropout)(out2)\n",
    "\n",
    "    out2 = Conv2D(96, (3,3), padding=\"same\", activation='relu', kernel_regularizer=l1(l1_value))(out2)\n",
    "    out2 = BatchNormalization()(out2)\n",
    "    \n",
    "    out2 = concatenate([out2, out2_1, out2_2, out2_3])\n",
    "    out2 = MaxPooling2D(2, 2)(out2)\n",
    "    out2 = Dropout(dropout)(out2)\n",
    "#     print(\"out2 :\", out2.shape)\n",
    "    \n",
    "    \n",
    "    # 10 * 10\n",
    "    conv1 = Conv2D(16, (1, 1), activation=\"relu\", padding=\"same\")(out2)\n",
    "    conv2 = Conv2D(32, (2, 2), activation=\"relu\", padding=\"same\")(out2)\n",
    "    conv3 = Conv2D(32, (3, 3), activation=\"relu\", padding=\"same\")(out2)\n",
    "\n",
    "    conv = concatenate([conv1, conv2, conv3])\n",
    "    conv = BatchNormalization()(conv)\n",
    "    conv = Dropout(dropout)(conv)\n",
    "    \n",
    "    conv = Conv2D(48, (3,3), padding=\"same\", activation='relu', kernel_regularizer=l1(l1_value))(conv)\n",
    "    conv = BatchNormalization()(conv)\n",
    "    \n",
    "    conv = concatenate([conv, conv1, conv2, conv3])\n",
    "    conv = Dropout(dropout)(conv)\n",
    "#     print(\"conv :\", conv.shape)\n",
    "\n",
    "    \n",
    "    # 10 * 10 -> 20 * 20\n",
    "    out3_1 = Conv2DTranspose(32, (1,1), strides=(2, 2), padding='same')(conv)\n",
    "    out3_2 = Conv2DTranspose(64, (2,2), strides=(2, 2), padding='same')(conv)\n",
    "    out3_3 = Conv2DTranspose(64, (3,3), strides=(2, 2), padding='same')(conv)\n",
    "    \n",
    "    out3 = concatenate([out3_1, out3_2, out3_3, out2_1, out2_2, out2_3])\n",
    "    out3 = BatchNormalization()(out3)\n",
    "    out3 = Dropout(dropout)(out3)\n",
    "    \n",
    "    out3 = Conv2D(64, (3,3), padding=\"same\", activation='relu', kernel_regularizer=l1(l1_value))(out3)\n",
    "    out3 = BatchNormalization()(out3)\n",
    "    \n",
    "    out3 = concatenate([out3, out3_1, out3_2, out3_3, out2_1])\n",
    "    out3 = Dropout(dropout)(out3)\n",
    "#     print(\"out3 :\", out3.shape)\n",
    "    \n",
    "    \n",
    "    # 20 * 20 -> 40 * 40\n",
    "    out4_1 = Conv2DTranspose(16, (1,1), strides=(2, 2), padding='same')(out3)\n",
    "    out4_2 = Conv2DTranspose(32, (2,2), strides=(2, 2), padding='same')(out3)\n",
    "    out4_3 = Conv2DTranspose(32, (3,3), strides=(2, 2), padding='same')(out3)\n",
    "\n",
    "    out4 = concatenate([out4_1, out4_2, out4_3, out1_1, out1_2, out1_3])\n",
    "    out4 = BatchNormalization()(out4)\n",
    "    out4 = Dropout(dropout)(out4)\n",
    "    \n",
    "    out4 = Conv2D(32, (3,3), padding=\"same\", activation='relu', kernel_regularizer=l1(l1_value))(out4)\n",
    "    out4 = BatchNormalization()(out4)\n",
    "\n",
    "    out4 = concatenate([out4, out4_1, out4_2, out4_3, out1_1])\n",
    "    out4 = Dropout(dropout)(out4)\n",
    "#     print(\"out4 :\", out4.shape)\n",
    "    \n",
    "    output_layer = Conv2D(1, (1,1), padding=\"same\", activation='relu', kernel_regularizer=l1(l1_value))(out4)\n",
    "#     print(\"output : \", output_layer.shape)\n",
    "    \n",
    "    return Model(input_layer, output_layer)"
   ]
  },
  {
   "cell_type": "markdown",
   "metadata": {},
   "source": [
    "# 하이퍼 파라미터"
   ]
  },
  {
   "cell_type": "code",
   "execution_count": 11,
   "metadata": {},
   "outputs": [],
   "source": [
    "epochs=10\n",
    "learning_rate=1e-4\n",
    "batch_size=512\n",
    "shuffle=True"
   ]
  },
  {
   "cell_type": "markdown",
   "metadata": {},
   "source": [
    "# 모델 생성"
   ]
  },
  {
   "cell_type": "code",
   "execution_count": 12,
   "metadata": {
    "colab": {},
    "colab_type": "code",
    "id": "nXA3F4WgqcI3"
   },
   "outputs": [],
   "source": [
    "# with tf.device(tf.test.gpu_device_name()):\n",
    "model = build_model()\n",
    "model.compile(loss=mean_absolute_error, optimizer=Adam(learning_rate), metrics=[maeOverFscore_keras, fscore_keras])"
   ]
  },
  {
   "cell_type": "markdown",
   "metadata": {},
   "source": [
    "# 모델 학습"
   ]
  },
  {
   "cell_type": "code",
   "execution_count": null,
   "metadata": {
    "colab": {
     "base_uri": "https://localhost:8080/",
     "height": 124
    },
    "colab_type": "code",
    "executionInfo": {
     "elapsed": 260854,
     "status": "ok",
     "timestamp": 1587027784374,
     "user": {
      "displayName": "김광호",
      "photoUrl": "",
      "userId": "02810039257948901406"
     },
     "user_tz": -540
    },
    "id": "blVduBxpqcLg",
    "outputId": "1d10e75e-200f-4a39-b049-8bcf2d6ea91a",
    "scrolled": false
   },
   "outputs": [],
   "source": [
    "historys = list()\n",
    "\n",
    "with tf.device(tf.test.gpu_device_name()):\n",
    "    kfold = KFold(n_splits=4, random_state=7, shuffle=True)\n",
    "    \n",
    "    for i, (train_idx, val_idx) in enumerate(kfold.split(data)):\n",
    "        print(\"{} : train\".format(i))\n",
    "        x_train = data[train_idx, :, :, :-1]\n",
    "        y_train = data[train_idx, :, :,  -1].reshape(x_train.shape[0], 40, 40, 1)\n",
    "        \n",
    "        x_val = data[val_idx, :, :, :-1]\n",
    "        y_val = data[val_idx, :, :,  -1].reshape(x_val.shape[0], 40, 40, 1)\n",
    "        \n",
    "        cp_callback = create_checkpoint_weights(\"train_{}\".format(i))\n",
    "        \n",
    "        history = model.fit(x=x_train, y=y_train, validation_data=(x_val, y_val), \\\n",
    "                            epochs=epochs, batch_size=batch_size, shuffle=shuffle, \\\n",
    "                            callbacks = [cp_callback], \\\n",
    "                            verbose=1, use_multiprocessing=True)\n",
    "        \n",
    "        historys.append(history)\n",
    "        visual_train(history)"
   ]
  },
  {
   "cell_type": "markdown",
   "metadata": {
    "colab_type": "text",
    "id": "ClufuVCHHG14"
   },
   "source": [
    "### 학습 시간\n",
    "- 1 epochs : 2543s (42m)\n",
    "- 2 epochs : 2549s "
   ]
  },
  {
   "cell_type": "code",
   "execution_count": null,
   "metadata": {},
   "outputs": [],
   "source": [
    "for history in historys:\n",
    "    visual_train(history)"
   ]
  },
  {
   "cell_type": "markdown",
   "metadata": {
    "colab_type": "text",
    "id": "pPdNxUpMRBdE"
   },
   "source": [
    "## 재 학습"
   ]
  },
  {
   "cell_type": "code",
   "execution_count": null,
   "metadata": {},
   "outputs": [],
   "source": [
    "epochs=6\n",
    "learning_rate=1e-4"
   ]
  },
  {
   "cell_type": "code",
   "execution_count": null,
   "metadata": {},
   "outputs": [],
   "source": [
    "with tf.device(tf.test.gpu_device_name()):\n",
    "    model = build_model(start_neurons)\n",
    "    model.compile(loss=mean_absolute_error, optimizer=Adam(learning_rate), metrics=[maeOverFscore_keras, fscore_keras])\n",
    "    \n",
    "    cp_callback = create_checkpoint_weights(\"test\")\n",
    "    \n",
    "    history = model.fit(x=data[:, :, :, :-1], y=data[:, :, :, -1].reshape(data.shape[0], 40, 40, 1), \\\n",
    "                        epochs=epochs, batch_size=batch_size, shuffle=shuffle, \\\n",
    "                        callbacks = [cp_callback], \\\n",
    "                        verbose=1, use_multiprocessing=True)\n",
    "    \n",
    "visual_train(history)"
   ]
  },
  {
   "cell_type": "markdown",
   "metadata": {},
   "source": [
    "# submit 생성"
   ]
  },
  {
   "cell_type": "code",
   "execution_count": null,
   "metadata": {
    "colab": {},
    "colab_type": "code",
    "id": "TijPbzeoeCSj"
   },
   "outputs": [],
   "source": [
    "def submit(model, name):\n",
    "    test_data = load('test')\n",
    "    pred = model.predict(test_data)\n",
    "\n",
    "    submission = pd.read_csv(os.path.join(data_path, 'sample_submission.csv'))\n",
    "    submission.iloc[:, 1:] = pred.reshape(-1, 1600)\n",
    "\n",
    "    submission.to_csv(os.path.join(submit_path, \"{}.csv\".format(name)), index=False)"
   ]
  },
  {
   "cell_type": "code",
   "execution_count": null,
   "metadata": {
    "colab": {},
    "colab_type": "code",
    "id": "kLeEa65VcfR8"
   },
   "outputs": [],
   "source": [
    "submit(model, filename)\n",
    "model.save(os.path.join(model_path, \"{}.h5\".format(filename)))"
   ]
  },
  {
   "cell_type": "markdown",
   "metadata": {
    "colab_type": "text",
    "id": "wx8J7H0TfjSo"
   },
   "source": [
    "# 메일 보내기"
   ]
  },
  {
   "cell_type": "code",
   "execution_count": null,
   "metadata": {},
   "outputs": [],
   "source": [
    "mail = Mail(\"rhkd865@gmail.com\", \"drbhcuuccubulmkd\")\n",
    "\n",
    "mail.send(\"rhkd865@gmail.com\", \"AIFrenz2\", \"Finished DL\")\n",
    "mail.send(\"rhkd865@naver.com\", \"AIFrenz2\", \"Finished DL\")\n",
    "\n",
    "mail.close()"
   ]
  }
 ],
 "metadata": {
  "colab": {
   "authorship_tag": "ABX9TyNBXpJfRGaZ4iosJpe+2jae",
   "collapsed_sections": [],
   "mount_file_id": "1P4Mcer3_wS0VC3DqbVSaFmtGyyA8fRZV",
   "name": "DL_baseline",
   "provenance": []
  },
  "kernelspec": {
   "display_name": "Python 3",
   "language": "python",
   "name": "python3"
  },
  "language_info": {
   "codemirror_mode": {
    "name": "ipython",
    "version": 3
   },
   "file_extension": ".py",
   "mimetype": "text/x-python",
   "name": "python",
   "nbconvert_exporter": "python",
   "pygments_lexer": "ipython3",
   "version": "3.7.4"
  }
 },
 "nbformat": 4,
 "nbformat_minor": 1
}
